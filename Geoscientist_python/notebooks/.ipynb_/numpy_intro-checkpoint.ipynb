{
 "cells": [
  {
   "cell_type": "markdown",
   "metadata": {
    "slideshow": {
     "slide_type": "slide"
    },
    "tags": []
   },
   "source": [
    "![Numpy logo](../images/numpy_logo.png)\n",
    "\n",
    "# Numpy intro\n",
    "\n",
    "Numpy is a Python library for scientific computing which provides routines to handle large data in a fast way, like operations on multidimensional arrays. \n",
    "\n",
    "It contains a set of routines for different operations: \n",
    "\n",
    "- read/write files\n",
    "- mathematical\n",
    "- linear algebraic\n",
    "- logical\n",
    "- random data\n",
    "- statistical\n",
    "- sorting\n",
    "- selecting\n",
    "- FFTs\n",
    "\n",
    "with a large number of functions in the field of linear algebra, Fourier transform, random number capabilities, boolean masks, and efficient handling of N-dimensional arrays. \n",
    "\n",
    "To get more informations about Numpy see https://numpy.org/.\n",
    "\n",
    "## Content:\n",
    "* [Import numpy](#import)\n",
    "* [Arrays](#arrays)\n",
    "* [Create an array](#create-array)\n",
    "* [Convert lists to arrays](#list-array)\n",
    "* [Array attributes](#attributes)\n",
    "* [Change type of the array](#type)\n",
    "* [Indexing and slicing](#index-slice)\n",
    "* [Reshape an array](#reshape)\n",
    "* [Math operations](#math)\n",
    "* [Broadcasting](#broadcast)\n",
    "* [Math operations](#math)\n",
    "* [Mathematical attributes and functions](#math-attr)\n",
    "* [Creating arrays for masking](#mask-array)\n",
    "* [Array stacking](#stack)\n",
    "* [Shallow and deep copy](#copy)\n",
    "* [Most useful functions](#functions)\n",
    "* [Statistically functions](#stat)\n",
    "* [Read and write data from file](#read-write)\n",
    "* [Read data from CSV file](#csv)\n",
    "* [Masking](#masking)\n",
    "* [Some hints](#hints)\n",
    "* [Difference between Numpy and Pandas](#np-pd)\n",
    "\n",
    "<br />"
   ]
  },
  {
   "cell_type": "markdown",
   "metadata": {
    "slideshow": {
     "slide_type": "slide"
    },
    "tags": []
   },
   "source": [
    "## Import numpy <a class=\"anchor\" id=\"import\"></a>\n",
    "\n",
    "First, we have to import the numpy library to our environment and, just to make it shorter, we want to use an abbreviation np instead of numpy.\n",
    "\n",
    "`import numpy as np`\n",
    "\n",
    "<br />"
   ]
  },
  {
   "cell_type": "code",
   "execution_count": null,
   "metadata": {},
   "outputs": [],
   "source": [
    "import numpy as np"
   ]
  },
  {
   "cell_type": "markdown",
   "metadata": {
    "slideshow": {
     "slide_type": "slide"
    },
    "tags": []
   },
   "source": [
    "## Arrays <a class=\"anchor\" id=\"arrays\"></a>\n",
    "\n",
    "Numpy's main object is an array, which is data structure containing the raw data, location and interpreting methods. Unlike Python lists, whose elements can have different data types, Numpy array elements must be all of the same data type. \n",
    "\n",
    "**Note:** For the sake of simplicity, a Numpy array will be called only array in the following.\n",
    "\n",
    "> marks the output of a command\n",
    "\n",
    "Numpy array wording: \n",
    "\n",
    " - **Axes** another name for dimensions\n",
    " - **length** is the number of elements\n",
    " - **shape** shows the number of dimensions (axes)\n",
    " - **data** the values of the elements\n",
    "\n"
   ]
  },
  {
   "cell_type": "markdown",
   "metadata": {
    "slideshow": {
     "slide_type": "slide"
    },
    "tags": []
   },
   "source": [
    "## Create an array <a class=\"anchor\" id=\"create-array\"></a>\n",
    "\n",
    "There are different ways to create an array. You can use one of the Numpy functions to generate a new array or to convert a list to an array.\n",
    "\n",
    "### Create basic array with `np.array`\n",
    "\n",
    "At the beginning, we want to show how easy it is to create an array with `np.array`.\n",
    "\n",
    "1-dimensional array:\n",
    "\n",
    "```python\n",
    "array1d = np.array([1,2])\n",
    "\n",
    "print(array1d)\n",
    "```\n",
    "\n",
    "> [1 2]\n",
    "\n",
    "n-dimensional array:\n",
    "\n",
    "```python\n",
    "array2d = np.array([[1,2],[3,4]])\n",
    "\n",
    "print(array2d)\n",
    "```\n",
    "\n",
    "> [[1 2] <br />\n",
    "> [3 4]] <br />\n",
    " \n",
    "<br />\n"
   ]
  },
  {
   "cell_type": "code",
   "execution_count": null,
   "metadata": {},
   "outputs": [],
   "source": []
  },
  {
   "cell_type": "markdown",
   "metadata": {},
   "source": [
    "### Alternative ways\n",
    "\n",
    "Now, we want to show how to create an array with `np.arange`.\n",
    "\n",
    "1. Generate an array with 5 elements\n",
    "```python\n",
    "A = np.arange(5)\n",
    "print(A)\n",
    "```\n",
    "\n",
    "> [0 1 2 3 4]\n",
    "\n",
    "\n",
    "2. Generate an array with 5 elements of type _float_\n",
    "```python\n",
    "A = np.arange(5.0)\n",
    "print(A)\n",
    "```\n",
    "\n",
    "> [0. 1. 2. 3. 4.]\n",
    "\n",
    "3. Generate an array with start value 2, end value 6\n",
    "```python\n",
    "A = np.arange(2,6)\n",
    "print(A)\n",
    "```\n",
    "\n",
    ">     [2 3 4 5]\n",
    "\n",
    "4. Generate an array with start value 2, end value 6 with increment 2\n",
    "```python\n",
    "A = np.arange(2,6,2)\n",
    "print(A)\n",
    "```\n",
    "\n",
    "> [2 4]\n",
    "\n",
    "**Note:** If not set the increment is 1 and the value of the first element is 0.\n",
    "\n",
    "<br />"
   ]
  },
  {
   "cell_type": "markdown",
   "metadata": {
    "slideshow": {
     "slide_type": "subslide"
    },
    "tags": []
   },
   "source": [
    "If you want to create an array on n-elements without knowing the exact increment the `np.linspace` function is what you are looking for. You have to give the start and end value, and the number of elements to be generated.\n",
    "\n",
    "For example\n",
    "\n",
    "```python\n",
    "B = np.linspace(1, 2, num=11)\n",
    "\n",
    "print(B)\n",
    "```\n",
    "\n",
    "> [1.  1.1 1.2 1.3 1.4 1.5 1.6 1.7 1.8 1.9 2. ]\n",
    "\n",
    "\n",
    "<br />"
   ]
  },
  {
   "cell_type": "markdown",
   "metadata": {
    "slideshow": {
     "slide_type": "fragment"
    },
    "tags": []
   },
   "source": [
    "<h2 style=\"color:red\"> Exercise </h2>\n",
    "\n",
    "Just do it yourself.\n",
    "\n",
    "<br />"
   ]
  },
  {
   "cell_type": "code",
   "execution_count": null,
   "metadata": {},
   "outputs": [],
   "source": []
  },
  {
   "cell_type": "markdown",
   "metadata": {
    "slideshow": {
     "slide_type": "slide"
    },
    "tags": []
   },
   "source": [
    "## Convert lists to arrays <a class=\"anchor\" id=\"list-array\"></a>\n",
    "\n",
    "If you already have an list variable you can use the function `np.array`to convert it to an array.\n",
    "\n",
    "```python\n",
    "x = [10, 12, 14, 29, 18, 21]\n",
    "\n",
    "print(x, type(x))\n",
    "```\n",
    "\n",
    "> [10, 12, 14, 29, 18, 21] <class 'list'>\n",
    "\n",
    "```python\n",
    "B = np.array(x)\n",
    "\n",
    "print(B, type(B))\n",
    "```\n",
    "> [10 12 14 29 18 21] <class 'numpy.ndarray'>\n",
    "\n",
    "<br />"
   ]
  },
  {
   "cell_type": "markdown",
   "metadata": {
    "slideshow": {
     "slide_type": "subslide"
    },
    "tags": []
   },
   "source": [
    "<h2 style=\"color:red\"> Exercise </h2>\n",
    "\n",
    "1. Create a list variable \n",
    "2. Convert the list to an array\n",
    "\n",
    "<br />"
   ]
  },
  {
   "cell_type": "code",
   "execution_count": null,
   "metadata": {},
   "outputs": [],
   "source": [
    "# 1. \n",
    "x = [10, 12, 14, 29, 18, 21]\n",
    "B = np.array(x)"
   ]
  },
  {
   "cell_type": "code",
   "execution_count": null,
   "metadata": {},
   "outputs": [],
   "source": [
    "# 2. \n"
   ]
  },
  {
   "cell_type": "markdown",
   "metadata": {
    "slideshow": {
     "slide_type": "slide"
    },
    "tags": []
   },
   "source": [
    "## Array attributes <a class=\"anchor\" id=\"attributes\"></a>\n",
    "\n",
    "Numpy provides attributes for the arrays to retrieve information about the dimension size, shape, size, data type, and data itself.\n",
    "\n",
    "```python\n",
    "ndim  = B.ndim\n",
    "shape = B.shape\n",
    "size  = B.size\n",
    "dtype = B.dtype\n",
    "\n",
    "print('--> n dimensions: ', ndim)\n",
    "print('--> shape: ', shape)\n",
    "print('--> size : ', size)\n",
    "print('--> dtype: ', dtype)\n",
    "```\n",
    "\n",
    "> --> n dimensions:  1 <br />\n",
    "> --> shape:  (6,) <br />\n",
    "> --> size :  6 <br />\n",
    "> --> dtype:  int64 <br />\n",
    "\n",
    "<br />"
   ]
  },
  {
   "cell_type": "code",
   "execution_count": null,
   "metadata": {},
   "outputs": [],
   "source": []
  },
  {
   "cell_type": "markdown",
   "metadata": {
    "slideshow": {
     "slide_type": "slide"
    },
    "tags": []
   },
   "source": [
    "## Change type of the array <a class=\"anchor\" id=\"type\"></a>\n",
    "\n",
    "You can convert the array from the given data type to another. Here, we want to convert an array of type integer to float.\n",
    "\n",
    "```python\n",
    "F = B.astype(float)\n",
    "\n",
    "print('--> type of B: ', B.dtype)\n",
    "print('--> type of F: ', F.dtype)\n",
    "```\n",
    "\n",
    "> --> type of B:  int64 <br />\n",
    "> --> type of F:  float64 <br />\n",
    "\n",
    "<br />"
   ]
  },
  {
   "cell_type": "code",
   "execution_count": null,
   "metadata": {},
   "outputs": [],
   "source": []
  },
  {
   "cell_type": "markdown",
   "metadata": {
    "slideshow": {
     "slide_type": "slide"
    },
    "tags": []
   },
   "source": [
    "## Indexing and slicing <a class=\"anchor\" id=\"index-slice\"></a>\n",
    "\n",
    "Indexing and sclicing of arrays is equivalent to indexing and slicing of Python lists.\n",
    "\n",
    "```python\n",
    "print('--> B[:]:    ', B[:])\n",
    "print('--> B[1]):   ', B[1])\n",
    "print('--> B[0:3]:  ', B[0:3])\n",
    "print('--> B[:3]:   ', B[:3])\n",
    "print('--> B[3:]:   ', B[3:])\n",
    "print('--> B[-1]:   ', B[-1])\n",
    "print('--> B[-3:-1]:', B[-3:-1])\n",
    "```\n",
    "\n",
    "Output:\n",
    "\n",
    "```bash\n",
    "--> B[:]:     [10 12 14 29 18 21]\n",
    "--> B[1]):    12\n",
    "--> B[0:3]:   [10 12 14]\n",
    "--> B[:3]:    [10 12 14]\n",
    "--> B[3:]:    [29 18 21]\n",
    "--> B[-1]:    21\n",
    "--> B[-3:-1]: [29 18]\n",
    "```\n"
   ]
  },
  {
   "cell_type": "code",
   "execution_count": null,
   "metadata": {},
   "outputs": [],
   "source": [
    "print('--> B[:]:    ', B[:])\n",
    "print('--> B[1]):   ', B[1])\n",
    "print('--> B[0:3]:  ', B[0:3])\n",
    "print('--> B[:3]:   ', B[:3])\n",
    "print('--> B[3:]:   ', B[3:])\n",
    "print('--> B[-1]:   ', B[-1])\n",
    "print('--> B[-3:-1]:', B[-3:-1])"
   ]
  },
  {
   "cell_type": "markdown",
   "metadata": {
    "slideshow": {
     "slide_type": "slide"
    },
    "tags": []
   },
   "source": [
    "## Reshape an array <a class=\"anchor\" id=\"reshape\"></a>\n",
    "\n",
    "So far we've only worked with 1-dimensional arrays in this section, and we'll see how easy it is to convert them into 2- or 3-dimensional arrays.\n",
    "\n",
    "```python\n",
    "D = np.arange(0, 12, 1,)\n",
    "print('D: ', D)\n",
    "```\n",
    "\n",
    "```bash\n",
    "D:  [ 0  1  2  3  4  5  6  7  8  9 10 11]\n",
    "```\n",
    "\n",
    "```python\n",
    "D_2d = D.reshape(4, 3)\n",
    "print('D_2d: ', D_2d)\n",
    "```\n",
    "\n",
    "```bash\n",
    "D_2d:  [[ 0  1  2]\n",
    " [ 3  4  5]\n",
    " [ 6  7  8]\n",
    " [ 9 10 11]]\n",
    "```\n",
    "\n",
    "```python\n",
    "D_3d = D.reshape(2, 3, 2)\n",
    "print('D_3d: ', D_3d)\n",
    "```\n",
    "\n",
    "```bash\n",
    "D_3d:  [[[ 0  1]\n",
    "  [ 2  3]\n",
    "  [ 4  5]]\n",
    "\n",
    " [[ 6  7]\n",
    "  [ 8  9]\n",
    "  [10 11]]]\n",
    "```\n"
   ]
  },
  {
   "cell_type": "code",
   "execution_count": null,
   "metadata": {},
   "outputs": [],
   "source": [
    "D = np.arange(0, 12, 1,)\n",
    "print('D: ', D)\n",
    "\n",
    "D_2d = D.reshape(4, 3)\n",
    "print('D_2d: ', D_2d)\n",
    "\n",
    "D_3d = D.reshape(2, 3, 2)\n",
    "print('D_3d: ', D_3d)"
   ]
  },
  {
   "cell_type": "markdown",
   "metadata": {
    "slideshow": {
     "slide_type": "subslide"
    },
    "tags": []
   },
   "source": [
    "<br>\n",
    "\n",
    "Of course, you can convert an n-dimensional array to an 1-dimensional array using the attribute `flatten`.\n",
    "\n",
    "```python\n",
    "E_1d = D_3d.flatten()\n",
    "print('E_1d: ', E_1d)\n",
    "\n",
    "E_1d:  [ 0  1  2  3  4  5  6  7  8  9 10 11]\n",
    "```\n",
    "\n",
    "There is a Numpy function doing this too, but it is called `ravel`.\n",
    "\n",
    "```python\n",
    "F_1d = np.ravel(D_3d)\n",
    "print('F_1d: ', F_1d)\n",
    "\n",
    "F_1d:  [ 0  1  2  3  4  5  6  7  8  9 10 11]\n",
    "```\n",
    "\n",
    "**Note:**\n",
    "\n",
    "+ `flatten` always returns a copy of the input array\n",
    "+ `ravel` uses a shallow copy, every change you make have an impact to the input arary as well.\n",
    "\n",
    "See the difference in the next example:\n",
    "\n",
    "```python\n",
    "y = np.array(((1,2,3),(4,5,6),(7,8,9)))\n",
    "\n",
    "a = y.ravel()      #-- returns a shallow copy of y\n",
    "print(a)           #-- array([1, 2, 3, 4, 5, 6, 7, 8, 9])\n",
    "\n",
    "b = y.flatten()    #-- returns a deep copy of y\n",
    "print(b)           #-- [[1 2 3] [4 5 6] [7 8 9]]\n",
    "\n",
    "b[0] = 99\n",
    "print(y)           #-- [[1 2 3] [4 5 6] [7 8 9]]\n",
    "\n",
    "a[0] = 99          #-- change first element\n",
    "print(y)           #-- [[99  2  3] [ 4  5  6] [ 7  8  9]]\n",
    "```\n",
    "\n",
    "<br />"
   ]
  },
  {
   "cell_type": "code",
   "execution_count": null,
   "metadata": {},
   "outputs": [],
   "source": []
  },
  {
   "cell_type": "markdown",
   "metadata": {
    "slideshow": {
     "slide_type": "slide"
    },
    "tags": []
   },
   "source": [
    "<br>\n",
    "\n",
    "## Math operations <a class=\"anchor\" id=\"math\"></a>\n",
    "\n",
    "Adding or multiplying arrays of the same size is simple. We define two arrays, each has 5 elements, and compute the sum and the product of them.\n",
    "\n",
    "```python\n",
    "m = np.array([2.1, 3.0, 4.7, 5.3, 6.2])\n",
    "n = np.arange(5)\n",
    "print('m = ', m)\n",
    "print('n = ', n)\n",
    "```\n",
    "\n",
    "Output:\n",
    "\n",
    "```bash\n",
    "m =  [2.1 3.  4.7 5.3 6.2]\n",
    "n =  [0 1 2 3 4]\n",
    "```\n",
    "\n",
    "Other math operation examples:\n",
    "\n",
    "```python\n",
    "mn_add = m + n\n",
    "mn_mul = m * n\n",
    "\n",
    "print('m + n = ', mn_add)\n",
    "print('m * n = ', mn_mul)\n",
    "```\n",
    "\n",
    "Output:\n",
    "\n",
    "```bash\n",
    "m + n =  [ 2.1  4.   6.7  8.3 10.2]\n",
    "m * n =  [ 0.   3.   9.4 15.9 24.8]\n",
    "```\n"
   ]
  },
  {
   "cell_type": "code",
   "execution_count": null,
   "metadata": {},
   "outputs": [],
   "source": []
  },
  {
   "cell_type": "markdown",
   "metadata": {},
   "source": [
    "## Broadcasting <a class=\"anchor\" id=\"broadcast\"></a>\n",
    "\n",
    "Working with arrays of the same size is the same as working with matrices. Numpy provides a powerful **broadcasting** concept that allows you to easily work with arrays of different shapes. Broadcasting is a method that transforms the smaller array into a _fitting_ form or applies this multiple times to the larger array. This avoids loops and makes arithmetic operations on arrays much faster.\n",
    "\n",
    "Examples: \n",
    "\n",
    "One of the simplest examples is the addition of a scalar to an array. For instance add the scalar 1 to the array [1,2,3,4] of shape (4,1). <br>\n",
    "\n",
    "Equation: \n",
    "\n",
    "\\begin{equation*} \\begin{vmatrix} 1 & 2 & 3 & 4\\end{vmatrix} + 1 = \n",
    "\\begin{vmatrix} 1+1 & 2+1 & 3+1 & 4+1 \n",
    "\\end{vmatrix} \n",
    "\\end{equation*}\n",
    "\n",
    "To add an array of shape (3,1) with an array of shape (1,3)\n",
    "\n",
    "Equation: \n",
    "\n",
    "\\begin{equation*}\n",
    "\\begin{vmatrix} 1 & 2 & 3 \\end{vmatrix}  +  \\begin{vmatrix} 1 \\\\ 2 \\\\ 3 \\end{vmatrix}  =  \n",
    "\\begin{vmatrix} 1+1 & 2+1 & 3+1  \\\\  1+2 & 2+2 & 3+2 \\\\ 1+3 & 2+3 & 3+3 \n",
    "\\end{vmatrix} \n",
    "\\end{equation*}\n"
   ]
  },
  {
   "cell_type": "markdown",
   "metadata": {},
   "source": [
    "<br>\n",
    "\n",
    "Create a 1D-array with 4 elements from a list:\n",
    "\n",
    "```python\n",
    "a = np.array([1,2,3,4])\n",
    "print(a.shape)\n",
    "print(a)\n",
    "print('dimension: ', len(a.shape))\n",
    "```\n",
    "\n",
    "Output:\n",
    "\n",
    "```bash\n",
    "(4,)\n",
    "[1 2 3 4]\n",
    "dimension:  1\n",
    "```\n"
   ]
  },
  {
   "cell_type": "code",
   "execution_count": null,
   "metadata": {},
   "outputs": [],
   "source": [
    "a = np.array([1,2,3,4])\n",
    "print(a.shape)\n",
    "print(a)\n",
    "print('dimension: ', len(a.shape))"
   ]
  },
  {
   "cell_type": "markdown",
   "metadata": {},
   "source": [
    "<br>\n",
    "\n",
    "Create a 2D-array:\n",
    "\n",
    "```python\n",
    "b = np.array([[1],[2],[3],[4]])\n",
    "print(b.shape)\n",
    "print(b)\n",
    "print('dimension: ', len(b.shape))\n",
    "```\n",
    "\n",
    "```bash\n",
    "(4, 1)\n",
    "[[1]\n",
    " [2]\n",
    " [3]\n",
    " [4]]\n",
    "dimension:  2\n",
    "```\n"
   ]
  },
  {
   "cell_type": "code",
   "execution_count": null,
   "metadata": {},
   "outputs": [],
   "source": [
    "b = np.array([[1],[2],[3],[4]])\n",
    "print(b.shape)\n",
    "print(b)\n",
    "print('dimension: ', len(b.shape))"
   ]
  },
  {
   "cell_type": "markdown",
   "metadata": {},
   "source": [
    "<br>\n",
    "\n",
    "Create the transposed array:\n",
    "\n",
    "```python\n",
    "c = b.copy().T\n",
    "print(c.shape)\n",
    "print(c)\n",
    "```\n",
    "\n",
    "```bash\n",
    "(1, 4)\n",
    "[[1 2 3 4]]\n",
    "```\n"
   ]
  },
  {
   "cell_type": "code",
   "execution_count": null,
   "metadata": {},
   "outputs": [],
   "source": [
    "c = b.copy().T\n",
    "print(c.shape)\n",
    "print(c)\n",
    "print('dimension: ', len(c.shape))"
   ]
  },
  {
   "cell_type": "markdown",
   "metadata": {},
   "source": [
    "<br>\n",
    "\n",
    "Here is another example:\n",
    "\n",
    "```python\n",
    "array_A = np.array([[1,2,3,4], [10,20,30,40], [100,200,300,400]])\n",
    "\n",
    "print(array_A.shape)\n",
    "(3, 4)\n",
    "\n",
    "array_B = np.array([1,2,3,4]\n",
    "                   \n",
    "print(array_B.shape)\n",
    "(4,)\n",
    "                   \n",
    "print(array_A + array_B)\n",
    "\n",
    "[[  2   4   6   8]\n",
    " [ 11  22  33  44]\n",
    " [101 202 303 404]]\n",
    "```\n",
    "\n",
    "The calculations are now done by Numpy as if array_B is equal to\n",
    "\n",
    "```python\n",
    "array_B = np.array([[1,2,3,4], [1,2,3,4], [1,2,3,4]])\n",
    "\n",
    "print(array_A + array_B)\n",
    "[[  2   4   6   8]\n",
    " [ 11  22  33  44]\n",
    " [101 202 303 404]]\n",
    "```\n",
    "\n",
    "<br />"
   ]
  },
  {
   "cell_type": "markdown",
   "metadata": {},
   "source": [
    "<h2 style=\"color:red\"> Exercise </h2>\n",
    "\n",
    "What is the result of array_A * array_B using broadcasting?\n",
    "\n",
    "<br />"
   ]
  },
  {
   "cell_type": "code",
   "execution_count": null,
   "metadata": {},
   "outputs": [],
   "source": []
  },
  {
   "cell_type": "markdown",
   "metadata": {},
   "source": [
    "For higher dimensioned arrays this also applies accordingly. The following example is identical with Numpy's broadcasting\n",
    "\n",
    "```python\n",
    "array_C = np.array([[[ 1, 2, 3], [ 10, 20, 30], [ 100, 200, 300]], \n",
    "                    [[11,22,33], [101,202,303], [1001,2002,3003]]])\n",
    "\n",
    "array_D = np.array([[3,2,1]])\n",
    "\n",
    "print(array_C + array_D)\n",
    "[[[   4    4    4]\n",
    "  [  13   22   31]\n",
    "  [ 103  202  301]]\n",
    "\n",
    " [[  14   24   34]\n",
    "  [ 104  204  304]\n",
    "  [1004 2004 3004]]]\n",
    "```\n",
    "\n",
    "Rebuild the array_D to the same shape as array_C\n",
    "\n",
    "```python\n",
    "array_D = array_D[np.newaxis, np.newaxis, :]\n",
    "array_D = np.tile(array_D,(2,3,1))\n",
    "\n",
    "print(array_C + array_D)\n",
    "[[[[   4    4    4]\n",
    "   [  13   22   31]\n",
    "   [ 103  202  301]]\n",
    "\n",
    "  [[  14   24   34]\n",
    "   [ 104  204  304]\n",
    "   [1004 2004 3004]]]]\n",
    "```\n"
   ]
  },
  {
   "cell_type": "markdown",
   "metadata": {},
   "source": [
    "<h2 style=\"color:red\"> Exercise </h2>\n",
    "\n",
    "What is the result of array_C * array_D using broadcasting?\n",
    "\n",
    "<br />"
   ]
  },
  {
   "cell_type": "code",
   "execution_count": null,
   "metadata": {},
   "outputs": [],
   "source": []
  },
  {
   "cell_type": "markdown",
   "metadata": {
    "slideshow": {
     "slide_type": "slide"
    },
    "tags": []
   },
   "source": [
    "## Mathematical attributes and functions <a class=\"anchor\" id=\"math-attr\"></a>\n",
    "\n",
    "The attributes of a numpy array can be used to retrieve the minimum or maximum value, or to compute the sum, mean, or standard deviation of arrays.\n",
    "\n",
    "```python\n",
    "m_min   = m.min()\n",
    "m_max   = m.max()\n",
    "m_sum   = m.sum()\n",
    "m_mean  = m.mean()\n",
    "m_std   = m.std()\n",
    "m_round = m.round()\n",
    "\n",
    "print('m_min:   ',m_min)\n",
    "print('m_max:   ',m_max)\n",
    "print('m_sum:   ',m_sum)\n",
    "print('m_mean:  ',m_mean)\n",
    "print('m_std:   ',m.std())\n",
    "print('m_round: ',m.round())\n",
    "```\n",
    "\n",
    "> m_min:    2.1 <br />\n",
    "> m_max:    6.2 <br />\n",
    "> m_sum:    21.3 <br />\n",
    "> m_mean:   4.26 <br />\n",
    "> m_std:    1.502797391533536 <br />\n",
    "> m_round:  [2. 3. 5. 5. 6.] <br />\n",
    "\n",
    "<br />\n"
   ]
  },
  {
   "cell_type": "code",
   "execution_count": null,
   "metadata": {},
   "outputs": [],
   "source": []
  },
  {
   "cell_type": "markdown",
   "metadata": {
    "slideshow": {
     "slide_type": "subslide"
    },
    "tags": []
   },
   "source": [
    "<br />\n",
    "\n",
    "Numpy also provides a bunch of mathematical routines, see https://docs.scipy.org/doc/numpy/reference/routines.math.html.\n",
    "\n",
    "Here are some examples:\n",
    "\n",
    "```python\n",
    "m_sqrt = np.sqrt(m)\n",
    "m_exp  = np.exp(m)\n",
    "mn_add = np.add(m,n)\n",
    "\n",
    "print('m_sqrt: ', m_sqrt)\n",
    "print('m_exp:  ', m_exp)\n",
    "print('mn_add: ', mn_add)\n",
    "```\n",
    "\n",
    "> m_sqrt:  [1.44913767 1.73205081 2.16794834 2.30217289 2.48997992]\n",
    "\n",
    "> m_exp:   [  8.16616991  20.08553692 109.94717245 200.33680997 492.74904109]\n",
    "\n",
    "> mn_add:  [ 2.1  4.   6.7  8.3 10.2]\n",
    "\n",
    "<br />\n"
   ]
  },
  {
   "cell_type": "code",
   "execution_count": null,
   "metadata": {},
   "outputs": [],
   "source": []
  },
  {
   "cell_type": "markdown",
   "metadata": {
    "slideshow": {
     "slide_type": "subslide"
    },
    "tags": []
   },
   "source": [
    "More useful functions: `np.sin`, `np.cos`, `np.degrees`\n",
    "\n",
    "```python\n",
    "data_radians = np.linspace(0., 6., 5)\n",
    "data_sin     = np.sin(data_radians)\n",
    "data_cos     = np.cos(data_radians)\n",
    "data_degrees = np.degrees(data_sin)\n",
    "\n",
    "print('data_radians: ', data_radians)\n",
    "print('data_sin:     ', data_sin)\n",
    "print('data_cos:     ', data_cos)\n",
    "print('data_degrees: ', data_degrees)\n",
    "```\n",
    "\n",
    "> data_radians:  [0.  1.5 3.  4.5 6. ] <br />\n",
    "> data_sin:      [ 0.          0.99749499  0.14112001 -0.97753012 -0.2794155 ] <br />\n",
    "> data_cos:      [ 1.          0.0707372  -0.9899925  -0.2107958   0.96017029] <br />\n",
    "> data_degrees:  [  0.          57.15225282   8.08558087 -56.00835009 -16.00932878] <br />\n",
    "<br />\n"
   ]
  },
  {
   "cell_type": "code",
   "execution_count": null,
   "metadata": {},
   "outputs": [],
   "source": []
  },
  {
   "cell_type": "markdown",
   "metadata": {
    "slideshow": {
     "slide_type": "slide"
    },
    "tags": []
   },
   "source": [
    "## Creating arrays for masking <a class=\"anchor\" id=\"mask-array\"></a>\n",
    "\n",
    "Being able to create arrays containing only zeros or ones can be very helpful if you want to mask your data. Numpy provides the functions `np.zero` and `np.ones`.\n",
    "\n",
    "```python\n",
    "zeros = np.zeros((3,4))\n",
    "ones  = np.ones((3,4))\n",
    "\n",
    "print('zeros: ',zeros)\n",
    "print('ones: ',ones)\n",
    "```\n",
    "\n",
    "> zeros:  [[0. 0. 0. 0.] <br />\n",
    "> [0. 0. 0. 0.] <br />\n",
    ">  [0. 0. 0. 0.]] <br />\n",
    "> ones:  [[1. 1. 1. 1.] <br />\n",
    ">  [1. 1. 1. 1.] <br />\n",
    ">  [1. 1. 1. 1.]] <br />\n",
    " \n",
    "```python\n",
    "zeros = np.zeros((3,4),dtype=int)\n",
    "ones  = np.ones((3,4),dtype=int)\n",
    "\n",
    "print('zeros type integer: ',zeros)\n",
    "print('ones type integer: ',ones)\n",
    "```\n",
    "\n",
    "> zeros type integer:  [[0 0 0 0] <br />\n",
    ">  [0 0 0 0] <br />\n",
    ">  [0 0 0 0]] <br />\n",
    "> ones type integer:  [[1 1 1 1] <br />\n",
    ">  [1 1 1 1] <br />\n",
    ">  [1 1 1 1]] <br />\n",
    "\n",
    "<br />\n"
   ]
  },
  {
   "cell_type": "markdown",
   "metadata": {},
   "source": [
    "<h2 style=\"color:red\"> Exercise </h2>\n",
    "\n",
    "Create an arrays with elements equal 5.\n",
    "\n",
    "<br />"
   ]
  },
  {
   "cell_type": "code",
   "execution_count": null,
   "metadata": {},
   "outputs": [],
   "source": []
  },
  {
   "cell_type": "markdown",
   "metadata": {
    "slideshow": {
     "slide_type": "slide"
    },
    "tags": []
   },
   "source": [
    "## Array stacking <a class=\"anchor\" id=\"stack\"></a>\n",
    "\n",
    "Numpy gives you the possibilities to stack arrays on different axes using the functions `np.vstack` and `hstac`.\n",
    "\n",
    "```python\n",
    "v = np.vstack((zeros,ones))\n",
    "h = np.hstack((zeros,ones))\n",
    "\n",
    "print('np.vstack(zeros,ones): \\n', v)\n",
    "print('np.hstack(zeros,ones): \\n', h)\n",
    "```\n",
    "\n",
    "> np.vstack(zeros,ones):  <br />\n",
    ">  [[0 0 0 0] <br />\n",
    ">  [0 0 0 0] <br />\n",
    ">  [0 0 0 0] <br />\n",
    ">  [1 1 1 1] <br />\n",
    ">  [1 1 1 1] <br />\n",
    ">  [1 1 1 1]] <br />\n",
    "\n",
    "> np.hstack(zeros,ones):  <br />\n",
    ">  [[0 0 0 0 1 1 1 1] <br />\n",
    ">  [0 0 0 0 1 1 1 1] <br />\n",
    ">  [0 0 0 0 1 1 1 1]] <br />\n",
    "\n",
    "<br />\n"
   ]
  },
  {
   "cell_type": "code",
   "execution_count": null,
   "metadata": {},
   "outputs": [],
   "source": []
  },
  {
   "cell_type": "markdown",
   "metadata": {
    "slideshow": {
     "slide_type": "slide"
    },
    "tags": []
   },
   "source": [
    "## Shallow and deep copy <a class=\"anchor\" id=\"copy\"></a>\n",
    "\n",
    "Maybe you have recognized that copying an array a doesn't mean to get a physical copy. If you change your copy the origin array will be changed too because it isn't a physical copy, it is more or less a pointer to the origin array. It's called a **shallow copy**.\n",
    "\n",
    "```python\n",
    "a_origin = np.arange(12).reshape(3,4)\n",
    "\n",
    "b_copy_of_a = a_origin\n",
    "\n",
    "b_copy_of_a[1,3] = 999\n",
    "\n",
    "print('a_origin: \\n', a_origin)\n",
    "print('b_copy_of_a: ', b_copy_of_a)\n",
    "print('a_origin:    ', a_origin)\n",
    "```\n",
    "\n",
    "> a_origin:  <br />\n",
    ">  [[ 0  1  2  3] <br />\n",
    ">  [ 4  5  6  7] <br />\n",
    ">  [ 8  9 10 11]] <br />\n",
    "> b_copy_of_a:  [[  0   1   2   3] <br />\n",
    ">  [  4   5   6 999] <br />\n",
    ">  [  8   9  10  11]] <br />\n",
    "> a_origin:     [[  0   1   2   3] <br />\n",
    ">  [  4   5   6 999] <br />\n",
    ">  [  8   9  10  11]] <br />\n",
    "\n",
    "<br />\n"
   ]
  },
  {
   "cell_type": "markdown",
   "metadata": {
    "slideshow": {
     "slide_type": "subslide"
    },
    "tags": []
   },
   "source": [
    "<br />\n",
    "\n",
    "To create a physical copy, so called **deep copy**, you have to use numpy's `np.copy` function.\n",
    "\n",
    "```python\n",
    "a_origin = np.arange(12).reshape(3,4)\n",
    "\n",
    "c_deep_copy = a_origin.copy()\n",
    "\n",
    "c_deep_copy[1,3] = 222\n",
    "\n",
    "print('a_origin: \\n', a_origin)\n",
    "print('c_deep_copy: \\n', c_deep_copy)\n",
    "```\n",
    "\n",
    "> a_origin:  <br />\n",
    ">  [[ 0  1  2  3] <br />\n",
    ">  [ 4  5  6  7] <br />\n",
    ">  [ 8  9 10 11]] <br />\n",
    "> c_deep_copy:  <br />\n",
    ">  [[  0   1   2   3] <br />\n",
    ">  [  4   5   6 222] <br />\n",
    ">  [  8   9  10  11]] <br />\n",
    " \n",
    " <br />\n"
   ]
  },
  {
   "cell_type": "markdown",
   "metadata": {},
   "source": [
    "<h2 style=\"color:red\"> Exercise </h2>\n",
    "\n",
    "Follow the steps above.\n",
    "\n",
    "<br />"
   ]
  },
  {
   "cell_type": "code",
   "execution_count": null,
   "metadata": {},
   "outputs": [],
   "source": []
  },
  {
   "cell_type": "markdown",
   "metadata": {
    "slideshow": {
     "slide_type": "slide"
    },
    "tags": []
   },
   "source": [
    "## Most useful functions <a class=\"anchor\" id=\"functions\"></a>\n",
    "\n",
    "Working with arrays 1- or multiple-dimensional arrays makes the programs sometimes slow when you have to find values in given ranges or to change values to set missing values for invalid data. Usually, you would thinl about a for or while loop to go through all elements of an array, but numpy has efficient functions to do it in just one line.\n",
    "\n",
    "Useful functions\n",
    "\n",
    "`np.where` <br />\n",
    "`np.argwhere` <br />\n",
    "`np.all` <br />\n",
    "`np.any` <br />\n",
    "\n",
    "The `np.where` function allows you to look at the array using a logical expression. If it is True than let the value untouched but when it is False change it to the given value, maybe a kind of a missing value, but this is NOT the same as a netCDF missing value (see below `masked arrays`).\n",
    "\n",
    "```python\n",
    "x = np.array([-1, 2, 0, 5, -3, -2])\n",
    "\n",
    "x_ge0 = np.where(x >= 0, x, -9999)\n",
    "\n",
    "print('x: ', x)\n",
    "print('x_ge0: ', x_ge0)\n",
    "```\n",
    "\n",
    "> x:  [-1  2  0  5 -3 -2] <br />\n",
    "> x_ge0:  [-9999     2     0     5 -9999 -9999] <br />\n",
    "\n",
    "<br />\n"
   ]
  },
  {
   "cell_type": "code",
   "execution_count": null,
   "metadata": {},
   "outputs": [],
   "source": []
  },
  {
   "cell_type": "markdown",
   "metadata": {
    "slideshow": {
     "slide_type": "subslide"
    },
    "tags": []
   },
   "source": [
    "\n",
    "<br />\n",
    "\n",
    "In the upper example the values of the array were located and directly changed when the condition is False. But sometimes you want to retrieve the indices of the values instead the values themselves, because you need the same indices later again. Then use the `np.argwhere` function with a logical condition.\n",
    "\n",
    "```python\n",
    "x_ind = np.argwhere(x < 0)\n",
    "\n",
    "print('--> indices x >= 0: \\n', x_ind)\n",
    "```\n",
    "> --> indices x >= 0: <br />\n",
    "> [[0] <br />\n",
    ">  [4] <br />\n",
    "> [5]] <br />\n",
    "\n",
    "```python\n",
    "y = x\n",
    "\n",
    "y[x_ind] = -9999\n",
    "\n",
    "print('y[x_ind] where x >= 0: \\n', y)\n",
    "```\n",
    "\n",
    "> y[x_ind] where x >= 0: <br />\n",
    "> [-9999     2     0     5 -9999 -9999]\n",
    " \n",
    "<br />\n"
   ]
  },
  {
   "cell_type": "code",
   "execution_count": null,
   "metadata": {},
   "outputs": [],
   "source": []
  },
  {
   "cell_type": "markdown",
   "metadata": {
    "slideshow": {
     "slide_type": "subslide"
    },
    "tags": []
   },
   "source": [
    "<br />\n",
    "\n",
    "To see if the values of an array are less than 0 for instance you can't try do it like below - ah, no that would be too easy.\n",
    "\n",
    "```\n",
    "if(x < 0):\n",
    "   print('some elements are less 0')\n",
    "else:\n",
    "   print('no values are less 0')\n",
    "\n",
    "if(x > 0):\n",
    "   print('all elements are greater than 0')\n",
    "else:\n",
    "   print('not all values are greater than 0')\n",
    "```\n",
    "\n",
    "**The result would be the following error:**\n",
    "\n",
    "```\n",
    "---------------------------------------------------------------------------\n",
    "ValueError                                Traceback (most recent call last)\n",
    "<ipython-input-23-6f0311fb54a3> in <module>\n",
    "----> 1 if(x < 0):\n",
    "      2    print('some elements are less 0')\n",
    "      3 else:\n",
    "      4    print('no values are less 0')\n",
    "      5 \n",
    "\n",
    "ValueError: The truth value of an array with more than one element is ambiguous. Use a.any() or a.all()\n",
    "```\n"
   ]
  },
  {
   "cell_type": "markdown",
   "metadata": {},
   "source": [
    "The last line of the error message gives you the right hint to use the array functions `any` or `all`.\n",
    "\n",
    "```python\n",
    "if((x < 0).any()):\n",
    "   print('some elements are less 0')\n",
    "else:\n",
    "   print('no values are less 0')\n",
    "```\n",
    "\n",
    "> some elements are less 0\n",
    "\n",
    "\n",
    "```python\n",
    "if(x.all() > 0):\n",
    "   print('all elements are greater than 0')\n",
    "else:\n",
    "   print('not all values are greater than 0')\n",
    "```\n",
    "\n",
    "> not all values are greater than 0\n",
    "\n",
    "<br />\n"
   ]
  },
  {
   "cell_type": "markdown",
   "metadata": {
    "slideshow": {
     "slide_type": "subslide"
    },
    "tags": []
   },
   "source": [
    "Or you can use the numpy function `np.any` or `np.all`.\n",
    "\n",
    "```python\n",
    "if(np.any(x < 0)):\n",
    "   print('some elements are less 0')\n",
    "else:\n",
    "   print('no values are less 0')\n",
    "```\n",
    "\n",
    "> some elements are less 0\n",
    "\n",
    "```python\n",
    "if(np.all(x > 0)):\n",
    "   print('all elements are greater than 0')\n",
    "else:\n",
    "   print('not all values are greater than 0')\n",
    "```\n",
    "\n",
    "> not all values are greater than 0\n",
    "\n",
    "<br />\n"
   ]
  },
  {
   "cell_type": "code",
   "execution_count": null,
   "metadata": {},
   "outputs": [],
   "source": []
  },
  {
   "cell_type": "markdown",
   "metadata": {},
   "source": [
    "## Statistical functions <a class=\"anchor\" id=\"stat\"></a>\n",
    "\n",
    "Numpy provides a large number of statistical functions. These are only briefly mentioned here, but it is recommended to take a closer look at them, because they make the programmer's life much easier.\n",
    "\n",
    "https://numpy.org/doc/stable/reference/routines.statistics.html\n",
    "\n",
    "+ `np.average` - compute the weighted average\n",
    "+ `np.mean` - compute the arithmetic mean\n",
    "+ `np.std` - compute the standard deviation\n",
    "+ `np.var` - compute the variance\n",
    "+ `np.histogram` - compute the histogram\n",
    "+ `np.bincount` - compute the number of occurences of each value\n",
    "\n",
    "For the special case that the data contains NaNs use the following functions instead:\n",
    "\n",
    "+ `np.nanmean` - compute the arithmetic mean ignoring NaNs\n",
    "+ `np.nanstd` - compute the standard deviation ignoring NaNs\n",
    "+ `np.nanvar` - compute the variance ignoring NaNs\n",
    "\n",
    "Note: Define NaNs (missing values) using the function `np.nan`.\n",
    "\n",
    "<br />\n"
   ]
  },
  {
   "cell_type": "markdown",
   "metadata": {},
   "source": [
    "<h2 style=\"color:red\"> Exercise </h2>\n",
    "\n",
    "1. create array A = np.array([1,1,2,1,2,2,1,1]).astype(float)\n",
    "2. create array B = A.copy()\n",
    "3. for array B set values equal 2. to NaN\n",
    "4. What is the difference between np.sum(B) and np.nansum(B) or np.mean(B) and np.nanmean(B)?\n",
    "\n",
    "<br />"
   ]
  },
  {
   "cell_type": "code",
   "execution_count": null,
   "metadata": {},
   "outputs": [],
   "source": [
    "# 1. \n"
   ]
  },
  {
   "cell_type": "code",
   "execution_count": null,
   "metadata": {},
   "outputs": [],
   "source": [
    "# 2. \n"
   ]
  },
  {
   "cell_type": "code",
   "execution_count": null,
   "metadata": {},
   "outputs": [],
   "source": [
    "# 3. \n"
   ]
  },
  {
   "cell_type": "code",
   "execution_count": null,
   "metadata": {},
   "outputs": [],
   "source": [
    "# 4. \n"
   ]
  },
  {
   "cell_type": "markdown",
   "metadata": {
    "slideshow": {
     "slide_type": "slide"
    },
    "tags": []
   },
   "source": [
    "## Read and write data from file <a class=\"anchor\" id=\"read-write\"></a>\n",
    "\n",
    "Numpy can be used to read data from a file or to write variables or values into a file. There are several methods to work with files, but only text files will be discussed here.\n",
    "\n",
    "+ Text file - read: `np.loadtxt`\n",
    "\n",
    "+ Text file - write: `np.savetxt`\n",
    "\n",
    "Here are only briefly the methods for working with binary files:\n",
    "\n",
    "+ Binary file - read: `np.load`\n",
    "\n",
    "+ Binary file - write: `np.save`\n",
    "\n",
    "In the next section the procedure for handling `np.loadtxt` will be shown using a CSV file. A CSV file (comma separated variables) is a text file in which data values are separated by a separator.\n"
   ]
  },
  {
   "cell_type": "markdown",
   "metadata": {
    "slideshow": {
     "slide_type": "slide"
    },
    "tags": []
   },
   "source": [
    "## Read data from CSV file <a class=\"anchor\" id=\"csv\"></a>\n",
    "\n",
    "Numpy also provides functions to read data from files. Our next example shows how to read data from a CSV file. The input CSV file **_pr.dat_** looks like \n",
    "```\n",
    " ID      LAT      LON      PW\n",
    "BLAC    36.75   -97.25    48.00\n",
    "BREC    36.41   -97.69    46.30\n",
    "BURB    36.63   -96.81    49.80\n",
    "...\n",
    "```\n",
    "We want to read all values, and because the mixed data types in the file, we read all as strings. We don't need the header line so we skip it.\n",
    "\n",
    "```python\n",
    "lines = np.loadtxt('../data/pr.dat', dtype='str', skiprows=1)\n",
    "ID  = lines[:,0]\n",
    "lat = lines[:,1]\n",
    "lon = lines[:,2]\n",
    "pw  = lines[:,3]\n",
    "\n",
    "print('ID:  \\n', ID)\n",
    "print('lat: \\n', lat)\n",
    "print('lon: \\n', lon)\n",
    "print('pw:  \\n', pw)\n",
    "```"
   ]
  },
  {
   "cell_type": "markdown",
   "metadata": {
    "slideshow": {
     "slide_type": "subslide"
    },
    "tags": []
   },
   "source": [
    "```\n",
    "ID:  \n",
    " ['BLAC' 'BREC' 'BURB' 'DQUA' 'FBYN' 'GUTH' 'HBRK' 'HKLO' 'JTNT' 'LMNO'\n",
    " 'LTHM' 'MEDF' 'NDS1' 'OILT' 'PRCO' 'REDR' 'RWDN' 'SA14' 'SG01' 'SG09'\n",
    " 'SG10' 'SG11' 'SG12' 'SG13' 'SG14' 'SG15' 'SG16' 'SG18' 'SG19' 'SG20'\n",
    " 'SG22' 'VCIO']\n",
    "lat: \n",
    " ['36.75' '36.41' '36.63' '34.11' '40.08' '35.85' '38.31' '35.68' '33.02'\n",
    " '36.69' '39.58' '36.79' '37.30' '36.03' '34.98' '36.36' '40.09' '36.56'\n",
    " '36.60' '36.43' '36.88' '37.33' '38.20' '38.12' '37.84' '38.20' '37.38'\n",
    " '34.88' '35.36' '35.56' '35.26' '36.07']\n",
    "lon: \n",
    " ['-97.25' '-97.69' '-96.81' '-94.29' '-97.31' '-97.48' '-97.29' '-95.86'\n",
    " '-100.98' '-97.48' '-94.17' '-97.75' '-95.60' '-96.50' '-97.52' '-97.15'\n",
    " '-100.65' '-100.61' '-97.49' '-98.28' '-98.29' '-99.31' '-99.32' '-97.51'\n",
    " '-97.02' '-95.59' '-96.18' '-98.20' '-98.98' '-98.02' '-97.48' '-99.22']\n",
    "pw:  \n",
    " ['48.00' '46.30' '49.80' '45.00' '38.20' '46.60' '34.30' '50.20' '39.80'\n",
    " '47.10' '40.40' '46.70' '39.90' '48.80' '46.50' '50.40' '26.40' '22.40'\n",
    " '49.00' '43.20' '41.40' '33.60' '33.90' '36.30' '40.20' '31.70' '42.80'\n",
    " '45.90' '45.30' '47.90' '46.80' '38.60']\n",
    "```\n",
    "\n",
    "<br />"
   ]
  },
  {
   "cell_type": "code",
   "execution_count": null,
   "metadata": {},
   "outputs": [],
   "source": []
  },
  {
   "cell_type": "markdown",
   "metadata": {
    "slideshow": {
     "slide_type": "slide"
    },
    "tags": []
   },
   "source": [
    "<br />\n",
    "\n",
    "If you don't need the IDs then you can directly read the lat, lon, and pw values using the `usecols` parameter. There is no need to use the `dtype` parameter anymore because the default data type is float, and that's what we want.\n",
    "\n",
    "```python\n",
    "data = np.loadtxt('../data/pr.dat', usecols=(1,2,3), skiprows=1)\n",
    "\n",
    "print()\n",
    "print('--> data: \\n', data)\n",
    "print()\n",
    "print('--> lon:  \\n', data[:,0])\n",
    "print('--> lon:  \\n', data[:,1])\n",
    "print('--> pw:   \\n', data[:,2])\n",
    "```\n"
   ]
  },
  {
   "cell_type": "markdown",
   "metadata": {
    "slideshow": {
     "slide_type": "subslide"
    },
    "tags": []
   },
   "source": [
    "```\n",
    "--> data: \n",
    " [[  36.75  -97.25   48.  ]\n",
    " [  36.41  -97.69   46.3 ]\n",
    " [  36.63  -96.81   49.8 ]\n",
    " [  34.11  -94.29   45.  ]\n",
    " [  40.08  -97.31   38.2 ]\n",
    " [  35.85  -97.48   46.6 ]\n",
    " [  38.31  -97.29   34.3 ]\n",
    " [  35.68  -95.86   50.2 ]\n",
    " [  33.02 -100.98   39.8 ]\n",
    " [  36.69  -97.48   47.1 ]\n",
    " [  39.58  -94.17   40.4 ]\n",
    " [  36.79  -97.75   46.7 ]\n",
    " [  37.3   -95.6    39.9 ]\n",
    " [  36.03  -96.5    48.8 ]\n",
    " [  34.98  -97.52   46.5 ]\n",
    " [  36.36  -97.15   50.4 ]\n",
    " [  40.09 -100.65   26.4 ]\n",
    " [  36.56 -100.61   22.4 ]\n",
    " [  36.6   -97.49   49.  ]\n",
    " [  36.43  -98.28   43.2 ]\n",
    " [  36.88  -98.29   41.4 ]\n",
    " [  37.33  -99.31   33.6 ]\n",
    " [  38.2   -99.32   33.9 ]\n",
    " [  38.12  -97.51   36.3 ]\n",
    " [  37.84  -97.02   40.2 ]\n",
    " [  38.2   -95.59   31.7 ]\n",
    " [  37.38  -96.18   42.8 ]\n",
    " [  34.88  -98.2    45.9 ]\n",
    " [  35.36  -98.98   45.3 ]\n",
    " [  35.56  -98.02   47.9 ]\n",
    " [  35.26  -97.48   46.8 ]\n",
    " [  36.07  -99.22   38.6 ]]\n",
    "\n",
    "--> lon:  \n",
    " [36.75 36.41 36.63 34.11 40.08 35.85 38.31 35.68 33.02 36.69 39.58 36.79\n",
    " 37.3  36.03 34.98 36.36 40.09 36.56 36.6  36.43 36.88 37.33 38.2  38.12\n",
    " 37.84 38.2  37.38 34.88 35.36 35.56 35.26 36.07]\n",
    "--> lon:  \n",
    " [ -97.25  -97.69  -96.81  -94.29  -97.31  -97.48  -97.29  -95.86 -100.98\n",
    "  -97.48  -94.17  -97.75  -95.6   -96.5   -97.52  -97.15 -100.65 -100.61\n",
    "  -97.49  -98.28  -98.29  -99.31  -99.32  -97.51  -97.02  -95.59  -96.18\n",
    "  -98.2   -98.98  -98.02  -97.48  -99.22]\n",
    "--> pw:   \n",
    " [48.  46.3 49.8 45.  38.2 46.6 34.3 50.2 39.8 47.1 40.4 46.7 39.9 48.8\n",
    " 46.5 50.4 26.4 22.4 49.  43.2 41.4 33.6 33.9 36.3 40.2 31.7 42.8 45.9\n",
    " 45.3 47.9 46.8 38.6]\n",
    "```\n",
    "\n",
    "<br />\n"
   ]
  },
  {
   "cell_type": "markdown",
   "metadata": {},
   "source": [
    "<h2 style=\"color:red\"> Exercise </h2>\n",
    "\n",
    "Read the file and print the 5. element of pw.\n",
    "\n",
    "<br />"
   ]
  },
  {
   "cell_type": "code",
   "execution_count": null,
   "metadata": {},
   "outputs": [],
   "source": []
  },
  {
   "cell_type": "markdown",
   "metadata": {
    "slideshow": {
     "slide_type": "slide"
    },
    "tags": []
   },
   "source": [
    "<br />\n",
    "\n",
    "However, we want to have the IDs, too. It's never too late... \n",
    "But again, we have to tell numpy to use the data type string.\n",
    "\n",
    "```python\n",
    "IDs = np.loadtxt('../data/pr.dat', dtype='str', usecols=(0), skiprows=1)\n",
    "\n",
    "print('IDs: \\n', IDs)\n",
    "```\n",
    "\n",
    "IDs: \n",
    ">  ['BLAC' 'BREC' 'BURB' 'DQUA' 'FBYN' 'GUTH' 'HBRK' 'HKLO' 'JTNT' 'LMNO' <br />\n",
    ">  'LTHM' 'MEDF' 'NDS1' 'OILT' 'PRCO' 'REDR' 'RWDN' 'SA14' 'SG01' 'SG09' <br />\n",
    ">  'SG10' 'SG11' 'SG12' 'SG13' 'SG14' 'SG15' 'SG16' 'SG18' 'SG19' 'SG20' <br />\n",
    ">  'SG22' 'VCIO'] <br />\n",
    " \n",
    " <br />\n"
   ]
  },
  {
   "cell_type": "code",
   "execution_count": null,
   "metadata": {},
   "outputs": [],
   "source": []
  },
  {
   "cell_type": "markdown",
   "metadata": {
    "slideshow": {
     "slide_type": "slide"
    },
    "tags": []
   },
   "source": [
    "## Masking <a class=\"anchor\" id=\"masking\"></a>\n",
    "\n",
    "In our daily work we are confronted with data which we want to mask to see only the values in sections we need. Masking is sometimes tricky and you have to take care.\n",
    "\n",
    "What does data masking mean? For example, you want to display only a certain range of values in an array or a certain range of values is to be hidden. Logically, masks consists of either [True, False] or [0, 1] values.\n",
    "\n",
    "\n",
    "In the following example, we try to demonstrate how to mask a 2-dimensional array by a given mask array containing zeros and ones, where 0 means 'don't mask', and 1 means 'mask'.\n",
    "\n",
    "```python\n",
    "field = np.arange(1,9,1).reshape((4,2))\n",
    "\n",
    "mask = np.array([[0,0],[1,0],[1,1],[1,0]])\n",
    "\n",
    "mask_field = np.ma.MaskedArray(field,mask)\n",
    "\n",
    "print('field:      \\n', field)\n",
    "print('mask:       \\n', mask)\n",
    "print('mask_field: \\n', mask_field)\n",
    "```\n",
    "\n",
    "> field:       <br />\n",
    ">  [[1 2] <br />\n",
    ">  [3 4] <br />\n",
    ">  [5 6] <br />\n",
    ">  [7 8]] <br />\n",
    "> mask:        <br />\n",
    ">  [[0 0] <br />\n",
    ">  [1 0] <br />\n",
    ">  [1 1] <br />\n",
    ">  [1 0]] <br />\n",
    "> mask_field:  <br />\n",
    ">  [[1 2] <br />\n",
    ">  [-- 4] <br />\n",
    ">  [-- --] <br />\n",
    ">  [-- 8]] <br />\n",
    "\n",
    " <br />\n"
   ]
  },
  {
   "cell_type": "code",
   "execution_count": null,
   "metadata": {},
   "outputs": [],
   "source": []
  },
  {
   "cell_type": "markdown",
   "metadata": {
    "slideshow": {
     "slide_type": "subslide"
    },
    "tags": []
   },
   "source": [
    "<br>\n",
    "\n",
    "For the next example we want to get data from one array depending on data of a second array.\n",
    "\n",
    "To create two arrays with random data of type integer we use numpy's random generator. \n",
    "For reproducibility we set the random seed to the fixed value 0.\n",
    "\n",
    "```python\n",
    "np.random.seed(0)\n",
    "\n",
    "A = np.random.randint(-3, high=5, size=10)\n",
    "B = np.random.randint(-4, high=4, size=10)\n",
    "\n",
    "print('A: ', A)\n",
    "print('B: ', B)\n",
    "```\n",
    "\n",
    "Output:\n",
    "\n",
    "```bash\n",
    "A: [ 1  4  2 -3  0  0  0  4 -2  0]\n",
    "B: [ 1 -2  0  3  2 -4 -4  0 -2 -3]\n",
    "```"
   ]
  },
  {
   "cell_type": "code",
   "execution_count": null,
   "metadata": {},
   "outputs": [],
   "source": [
    "np.random.seed(0)    #-- set the random seed"
   ]
  },
  {
   "cell_type": "code",
   "execution_count": null,
   "metadata": {},
   "outputs": [],
   "source": [
    "A = np.random.randint(-3, high=5, size=10)\n",
    "print('A: ', A)\n",
    "\n",
    "B = np.random.randint(-4, high=4, size=10)\n",
    "print('B: ', B)"
   ]
  },
  {
   "cell_type": "markdown",
   "metadata": {
    "slideshow": {
     "slide_type": "subslide"
    },
    "tags": []
   },
   "source": [
    "<br>\n",
    "\n",
    "Now, we want only the values of array A which are\n",
    "\n",
    "1. greater equal array B values\n",
    "\n",
    "2. less than array B values\n",
    "\n",
    "First, we have to find the indices of those values. Numpy provides routines to do that for us, presupposed that both arrays are of the same shape.\n",
    "\n",
    "```python\n",
    "ind_ge = list(np.greater_equal(A,B))\n",
    "ind_lt = list(np.less(A,B))\n",
    "\n",
    "print('ind_ge: ', ind_ge)\n",
    "print('ind_lt: ', ind_lt)\n",
    "```\n",
    "\n",
    "Output:\n",
    "\n",
    "```bash\n",
    "ind_ge:  [True, True, True, False, False, True, True, True, True, True]\n",
    "ind_lt:  [False, False, False, True, True, False, False, False, False, False]\n",
    "```\n"
   ]
  },
  {
   "cell_type": "code",
   "execution_count": null,
   "metadata": {},
   "outputs": [],
   "source": [
    "ind_ge = list(np.greater_equal(A,B))\n",
    "ind_lt = list(np.less(A,B))\n",
    "\n",
    "print('ind_ge: ', ind_ge)\n",
    "print('ind_lt: ', ind_lt)"
   ]
  },
  {
   "cell_type": "markdown",
   "metadata": {
    "slideshow": {
     "slide_type": "subslide"
    },
    "tags": []
   },
   "source": [
    "<br />\n",
    "\n",
    "This is the same as\n",
    "\n",
    "```python\n",
    "ind_ge = list(A>=B)\n",
    "ind_lt = list(A<B)\n",
    "```\n",
    "\n",
    "Output:\n",
    "\n",
    "```bash\n",
    "ind_ge:  [True, True, True, False, False, True, True, True, True, True]\n",
    "ind_lt:  [False, False, False, True, True, False, False, False, False, False]\n",
    "```\n"
   ]
  },
  {
   "cell_type": "code",
   "execution_count": null,
   "metadata": {},
   "outputs": [],
   "source": [
    "ind_ge = list(A>=B)\n",
    "ind_lt = list(A<B)\n",
    "\n",
    "print('ind_ge: ', ind_ge)\n",
    "print('ind_lt: ', ind_lt)"
   ]
  },
  {
   "cell_type": "markdown",
   "metadata": {
    "slideshow": {
     "slide_type": "subslide"
    },
    "tags": []
   },
   "source": [
    "<br />\n",
    "\n",
    "Use these indices to get the data we want.\n",
    "\n",
    "```python\n",
    "A_ge = A[ind_ge]\n",
    "A_lt = A[ind_lt]\n",
    "\n",
    "print('A_ge: ', A_ge)\n",
    "print('A_lt: ', A_lt)\n",
    "```\n",
    "\n",
    "Output:\n",
    "\n",
    "```bash\n",
    "A_ge:  [ 1  4  2  0  0  4 -2  0]\n",
    "A_lt:  [-3  0]\n",
    "```\n"
   ]
  },
  {
   "cell_type": "code",
   "execution_count": null,
   "metadata": {},
   "outputs": [],
   "source": [
    "A_ge = A[ind_ge]\n",
    "A_lt = A[ind_lt]\n",
    "\n",
    "print('A_ge: ', A_ge)\n",
    "print('A_lt: ', A_lt)"
   ]
  },
  {
   "cell_type": "markdown",
   "metadata": {
    "slideshow": {
     "slide_type": "subslide"
    },
    "tags": []
   },
   "source": [
    "<br />\n",
    "\n",
    "In this case we get only the values of the array A which conforms the condition, and not the complete masked array. This has to be done with the numpy.ma.MaskedArray.\n",
    "\n",
    "```python\n",
    "A_ge2 = np.ma.MaskedArray(A, ind_ge)\n",
    "A_lt2 = np.ma.MaskedArray(A, ind_lt)\n",
    "\n",
    "print('A_ge2: ', A_ge2)\n",
    "print('A_lt2: ', A_lt2)\n",
    "```\n",
    "\n",
    "Output:\n",
    "\n",
    "```bash\n",
    "A_ge2:  [-- -- -- -3 0 -- -- -- -- --]\n",
    "A_lt2:  [1 4 2 -- -- 0 0 4 -2 0]\n",
    "```\n"
   ]
  },
  {
   "cell_type": "code",
   "execution_count": null,
   "metadata": {},
   "outputs": [],
   "source": [
    "A_ge2 = np.ma.MaskedArray(A, ind_ge)\n",
    "A_lt2 = np.ma.MaskedArray(A, ind_lt)\n",
    "\n",
    "print('A_ge2: ', A_ge2)\n",
    "print('A_lt2: ', A_lt2)"
   ]
  },
  {
   "cell_type": "markdown",
   "metadata": {},
   "source": [
    "<br>\n",
    "\n",
    "Let's have a look at the different array types:\n",
    "\n",
    "```python\n",
    "print(type(A_ge))\n",
    "```\n",
    "\n",
    "```bash\n",
    "<class 'numpy.ndarray'>```\n",
    "```\n",
    "\n",
    "```python\n",
    "print(type(A_ge2))\n",
    "```\n",
    "\n",
    "```bash\n",
    "<class 'numpy.ma.core.MaskedArray'>\n",
    "```"
   ]
  },
  {
   "cell_type": "code",
   "execution_count": null,
   "metadata": {},
   "outputs": [],
   "source": [
    "print(type(A_ge))\n",
    "print(type(A_ge2))"
   ]
  },
  {
   "cell_type": "markdown",
   "metadata": {
    "slideshow": {
     "slide_type": "subslide"
    },
    "tags": []
   },
   "source": [
    "<br />\n",
    "\n",
    "Here is just a brief example in order to locate all the values of an array that are not equal to zero. Of course, it also shows how to locate the values equal to zero.\n",
    "\n",
    "Count and locate the non zero values of an array, select them, and mask the array to save the shape of the array.\n",
    "\n",
    "```python\n",
    "C = np.random.randint(-2, high=1, size=10)\n",
    "\n",
    "C_count_nonzero = np.count_nonzero(C)\n",
    "C_nonzero_ind   = np.nonzero(C)\n",
    "\n",
    "C2 = C[C_nonzero_ind]\n",
    "\n",
    "C3 = np.ma.MaskedArray(C, C==0)\n",
    "\n",
    "print('--> C:               ', C)\n",
    "print('--> C_count_nonzero: ', C_count_nonzero)\n",
    "print('--> C_nonzero_ind:   ', C_nonzero_ind)\n",
    "print('--> C2:              ', C2)\n",
    "print('--> C3:              ', C3)\n",
    "```\n",
    "\n",
    "Output:\n",
    "\n",
    "```bash\n",
    "C:                [-2 -1  0 -2  0 -2 -1 -1  0 -2]\n",
    "C_count_nonzero:  7\n",
    "C_nonzero_ind:    (array([0, 1, 3, 5, 6, 7, 9]),)\n",
    "C2:               [-2 -1 -2 -2 -1 -1 -2]\n",
    "C3:               [-2 -1 -- -2 -- -2 -1 -1 -- -2]\n",
    "```\n"
   ]
  },
  {
   "cell_type": "code",
   "execution_count": null,
   "metadata": {},
   "outputs": [],
   "source": [
    "C = np.random.randint(-2, high=1, size=10)\n",
    "\n",
    "C_count_nonzero = np.count_nonzero(C)\n",
    "C_nonzero_ind   = np.nonzero(C)\n",
    "\n",
    "C2 = C[C_nonzero_ind]\n",
    "\n",
    "C3 = np.ma.MaskedArray(C, C==0)\n",
    "\n",
    "print('C:               ', C)\n",
    "print('C_count_nonzero: ', C_count_nonzero)\n",
    "print('C_nonzero_ind:   ', C_nonzero_ind)\n",
    "print('C2:              ', C2)\n",
    "print('C3:              ', C3)"
   ]
  },
  {
   "cell_type": "markdown",
   "metadata": {
    "slideshow": {
     "slide_type": "subslide"
    },
    "tags": []
   },
   "source": [
    "<br />\n",
    "\n",
    "Now, we look at the zeros.\n",
    "\n",
    "Count and locate the zero values of an array, select them, and mask the array to save the shape of the array.\n",
    "\n",
    "```python\n",
    "Z_count_zero = np.count_nonzero(C==0)\n",
    "\n",
    "Z_zero_ind = np.argwhere(C==0)\n",
    "\n",
    "Z = C[Z_zero_ind]\n",
    "\n",
    "Z2 = np.ma.MaskedArray(C, C!=0)\n",
    "\n",
    "print('Z_count_zero: ', Z_count_zero)\n",
    "print('Z_zero_ind:   ', Z_zero_ind.flatten())\n",
    "print('Z:            ', Z.flatten())\n",
    "print('Z2:           ', Z2)\n",
    "```\n",
    "\n",
    "Output:\n",
    "\n",
    "```bash\n",
    "Z_count_zero:  4\n",
    "Z_zero_ind:    [4 6 7 9]\n",
    "Z:             [0 0 0 0]\n",
    "Z2:            [-- -- -- -- 0 -- 0 0 -- 0]\n",
    "```\n"
   ]
  },
  {
   "cell_type": "code",
   "execution_count": null,
   "metadata": {},
   "outputs": [],
   "source": [
    "Z_count_zero = np.count_nonzero(C==0)\n",
    "\n",
    "Z_zero_ind = np.argwhere(C==0)\n",
    "\n",
    "Z = C[Z_zero_ind]\n",
    "\n",
    "Z2 = np.ma.MaskedArray(C, C!=0)\n",
    "\n",
    "print('Z_count_zero: ', Z_count_zero)\n",
    "print('Z_zero_ind:   ', Z_zero_ind.flatten())\n",
    "print('Z:            ', Z.flatten())\n",
    "print('Z2:           ', Z2)"
   ]
  },
  {
   "cell_type": "markdown",
   "metadata": {
    "slideshow": {
     "slide_type": "subslide"
    },
    "tags": []
   },
   "source": [
    "<br>\n",
    "\n",
    "## Some hints <a class=\"anchor\" id=\"hints\"></a>\n",
    "\n",
    "You've learned to generate random arrays, arrays of zeros or ones but one important array generation ist still missing - the array filled with with missing values.\n",
    "\n",
    "To generate an array which contains only missing values use the numpy routine `np.full`.\n",
    "\n",
    "```python\n",
    "missing = 1.0e20\n",
    "\n",
    "empty_array = np.full(20, missing)\n",
    "\n",
    "print(empty_array)\n",
    "```\n",
    "\n",
    "Output:\n",
    "\n",
    "```bash\n",
    "[1.e+20 1.e+20 1.e+20 1.e+20 1.e+20 1.e+20 1.e+20 1.e+20 1.e+20 1.e+20\n",
    " 1.e+20 1.e+20 1.e+20 1.e+20 1.e+20 1.e+20 1.e+20 1.e+20 1.e+20 1.e+20]\n",
    "```\n"
   ]
  },
  {
   "cell_type": "code",
   "execution_count": null,
   "metadata": {},
   "outputs": [],
   "source": [
    "missing = 1.0e20\n",
    "\n",
    "empty_array = np.full(20, missing)\n",
    "\n",
    "print(empty_array)"
   ]
  },
  {
   "cell_type": "markdown",
   "metadata": {},
   "source": [
    "## Difference between Numpy and Pandas <a class=\"anchor\" id=\"np-pd\"></a>\n",
    "\n",
    "Both libraries contains a set of mathematical functions for arrays and series but with a different aim. Pandas held all data in a Pandas Series object called Dataframe in memory which slows down the program while using large datasets.\n",
    "\n",
    "In general, Numpy is much faster than Pandas due to the fact that Pandas doing all work in Python but Numpy in C. In most cases Pandas are efficient enough for your work.\n",
    "\n"
   ]
  }
 ],
 "metadata": {
  "kernelspec": {
   "display_name": "Python 3 (based on the module python3/2022.01)",
   "language": "python",
   "name": "python3_2022_01"
  },
  "language_info": {
   "codemirror_mode": {
    "name": "ipython",
    "version": 3
   },
   "file_extension": ".py",
   "mimetype": "text/x-python",
   "name": "python",
   "nbconvert_exporter": "python",
   "pygments_lexer": "ipython3",
   "version": "3.9.9"
  }
 },
 "nbformat": 4,
 "nbformat_minor": 4
}
