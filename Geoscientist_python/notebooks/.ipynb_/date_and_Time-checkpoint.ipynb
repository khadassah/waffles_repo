{
 "cells": [
  {
   "cell_type": "markdown",
   "metadata": {},
   "source": [
    "# Working with date and time\n",
    "\n",
    "There are a few Python packages available to create and work with date and time.\n",
    "\n",
    "- datetime\n",
    "- numpy's datetime64\n",
    "- cftime\n",
    "- pandas\n",
    "\n",
    "In the next steps we will demonstrate the use of the different packages that's why we import all of them at the beginning.\n"
   ]
  },
  {
   "cell_type": "code",
   "execution_count": null,
   "metadata": {},
   "outputs": [],
   "source": [
    "from datetime import datetime, timedelta\n",
    "import numpy as np\n",
    "import cftime\n",
    "import pandas as pd"
   ]
  },
  {
   "cell_type": "markdown",
   "metadata": {},
   "source": [
    "<br>\n",
    "\n",
    "----\n",
    "\n",
    "## Use datetime package\n",
    "\n",
    "Datetime is part of the basic Python module.\n",
    "\n",
    "A time variable has a year, month, day, hour, minutes, and a seconds part.\n",
    "\n",
    "We want to declare a variable which has only one date - February 21st, 2021 00:00:00\n"
   ]
  },
  {
   "cell_type": "code",
   "execution_count": null,
   "metadata": {},
   "outputs": [],
   "source": [
    "time_dt = datetime(year=2021, month=2, day=21)\n",
    "\n",
    "print(time_dt)"
   ]
  },
  {
   "cell_type": "markdown",
   "metadata": {},
   "source": [
    "<br>\n",
    "\n",
    "Return the year, month and day as single integer values.\n"
   ]
  },
  {
   "cell_type": "code",
   "execution_count": null,
   "metadata": {},
   "outputs": [],
   "source": [
    "year = time_dt.year\n",
    "month = time_dt.month\n",
    "day = time_dt.day\n",
    "\n",
    "print(year)\n",
    "print(month)\n",
    "print(day)"
   ]
  },
  {
   "cell_type": "markdown",
   "metadata": {},
   "source": [
    "<br>\n",
    "\n",
    "Generate a time array that contains all days from Jan 1st, 2021 to Feb 28th, 2021.\n"
   ]
  },
  {
   "cell_type": "code",
   "execution_count": null,
   "metadata": {},
   "outputs": [],
   "source": [
    "time_dt = np.arange(datetime(2021,1,1), datetime(2021,3,1), timedelta(days=1)).astype(datetime)\n",
    "\n",
    "print(time_dt)"
   ]
  },
  {
   "cell_type": "markdown",
   "metadata": {},
   "source": [
    "<br>\n",
    "\n",
    "Read the years, months, and days of time_dt from above into separate integer arrays.\n"
   ]
  },
  {
   "cell_type": "code",
   "execution_count": null,
   "metadata": {},
   "outputs": [],
   "source": [
    "years  = [i.year for i in time_dt]\n",
    "months = [i.month for i in time_dt]\n",
    "days   = [i.day for i in time_dt]\n",
    "\n",
    "print('Years:  ', years)\n",
    "print('Months: ', months)\n",
    "print('Days:   ', days)"
   ]
  },
  {
   "cell_type": "markdown",
   "metadata": {},
   "source": [
    "<br>\n",
    "\n",
    "Retrieve the name of the weekday from datetime object element.\n"
   ]
  },
  {
   "cell_type": "code",
   "execution_count": null,
   "metadata": {},
   "outputs": [],
   "source": [
    "datetime(2021,2,21).strftime('%A')"
   ]
  },
  {
   "cell_type": "markdown",
   "metadata": {},
   "source": [
    "<br>\n",
    "\n",
    "If you want to get all information at one you can use datetimes ctime method.\n"
   ]
  },
  {
   "cell_type": "code",
   "execution_count": null,
   "metadata": {},
   "outputs": [],
   "source": [
    "datetime(2021, 2, 21, 12, 00, 00).ctime()"
   ]
  },
  {
   "cell_type": "markdown",
   "metadata": {},
   "source": [
    "<br>\n",
    "\n",
    "Format the output of datetime.\n"
   ]
  },
  {
   "cell_type": "code",
   "execution_count": null,
   "metadata": {},
   "outputs": [],
   "source": [
    "print(datetime(2021,2,21).__format__('%Y/%m/%d'))"
   ]
  },
  {
   "cell_type": "markdown",
   "metadata": {},
   "source": [
    "<br>\n",
    "\n",
    "Use stftime method to convert the datetime string into a string representing date and time.\n"
   ]
  },
  {
   "cell_type": "code",
   "execution_count": null,
   "metadata": {},
   "outputs": [],
   "source": [
    "new_date = datetime.today().strftime('%d/%m/%Y %H:%M')\n",
    "\n",
    "print(new_date)"
   ]
  },
  {
   "cell_type": "markdown",
   "metadata": {},
   "source": [
    "<br>\n",
    "\n",
    "See https://docs.python.org/3/library/datetime.html#strftime-and-strptime-format-codes\n"
   ]
  },
  {
   "cell_type": "code",
   "execution_count": null,
   "metadata": {},
   "outputs": [],
   "source": [
    "print('Weekday:      ', datetime.today().strftime('%A'))\n",
    "print('Month:        ', datetime.today().strftime('%B'))\n",
    "print('Week number:  ', datetime.today().strftime('%W'))\n",
    "print(\"Locale's date and time representation:  \", datetime.today().strftime('%c'))"
   ]
  },
  {
   "cell_type": "markdown",
   "metadata": {},
   "source": [
    "<br>\n",
    "\n",
    "Sometimes you need to calculate the duration between two time steps, therefore the datetime class timedelta can be used.\n"
   ]
  },
  {
   "cell_type": "code",
   "execution_count": null,
   "metadata": {},
   "outputs": [],
   "source": [
    "date_1 = datetime(2021, 2, 21, 12, 0, 0)\n",
    "date_2 = datetime(2021, 2, 22, 9, 17, 12)\n",
    "\n",
    "dt = date_2 - date_1\n",
    "\n",
    "print('dt in hh:mm:ss : ', dt)"
   ]
  },
  {
   "cell_type": "code",
   "execution_count": null,
   "metadata": {},
   "outputs": [],
   "source": [
    "print('dt in hours :   ', dt/timedelta(hours=1))\n",
    "print('dt in minutes : ', dt/timedelta(minutes=1))\n",
    "print('dt in seconds : ', dt/timedelta(seconds=1))"
   ]
  },
  {
   "cell_type": "markdown",
   "metadata": {},
   "source": [
    "<br>\n",
    "\n",
    "Shift date and time with timedelta.\n"
   ]
  },
  {
   "cell_type": "code",
   "execution_count": null,
   "metadata": {},
   "outputs": [],
   "source": [
    "print('Input date:        ', datetime.today())\n",
    "print('Shift by 2 hours : ', datetime.today() + timedelta(hours=2))\n",
    "print('Shift by 1 day :   ', datetime.today() + timedelta(days=1))"
   ]
  },
  {
   "cell_type": "markdown",
   "metadata": {},
   "source": [
    "<br>\n",
    "\n",
    "To get the current date and time the methods datetime.today() and datetime.now().\n"
   ]
  },
  {
   "cell_type": "code",
   "execution_count": null,
   "metadata": {},
   "outputs": [],
   "source": [
    "today = datetime.today()\n",
    "now = datetime.now()\n",
    "\n",
    "print(today)\n",
    "print(now)"
   ]
  },
  {
   "cell_type": "markdown",
   "metadata": {},
   "source": [
    "<br>\n",
    "\n",
    "Get the number of the weekday from a date.\n"
   ]
  },
  {
   "cell_type": "code",
   "execution_count": null,
   "metadata": {},
   "outputs": [],
   "source": [
    "print(today.isoweekday())"
   ]
  },
  {
   "cell_type": "code",
   "execution_count": null,
   "metadata": {},
   "outputs": [],
   "source": [
    "weekdays = ['Monday','Tuesday','Wednesday','Thursday','Friday','Saturday','Sunday']\n",
    "\n",
    "print('Weekday of ', today.date(), 'is', weekdays[today.isoweekday()-1])"
   ]
  },
  {
   "cell_type": "markdown",
   "metadata": {},
   "source": [
    "<br>\n",
    "\n",
    "Get the number of the week of a year.\n"
   ]
  },
  {
   "cell_type": "code",
   "execution_count": null,
   "metadata": {},
   "outputs": [],
   "source": [
    "print('Todays week number of the year: ', today.isocalendar()[1])"
   ]
  },
  {
   "cell_type": "markdown",
   "metadata": {},
   "source": [
    "<br>\n",
    "\n",
    "To find out wether a year is a leap year we can use the standard calender module.\n"
   ]
  },
  {
   "cell_type": "code",
   "execution_count": null,
   "metadata": {},
   "outputs": [],
   "source": [
    "import calendar\n",
    "\n",
    "print(calendar.isleap(today.year))"
   ]
  },
  {
   "cell_type": "markdown",
   "metadata": {},
   "source": [
    "<br>\n",
    "\n",
    "Goodie: Create your own calendar for 2021 or a single month of the year.\n"
   ]
  },
  {
   "cell_type": "code",
   "execution_count": null,
   "metadata": {},
   "outputs": [],
   "source": [
    "print(calendar.calendar(2021))\n",
    "print('----------------------------------------------------------------------')\n",
    "print(calendar.month(2021,2))"
   ]
  },
  {
   "cell_type": "markdown",
   "metadata": {},
   "source": [
    "<br>\n",
    "\n",
    "----\n",
    "\n",
    "## Use Nump's datetime64\n",
    "\n",
    "The differenz to datetime is that we have to declare the hours, minutes, and seconds explicitly if we need them.\n"
   ]
  },
  {
   "cell_type": "code",
   "execution_count": null,
   "metadata": {},
   "outputs": [],
   "source": [
    "time_np = np.array('2021-02-21', dtype='datetime64')\n",
    "\n",
    "print(time_np)"
   ]
  },
  {
   "cell_type": "markdown",
   "metadata": {},
   "source": [
    "<br>\n",
    "\n",
    "Define multiple dates at once.\n"
   ]
  },
  {
   "cell_type": "code",
   "execution_count": null,
   "metadata": {},
   "outputs": [],
   "source": [
    "time_np = np.array(['2021-02-21', '2021-02-22', '2021-02-23'], dtype='datetime64')\n",
    "\n",
    "print(time_np)"
   ]
  },
  {
   "cell_type": "markdown",
   "metadata": {},
   "source": [
    "<br>\n",
    "\n",
    "Generate a time range.\n"
   ]
  },
  {
   "cell_type": "code",
   "execution_count": null,
   "metadata": {},
   "outputs": [],
   "source": [
    "time_np = np.arange('2021-01', '2021-03', dtype='datetime64[D]')\n",
    "\n",
    "print(time_np)"
   ]
  },
  {
   "cell_type": "markdown",
   "metadata": {},
   "source": [
    "<br>\n",
    "\n",
    "Get the number of days of a year.\n"
   ]
  },
  {
   "cell_type": "code",
   "execution_count": null,
   "metadata": {},
   "outputs": [],
   "source": [
    "days = np.datetime64('2022-01-01') - np.datetime64('2021-01-01')\n",
    "\n",
    "print(days)"
   ]
  },
  {
   "cell_type": "markdown",
   "metadata": {},
   "source": [
    "<br>\n",
    "\n",
    "Get only the integer value."
   ]
  },
  {
   "cell_type": "code",
   "execution_count": null,
   "metadata": {},
   "outputs": [],
   "source": [
    "ndays = (days / np.timedelta64(1, 'D')).astype('int32')\n",
    "\n",
    "print(ndays)"
   ]
  },
  {
   "cell_type": "markdown",
   "metadata": {},
   "source": [
    "<br>\n",
    "\n",
    "Shift the time by 12 hours.\n"
   ]
  },
  {
   "cell_type": "code",
   "execution_count": null,
   "metadata": {},
   "outputs": [],
   "source": [
    "time_np = np.array(['2021-02-21 00:00:00', '2021-02-22', '2021-02-23'], dtype='datetime64')\n",
    "\n",
    "time_shift = time_np + np.timedelta64(12, 'h')\n",
    "\n",
    "print('Time array:    ', time_np)\n",
    "print('Shift by 12h:  ', time_shift)"
   ]
  },
  {
   "cell_type": "markdown",
   "metadata": {},
   "source": [
    "<br>\n",
    "\n",
    "----\n",
    "\n",
    "## Using Pandas\n",
    "\n",
    "See https://pandas.pydata.org/pandas-docs/stable/reference/general_functions.html\n",
    "\n",
    "Define the time variable time_pd with the pandas method to_datetime.\n"
   ]
  },
  {
   "cell_type": "code",
   "execution_count": null,
   "metadata": {},
   "outputs": [],
   "source": [
    "time_pd = pd.to_datetime('21st of February, 2021')\n",
    "\n",
    "print(time_pd)"
   ]
  },
  {
   "cell_type": "markdown",
   "metadata": {},
   "source": [
    "<br>\n",
    "\n",
    "Shift the date and time with the to_timedelta method.\n"
   ]
  },
  {
   "cell_type": "code",
   "execution_count": null,
   "metadata": {},
   "outputs": [],
   "source": [
    "print('Shift ', time_pd, 'by 2 hours : ', time_pd + pd.to_timedelta(1, unit='hours'))\n",
    "print('Shift ', time_pd, 'by 1 day :   ', time_pd + pd.to_timedelta(1, unit='days'))\n"
   ]
  },
  {
   "cell_type": "markdown",
   "metadata": {},
   "source": [
    "<br>\n",
    "\n",
    "Create an array of dates with selected frequency.\n"
   ]
  },
  {
   "cell_type": "code",
   "execution_count": null,
   "metadata": {},
   "outputs": [],
   "source": [
    "tarray_pd = pd.date_range('2021-02-21', periods=24, freq='H')\n",
    "\n",
    "print(tarray_pd)"
   ]
  },
  {
   "cell_type": "markdown",
   "metadata": {},
   "source": [
    "<br>\n",
    "\n",
    "Create an array of times with a duration of 1.5 hours between each time step.\n"
   ]
  },
  {
   "cell_type": "code",
   "execution_count": null,
   "metadata": {},
   "outputs": [],
   "source": [
    "tarr_1 = pd.timedelta_range(start='1 days', periods=9, freq='1H30T')\n",
    "\n",
    "print(tarr_1)"
   ]
  },
  {
   "cell_type": "markdown",
   "metadata": {},
   "source": [
    "<br>\n",
    "\n",
    "Create an array of dates for month January.\n"
   ]
  },
  {
   "cell_type": "code",
   "execution_count": null,
   "metadata": {},
   "outputs": [],
   "source": [
    "january = pd.date_range(start='2021-01-01', end='2021-01-31', freq='D')\n",
    "\n",
    "print(january)"
   ]
  },
  {
   "cell_type": "markdown",
   "metadata": {},
   "source": [
    "<br>\n",
    "\n",
    "Create an array of dates with 3 hours duration between each time step.\n"
   ]
  },
  {
   "cell_type": "code",
   "execution_count": null,
   "metadata": {},
   "outputs": [],
   "source": [
    "array_3hr = pd.date_range(start='2021-01-01', periods=9, freq='3H')\n",
    "\n",
    "print(array_3hr)"
   ]
  },
  {
   "cell_type": "code",
   "execution_count": null,
   "metadata": {},
   "outputs": [],
   "source": []
  }
 ],
 "metadata": {
  "kernelspec": {
   "display_name": "Python 3 (based on the module python3/2022.01)",
   "language": "python",
   "name": "python3_2022_01"
  },
  "language_info": {
   "codemirror_mode": {
    "name": "ipython",
    "version": 3
   },
   "file_extension": ".py",
   "mimetype": "text/x-python",
   "name": "python",
   "nbconvert_exporter": "python",
   "pygments_lexer": "ipython3",
   "version": "3.9.9"
  }
 },
 "nbformat": 4,
 "nbformat_minor": 4
}
