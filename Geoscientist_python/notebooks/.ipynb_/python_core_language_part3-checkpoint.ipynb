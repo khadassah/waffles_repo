{
 "cells": [
  {
   "cell_type": "markdown",
   "metadata": {},
   "source": [
    "# Python core language part 3\n",
    "\n",
    "**Content**\n",
    "\n",
    "You will learn:\n",
    "- [functions](#functions)\n",
    "- [classes](#classes)"
   ]
  },
  {
   "cell_type": "markdown",
   "metadata": {},
   "source": [
    "## Functions<a id='functions'></a>"
   ]
  },
  {
   "cell_type": "markdown",
   "metadata": {},
   "source": [
    "A **function** is a block of code, which only runs when it is called.\n",
    "\n",
    "It allows to divide your code into useful blocks.\n",
    "\n",
    "![](../images/functions.png)\n",
    "\n",
    "Syntax:\n",
    "```Python\n",
    "def function_name(input_parameter):\n",
    "\tstatement\n",
    "\t[…]\n",
    "\treturn output_parameter\n",
    "```"
   ]
  },
  {
   "cell_type": "code",
   "execution_count": null,
   "metadata": {},
   "outputs": [],
   "source": [
    "def foo():\n",
    "    pass"
   ]
  },
  {
   "cell_type": "code",
   "execution_count": null,
   "metadata": {},
   "outputs": [],
   "source": [
    "# Example\n",
    "def plus(a, b):\n",
    "    return a + b"
   ]
  },
  {
   "cell_type": "code",
   "execution_count": null,
   "metadata": {},
   "outputs": [],
   "source": [
    "plus(3,4)"
   ]
  },
  {
   "cell_type": "markdown",
   "metadata": {},
   "source": [
    "### <font color='red'>Excercise</font> \n",
    "1. Implement the Gauss formula as a function.\n",
    "2. Compare the results with the for loop for different cases.\n",
    "\n",
    "![](../images/gauss_formula.png)"
   ]
  },
  {
   "cell_type": "markdown",
   "metadata": {},
   "source": [
    "## Classes<a id='classes'></a>\n",
    "\n",
    "TODO: Mehr visuelle Beispiele ergänzen, wie Objektorientierung funktioniert..."
   ]
  },
  {
   "cell_type": "markdown",
   "metadata": {},
   "source": [
    "A python class is a collection of data and functions and can act as a blueprint, from which any number of instances can be created from. The class represents a new type and each of its instantiated objects has the same type. The functionality of python's class concept is geared to C++ and therefore offers all standard class concepts like inheritance. Since inheritance is a rather large topic, we will focus on the basic concepts; more information can be found in the official [documentation](https://docs.python.org/3/tutorial/classes.html) of python.\n",
    "\n",
    "Oversimplified a class offers a new namespace, by which all attributes of a class can be accessed and are separated from other variables or functions, which have the same name. All attributes (methods or variables) of a class are bound to the class or their objects. An attribut might be either a data attribute or a method."
   ]
  },
  {
   "cell_type": "markdown",
   "metadata": {},
   "source": [
    "## Very minimal working example"
   ]
  },
  {
   "cell_type": "code",
   "execution_count": null,
   "metadata": {},
   "outputs": [],
   "source": [
    "class VeryMinimalExample:\n",
    "    pass\n",
    "\n",
    "foo = VeryMinimalExample()"
   ]
  },
  {
   "cell_type": "markdown",
   "metadata": {},
   "source": [
    "## Minimal working example, which does something"
   ]
  },
  {
   "cell_type": "code",
   "execution_count": null,
   "metadata": {},
   "outputs": [],
   "source": [
    "class MinimalExample:\n",
    "    \"\"\"Minimal working class\"\"\"\n",
    "    foo = 42\n",
    "        \n",
    "    def baz():\n",
    "        print(\"Hallo Welt\")\n",
    "\n",
    "    def bar(self):\n",
    "        print(\"Hello World\")"
   ]
  },
  {
   "cell_type": "markdown",
   "metadata": {},
   "source": [
    "## Using a class\n",
    "\n",
    "Classes can be used for two things:\n",
    "1. Access _global_ class attributes\n",
    "2. Use it as a blueprint to instantiate a class object"
   ]
  },
  {
   "cell_type": "code",
   "execution_count": null,
   "metadata": {},
   "outputs": [],
   "source": [
    "print(MinimalExample.foo)"
   ]
  },
  {
   "cell_type": "markdown",
   "metadata": {},
   "source": [
    "Class attributes can be read from as well as be written to."
   ]
  },
  {
   "cell_type": "code",
   "execution_count": null,
   "metadata": {},
   "outputs": [],
   "source": [
    "MinimalExample.foo = 17\n",
    "print(MinimalExample.foo)"
   ]
  },
  {
   "cell_type": "code",
   "execution_count": null,
   "metadata": {},
   "outputs": [],
   "source": [
    "MinimalExample.baz()"
   ]
  },
  {
   "cell_type": "markdown",
   "metadata": {},
   "source": [
    "`bar(self)` takes the an argument `self`, which represents the instantiated class object. It's convention and good practice to name the first argument of a class method `self`. It can be named as you want (even though this is considered a bad style), its only important that it is the first argument. Via `self` the methods can access the object's attributes, on which the method is executed on. In the next section you will see how to instantiate such an object. Therefore, to call `bar()`, an class instance is needed."
   ]
  },
  {
   "cell_type": "code",
   "execution_count": null,
   "metadata": {},
   "outputs": [],
   "source": [
    "MinimalExample.bar()"
   ]
  },
  {
   "cell_type": "markdown",
   "metadata": {},
   "source": [
    "## Instantiate an object\n",
    "\n",
    "To create an object simply assume that the class is a function without parameters (in this case. It is possible, that the constructor requires you to pass arguments)."
   ]
  },
  {
   "cell_type": "code",
   "execution_count": null,
   "metadata": {},
   "outputs": [],
   "source": [
    "myObj = MinimalExample()"
   ]
  },
  {
   "cell_type": "code",
   "execution_count": null,
   "metadata": {},
   "outputs": [],
   "source": [
    "print(myObj.foo)"
   ]
  },
  {
   "cell_type": "code",
   "execution_count": null,
   "metadata": {},
   "outputs": [],
   "source": [
    "myObj.baz()"
   ]
  },
  {
   "cell_type": "code",
   "execution_count": null,
   "metadata": {},
   "outputs": [],
   "source": [
    "myObj.bar()"
   ]
  },
  {
   "cell_type": "markdown",
   "metadata": {},
   "source": [
    "Like class attributes you can change attributes of an instance as well."
   ]
  },
  {
   "cell_type": "code",
   "execution_count": null,
   "metadata": {},
   "outputs": [],
   "source": [
    "def hallo():\n",
    "    return \"Hallo\""
   ]
  },
  {
   "cell_type": "code",
   "execution_count": null,
   "metadata": {},
   "outputs": [],
   "source": [
    "myObj.bar = hallo\n",
    "myObj.bar()"
   ]
  },
  {
   "cell_type": "code",
   "execution_count": null,
   "metadata": {},
   "outputs": [],
   "source": [
    "myObj.foo = 1337\n",
    "print(myObj.foo)"
   ]
  },
  {
   "cell_type": "code",
   "execution_count": null,
   "metadata": {},
   "outputs": [],
   "source": [
    "print(MinimalExample.foo)"
   ]
  },
  {
   "cell_type": "markdown",
   "metadata": {},
   "source": [
    "## Explicit constructor\n",
    "\n",
    "\n",
    "Class instantiations are by default empty objects. A constructor (`__init__`) can be implemented to define the initial state of the object. `self` has no special meaning in python but is used in python to denote that a function or attribute belongs to a specific object and not the general class. Each class has a built-in `__init__(self)` function, either explicit (overridden) or implicit (original built-in). It is executed by calling the class like a function, which executes the `__init__(self)` function. It corresponds to the constructor method in C++. Like in C++ there is also a destructor, which is in Python `__del__(self)`. Since Python has a garbage collector, there are fewer use cases to make use of the destructor."
   ]
  },
  {
   "cell_type": "code",
   "execution_count": null,
   "metadata": {},
   "outputs": [],
   "source": [
    "class MediumExample:\n",
    "    \"\"\"Class example with data initialisation\"\"\"\n",
    "    def __init__(self, x):\n",
    "        self.x = x\n",
    "        self.y = 10"
   ]
  },
  {
   "cell_type": "code",
   "execution_count": null,
   "metadata": {},
   "outputs": [],
   "source": [
    "print(MediumExample.y)"
   ]
  },
  {
   "cell_type": "code",
   "execution_count": null,
   "metadata": {},
   "outputs": [],
   "source": [
    "myObj2 = MediumExample(1)"
   ]
  },
  {
   "cell_type": "code",
   "execution_count": null,
   "metadata": {},
   "outputs": [],
   "source": [
    "print(myObj2.x, myObj2.y)"
   ]
  },
  {
   "cell_type": "markdown",
   "metadata": {},
   "source": [
    "New object attributes can be created on the fly and do not interfere with other existing objects or the class itself."
   ]
  },
  {
   "cell_type": "code",
   "execution_count": null,
   "metadata": {},
   "outputs": [],
   "source": [
    "print(myObj2.baz)"
   ]
  },
  {
   "cell_type": "code",
   "execution_count": null,
   "metadata": {},
   "outputs": [],
   "source": [
    "myObj2.baz=100\n",
    "print(myObj2.baz)"
   ]
  },
  {
   "cell_type": "markdown",
   "metadata": {},
   "source": [
    "New methods can be created as well."
   ]
  },
  {
   "cell_type": "code",
   "execution_count": null,
   "metadata": {},
   "outputs": [],
   "source": [
    "def add(a,b):\n",
    "    return a+b"
   ]
  },
  {
   "cell_type": "code",
   "execution_count": null,
   "metadata": {},
   "outputs": [],
   "source": [
    "myObj2.new_method = add"
   ]
  },
  {
   "cell_type": "code",
   "execution_count": null,
   "metadata": {},
   "outputs": [],
   "source": [
    "myObj2.new_method(20,30)"
   ]
  },
  {
   "cell_type": "markdown",
   "metadata": {},
   "source": [
    "Attributes can also be deleted on-the-fly with the `del` statement."
   ]
  },
  {
   "cell_type": "code",
   "execution_count": null,
   "metadata": {},
   "outputs": [],
   "source": [
    "del myObj2.baz"
   ]
  },
  {
   "cell_type": "code",
   "execution_count": null,
   "metadata": {},
   "outputs": [],
   "source": [
    "print(myObj2.baz)"
   ]
  },
  {
   "cell_type": "markdown",
   "metadata": {},
   "source": [
    "### <font color='red'>Exercise</font> \n",
    "\n",
    "Create a class, which represents pixel. Your class should satisfy the following requirements:\n",
    "1. Three attributes, which represent the RGB channel (one attribute for the red value, one attribute for the green channel, one attribute for the blue channel). Those values shall be passed to the object during its creation. Make sure that only values between 0 and 255 are accepted: Values below zero should be set to zero, values above 255 to 255!\n",
    "2. Add a method `__str__(self)` to you class, which returns a string, which characterizes your pixel, i.e. if you print your pixel object (like `print(Pixel(50,100,150))`) it shall return a descriptive string."
   ]
  },
  {
   "cell_type": "code",
   "execution_count": null,
   "metadata": {},
   "outputs": [],
   "source": [
    "# your solution goes here\n",
    "class Pixel():\n",
    "    def __init__(self, r, g, b):\n",
    "        pass"
   ]
  },
  {
   "cell_type": "code",
   "execution_count": null,
   "metadata": {},
   "outputs": [],
   "source": [
    "pixel1 = Pixel(10,20,30)\n",
    "pixel2 = Pixel(-150,0,150)\n",
    "pixel3 = Pixel(100,200,300)\n",
    "print(pixel1)\n",
    "print(pixel2)\n",
    "print(pixel3)"
   ]
  },
  {
   "cell_type": "markdown",
   "metadata": {},
   "source": [
    "## Special attributes\n",
    "There are many special attributes, which allows special interaction with your objects. We will have a closer look on one example to get the idea of this concept.\n",
    "\n",
    "An iterator represents a stream of data, which can be easily iterated. If your data structure supports iteration it has the advantage that it can easily be used in a `for` loop. An iterable object can can be iterated through its values by implementing `__iter__()` and `__next__()`. \n",
    "\n",
    "- `__iter__()` returns the iteration object, which can be used to go through the values.\n",
    "- `__next__()` returns the next object in the sequence.\n",
    "\n",
    "To stop the iteration (necessary if the output is not created dynamically) you can raise an `StopIteration` exception. We will not cover exceptions here, so to prevent further output you can add a condition branch with `raise StopIteration` as soon as the last element is reached."
   ]
  },
  {
   "cell_type": "markdown",
   "metadata": {},
   "source": [
    "Collections are iterate-able, i.e. you can get an iterator object from them."
   ]
  },
  {
   "cell_type": "code",
   "execution_count": null,
   "metadata": {},
   "outputs": [],
   "source": [
    "fruits = [\"Ananas\", \"Apple\", \"Banana\"]\n",
    "iterator = iter(fruits)\n",
    "print(next(iterator))\n",
    "print(next(iterator))\n",
    "print(next(iterator))"
   ]
  },
  {
   "cell_type": "markdown",
   "metadata": {},
   "source": [
    "A `for` loop makes use of an iterator."
   ]
  },
  {
   "cell_type": "code",
   "execution_count": null,
   "metadata": {},
   "outputs": [],
   "source": [
    "for fruit in fruits:\n",
    "    print(fruit)"
   ]
  },
  {
   "cell_type": "markdown",
   "metadata": {},
   "source": [
    "### <font color='red'>Exercise</font> \n",
    "Create a new collector class `PixelCollection`, which represents a data structure: it stores a list of single `Pixel` objects and allows to easily iterate them. You can decide if you want to pass a complete list during the creation of a `PixelCollection` object or if you implement a method, to add single `Pixel` objects one by one."
   ]
  },
  {
   "cell_type": "code",
   "execution_count": null,
   "metadata": {},
   "outputs": [],
   "source": [
    "class PixelCollection():\n",
    "    def __init__(self, pixel_list):\n",
    "        pass\n",
    "\n",
    "    def __iter__(self):\n",
    "        pass\n",
    "\n",
    "    def __next__(self):\n",
    "        pass"
   ]
  },
  {
   "cell_type": "markdown",
   "metadata": {},
   "source": [
    "Now assign a `PixelCollection` object to the variable `collection`, and add `pixel1`, `pixel2` and `pixel3` to the collection."
   ]
  },
  {
   "cell_type": "code",
   "execution_count": null,
   "metadata": {},
   "outputs": [],
   "source": [
    "collection = None"
   ]
  },
  {
   "cell_type": "code",
   "execution_count": null,
   "metadata": {},
   "outputs": [],
   "source": [
    "for pixel in collection:\n",
    "    print(pixel)"
   ]
  }
 ],
 "metadata": {
  "interpreter": {
   "hash": "e7370f93d1d0cde622a1f8e1c04877d8463912d04d973331ad4851f04de6915a"
  },
  "kernelspec": {
   "display_name": "Python 3 (based on the module python3/2022.01)",
   "language": "python",
   "name": "python3_2022_01"
  },
  "language_info": {
   "codemirror_mode": {
    "name": "ipython",
    "version": 3
   },
   "file_extension": ".py",
   "mimetype": "text/x-python",
   "name": "python",
   "nbconvert_exporter": "python",
   "pygments_lexer": "ipython3",
   "version": "3.9.9"
  }
 },
 "nbformat": 4,
 "nbformat_minor": 4
}
