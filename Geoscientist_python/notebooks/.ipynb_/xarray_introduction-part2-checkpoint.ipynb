{
 "cells": [
  {
   "cell_type": "markdown",
   "id": "8ae6d2a1",
   "metadata": {},
   "source": [
    "# Xarray Part 2\n",
    "\n",
    "![xarray logo](../images/xarray_logo.png)\n",
    "\n",
    "https://xarray.pydata.org/en/stable/index.html\n"
   ]
  },
  {
   "cell_type": "code",
   "execution_count": null,
   "id": "f68c6dc9",
   "metadata": {},
   "outputs": [],
   "source": [
    "import numpy as np\n",
    "import xarray as xr\n",
    "path = '../data/precip_day*.nc'\n",
    "ds = xr.open_mfdataset(path)\n",
    "da = ds.precip\n",
    "ds"
   ]
  },
  {
   "cell_type": "markdown",
   "id": "30e7abab",
   "metadata": {
    "slideshow": {
     "slide_type": "slide"
    }
   },
   "source": [
    "## Select data\n",
    "\n",
    "From `xarray`'s [Indexing and selecting](http://xarray.pydata.org/en/stable/user-guide/indexing.html).\n",
    "\n",
    "In addition to `numpy`'s and Python’s `[]` syntax (`array[i, j]`, where `i` and `j` are both integers), xarray allows selecting data by **name**. Objects can store coordinates corresponding to each dimension of an array so that *label-based* indexing is also possible. In label-based indexing, the element position `i` is automatically looked-up from the coordinate values.\n",
    "\n",
    "Dimensions of `xarray` objects have names, so you can also lookup the dimensions by name, instead of remembering their positional order.\n",
    "\n",
    "> `Label` based selections mean that we do not need to know *anything* about the shape of the data array but can still work with the data.\n",
    "\n",
    "Thus in total, `xarray` supports four different kinds of indexing, as described below and summarized in this table:\n",
    "\n",
    "| Dimension lookup |  Index lookup |                 DataArray syntax                 |                  Dataset syntax                  |\n",
    "|:----------------:|:-------------:|:------------------------------------------------:|:------------------------------------------------:|\n",
    "| Positional       | By integer    | `da[0, :, :]`                                         | not available                                    |\n",
    "| Positional       | By label      | `da.loc[\"2001-01-01\", :, :]`                                  | not available                                    |\n",
    "| By name          | By integer    | `da.isel(time=0)` or   `da[dict(time=0)]`          | `ds.isel(time=0)` or   `ds[dict(time=0)`]          |\n",
    "| By name          | By label      | `da.sel(time=\"2001-01-01\")` or   `da.loc[dict(time=\"2001-01-01\")`] | `ds.sel(time=\"2001-01-01\"`) or   `ds.loc[dict(time=\"2001-01-01\")]` |"
   ]
  },
  {
   "cell_type": "code",
   "execution_count": null,
   "id": "9772fa31",
   "metadata": {},
   "outputs": [],
   "source": [
    "#1:\n",
    "da[0,:,:]\n",
    "#2\n",
    "da.loc[\"2001-01-01T00:00:00\", : , :]\n",
    "#3.1\n",
    "da.isel(time=0)\n",
    "#3.2\n",
    "ds.isel(time=0)\n",
    "#4.1\n",
    "da.sel(time=\"2001-01-01T00:00:00\")\n",
    "#4.2\n",
    "ds.sel(time=\"2001-01-01T00:00:00\")"
   ]
  },
  {
   "cell_type": "markdown",
   "id": "a160c56d",
   "metadata": {
    "slideshow": {
     "slide_type": "slide"
    }
   },
   "source": [
    "- Select **ranges** of data with `lower` and `upper` range values either by `numpy`-like access separated by `:` or with `.sel` and a `slice(lower, upper)`\n",
    "- Find the **nearest** value for *label based* selection with keyword `method`, e.g. `method=\"nearest\"`"
   ]
  },
  {
   "cell_type": "code",
   "execution_count": null,
   "id": "0132e5a0",
   "metadata": {},
   "outputs": [],
   "source": []
  },
  {
   "cell_type": "markdown",
   "id": "8f1c8782",
   "metadata": {},
   "source": [
    "<h2 style=\"color:red\"> Exercise </h2>\n",
    "\n",
    "Select the `pr` data for the grid box where Hamburg is in."
   ]
  },
  {
   "cell_type": "code",
   "execution_count": null,
   "id": "0e405bea",
   "metadata": {},
   "outputs": [],
   "source": []
  },
  {
   "cell_type": "markdown",
   "id": "ad6cfef9",
   "metadata": {
    "slideshow": {
     "slide_type": "slide"
    },
    "tags": []
   },
   "source": [
    "- **Masking** data with `where` allows to mask a data array with conditions on the *coordinates*. It applies on a *mask* of type `bool` with `True` and `False` values which we get by a condition. If we want to have all values of the southern hemisphere (`da.lat<0.`), we can do:\n",
    "\n",
    "```python\n",
    "da.where(da.lat<0., drop=True)\n",
    "```\n",
    "\n",
    "where the argument `drop=True` removes the *False* values."
   ]
  },
  {
   "cell_type": "code",
   "execution_count": null,
   "id": "d3904c7d",
   "metadata": {},
   "outputs": [],
   "source": []
  },
  {
   "cell_type": "markdown",
   "id": "560baf6a",
   "metadata": {},
   "source": [
    "## Computations (Xarray methods)\n",
    "\n",
    "Xarray includes the scientific libraries of Python stack, Numpy and pandas. This means we can use their capabilities for computations:\n",
    "\n",
    "```python\n",
    "da.max()\n",
    "da.min()\n",
    "da.std()\n",
    "```"
   ]
  },
  {
   "cell_type": "markdown",
   "id": "0eafc070",
   "metadata": {},
   "source": [
    "### Converting units manually\n",
    "\n",
    "The `precip` variable in the `ds` dataset has the units `kg m-2 s-1`. Lets assume that this is an average over the prior 6hours. In order to get the 6-hourly sum of this average, we need to multiply the data with a constant `c`. That can be done with\n",
    "\n",
    "```python\n",
    "precipt_mon=da*c\n",
    "```\n",
    "\n",
    "<h2 style=\"color:red\"> Exercise </h2>\n",
    "\n",
    "1. Calculate the maximum of the daily precipitation sum of all the three files.\n",
    "1. On what day did we have the highest daily precipitation?\n",
    "1. Which grid point is associated with the highest precipitation value?"
   ]
  },
  {
   "cell_type": "code",
   "execution_count": null,
   "id": "356cc1bc",
   "metadata": {},
   "outputs": [],
   "source": []
  },
  {
   "cell_type": "markdown",
   "id": "c6e24c9a",
   "metadata": {},
   "source": [
    "## Datetime\n",
    "\n",
    "With the underlying `datetime64` library, `xarray` allows *derived* `datetime` components. With that, we can easily select temporal subsets from a dataset. The following commands return time values from your dataset.\n",
    "\n",
    "```python\n",
    "ds[\"time.month\"]\n",
    "ds[\"time.dayofyear\"]\n",
    "ds[\"time.season\"]\n",
    "\n",
    "#is the same as:\n",
    "ds[\"time\"].dt.season\n",
    "```"
   ]
  },
  {
   "cell_type": "code",
   "execution_count": null,
   "id": "2ad19b35",
   "metadata": {},
   "outputs": [],
   "source": []
  },
  {
   "cell_type": "markdown",
   "id": "8c0b5835",
   "metadata": {},
   "source": [
    "### Resampling\n",
    "\n",
    "For upsampling or downsampling temporal resolutions, `xarray` offers a `resample()` method which takes a target frequency as argument. For example, we can downsample our dataset from 6-hourly to daily:\n",
    "\n",
    "```python\n",
    "ds.resample(time=\"1D\")\n",
    "```\n",
    "\n",
    "This command analyzes the *time* values of the dataset and creates groups for the resampling frequency. In a next step, you specify **how to fill** the groups. The base time of the resampled dataset is the first time step of the original. If you only want the values from `00:00`, which is part of the first time value, you can use `nearest()`:\n",
    "\n",
    "```python\n",
    "ds.resample(time=\"1D\").nearest()\n",
    "```"
   ]
  },
  {
   "cell_type": "code",
   "execution_count": null,
   "id": "e1249990",
   "metadata": {},
   "outputs": [],
   "source": []
  },
  {
   "cell_type": "markdown",
   "id": "11783e29",
   "metadata": {},
   "source": [
    "Again, it is important to check the *arguments* of these functions which allow you to configure in detail how to select the data.\n",
    "\n",
    "If you would like to have the values from `06:00` am, you can set an *offset* as argument:\n",
    "```python\n",
    "ds.resample(time=\"1D\", base=\"6H\").nearest()\n",
    "```"
   ]
  },
  {
   "cell_type": "code",
   "execution_count": null,
   "id": "663388e5",
   "metadata": {},
   "outputs": [],
   "source": []
  },
  {
   "cell_type": "markdown",
   "id": "ec2efac7",
   "metadata": {},
   "source": [
    "## GroupBy: split-apply-combine¶\n",
    "\n",
    "How can we do a statistical **analysis** on that precipitation time series?\n",
    "\n",
    "🧐\n",
    "\n",
    "One *principle* of `xarray` operations (similar as pandas) is to implement the **split-apply-combine** strategy (from `xarray`'s [doc](http://xarray.pydata.org/en/stable/user-guide/groupby.html)).\n",
    "\n",
    "1. Split your data into multiple independent groups with `groupby`.\n",
    "\n",
    "1. Apply some function to each group, e.g. `mean`.\n",
    "\n",
    "1. ( Combine your groups back into a single data object if necessary ).\n",
    "\n",
    "We did it already in the *resample* section where we created groups with `resample` for frequencies and then *applied* a function to these groups. The *combine* is often implicated.\n",
    "\n",
    "`groupby` operations work on both Dataset and DataArray objects. Let's see what that means to our `time` axis:"
   ]
  },
  {
   "cell_type": "code",
   "execution_count": null,
   "id": "445bbe8a",
   "metadata": {},
   "outputs": [],
   "source": [
    "ds.groupby(\"time.dayofyear\").mean()"
   ]
  },
  {
   "cell_type": "markdown",
   "id": "76a9b1d3",
   "metadata": {},
   "source": [
    "We can also create groups with *ranges* which can gives us a histogram-like result. E.g., grouping into latitude ranges of *30* degrees will look like:"
   ]
  },
  {
   "cell_type": "code",
   "execution_count": null,
   "id": "3ad10899",
   "metadata": {},
   "outputs": [],
   "source": [
    " ds.groupby_bins(\"lat\", [0, 30, 60, 90],\n",
    "                labels=[\"nequator\", \"nsubtropic\", \"nhighlats\"]).mean()"
   ]
  },
  {
   "cell_type": "markdown",
   "id": "8b3f487c",
   "metadata": {},
   "source": [
    "<h2 style=\"color:red\"> Exercise </h2>\n",
    "\n",
    "In which of 3 *climate zone* (assumed to have boardes at latitudes) occurs the highest average daily precip over the three given days?\n",
    "\n",
    "1. Sum up the 6hourly sum of precipitation values to daily sum of precipation.\n",
    "1. Average over `lon`\n",
    "1. Apply `groupby_bins` and take negative latitudes into account.\n",
    "1. Calculate the result"
   ]
  },
  {
   "cell_type": "code",
   "execution_count": null,
   "id": "f6fa56a3",
   "metadata": {},
   "outputs": [],
   "source": []
  },
  {
   "cell_type": "markdown",
   "id": "09fd3ccd",
   "metadata": {},
   "source": [
    "## Write a Dataset to netCDF file\n",
    "\n",
    "Xarray provides the functions `to_netcdf` or `to_zarr` to write a dataset to a file of these formats. The file ending for netCDF files is `.nc`.\n",
    "\n",
    "```python\n",
    "precip_day.to_netcdf(<filename>)\n",
    "``` \n",
    "\n",
    "<h2 style=\"color:red\"> Exercise </h2>\n",
    "\n",
    "Let's write our *daily* precipitation diagnostic to a new file and reopen it."
   ]
  },
  {
   "cell_type": "code",
   "execution_count": null,
   "id": "c15663a4",
   "metadata": {},
   "outputs": [],
   "source": []
  },
  {
   "cell_type": "markdown",
   "id": "e50b9c6c",
   "metadata": {},
   "source": [
    "## Working with missing values\n",
    "\n",
    "- In observations, missing values are set in for gaps\n",
    "- In model data, missing values are used when the model does not produce output for a cell\n",
    "\n",
    "`xarray` treats missing values as `NaN`s, and there are different ways to handle missing values in Xarray. The methods `isnull`, `notnull`, `dropna`, `fillna`, and `count` can be used to work with data with missing values.\n",
    "\n",
    "We now disucss 6 use cases abouthandling missing values with xarray."
   ]
  },
  {
   "cell_type": "markdown",
   "id": "96788e39",
   "metadata": {},
   "source": [
    "In standardized netCDF files, the *missing value* of a variable is given as a variable attribute. But we will not always work with *standardized* files, so it is beneficial to know how to set the missing value of an array:\n",
    "\n",
    "1. Set a value in an array to missing value\n",
    "\n",
    "`numpy`'s `np.nan` method is used to define -9999 as the missing value.\n",
    "\n",
    "```python\n",
    "tarray = xr.DataArray(data=[0, 1, -9999, 3, 4, 5, 6, 7, -9999, 9, 10], dims='x')\n",
    "tarray = tarray.where(tarray != -9999, np.nan)\n",
    "\n",
    "print(tarray)\n",
    "```\n",
    "\n",
    "Result:\n",
    "\n",
    "```python\n",
    "<xarray.DataArray (x: 11)>\n",
    "array([ 0.,  1., nan,  3.,  4.,  5.,  6.,  7., nan,  9., 10.])\n",
    "Dimensions without coordinates: x\n",
    "```"
   ]
  },
  {
   "cell_type": "code",
   "execution_count": null,
   "id": "3f00ad17",
   "metadata": {},
   "outputs": [],
   "source": []
  },
  {
   "cell_type": "markdown",
   "id": "1acf5d67",
   "metadata": {},
   "source": [
    "2. Check where *missing values* exist. It returns a mask array of True/False elements.\n",
    "\n",
    "```python\n",
    "print(tarray.isnull())\n",
    "```\n",
    "\n",
    "Result:\n",
    "\n",
    "```python\n",
    "<xarray.DataArray (x: 11)>\n",
    "array([False, False,  True, False, False, False, False, False,  True,\n",
    "       False, False])\n",
    "Dimensions without coordinates: x\n",
    "```"
   ]
  },
  {
   "cell_type": "code",
   "execution_count": null,
   "id": "f1a8fde0",
   "metadata": {},
   "outputs": [],
   "source": []
  },
  {
   "cell_type": "markdown",
   "id": "4fc31a2a",
   "metadata": {},
   "source": [
    "3. The opposition: Set value in mask file to True when value is not NaN (missing value)\n",
    "\n",
    "```python\n",
    "print(tarray.notnull())\n",
    "```\n",
    "\n",
    "Result:\n",
    "\n",
    "```python\n",
    "<xarray.DataArray (x: 11)>\n",
    "array([ True,  True, False,  True,  True,  True,  True,  True, False,\n",
    "        True,  True])\n",
    "Dimensions without coordinates: x\n",
    "```"
   ]
  },
  {
   "cell_type": "code",
   "execution_count": null,
   "id": "a5f06e93",
   "metadata": {},
   "outputs": [],
   "source": []
  },
  {
   "cell_type": "markdown",
   "id": "08f1b709",
   "metadata": {},
   "source": [
    "4. Count value that are not missing values.\n",
    "\n",
    "```python\n",
    "print(tarray.count())\n",
    "```\n",
    "\n",
    "Result:\n",
    "\n",
    "```python\n",
    "<xarray.DataArray ()>\n",
    "array(9)\n",
    "```"
   ]
  },
  {
   "cell_type": "code",
   "execution_count": null,
   "id": "f103f1f2",
   "metadata": {},
   "outputs": [],
   "source": []
  },
  {
   "cell_type": "markdown",
   "id": "b262a1a4",
   "metadata": {},
   "source": [
    "5. *Drop* all `NaN`s of an array. Return all array elements that are not missing values.\n",
    "\n",
    "```python\n",
    "print(tarray.dropna(dim='x'))\n",
    "```\n",
    "\n",
    "Result:\n",
    "\n",
    "```python\n",
    "<xarray.DataArray (x: 9)>\n",
    "array([ 0.,  1.,  3.,  4.,  5.,  6.,  7.,  9., 10.])\n",
    "Dimensions without coordinates: x\n",
    "```"
   ]
  },
  {
   "cell_type": "code",
   "execution_count": null,
   "id": "d1237cfd",
   "metadata": {},
   "outputs": [],
   "source": []
  },
  {
   "cell_type": "markdown",
   "id": "7c463fbe",
   "metadata": {},
   "source": [
    "6. Set missing value to a constant number\n",
    "\n",
    "```python\n",
    "print(tarray.fillna(0))\n",
    "```\n",
    "\n",
    "Result:\n",
    "\n",
    "```python\n",
    "<xarray.DataArray (x: 11)>\n",
    "array([ 0.,  1.,  0.,  3.,  4.,  5.,  6.,  7.,  0.,  9., 10.])\n",
    "Dimensions without coordinates: x\n",
    "```"
   ]
  },
  {
   "cell_type": "code",
   "execution_count": null,
   "id": "61e92143",
   "metadata": {},
   "outputs": [],
   "source": []
  },
  {
   "cell_type": "markdown",
   "id": "cc46a773",
   "metadata": {},
   "source": [
    "## Reshaping\n",
    "\n",
    "There are different ways to swap the dimensions of an array from (x,y) to (y,x), on the one hand the `transpose` and on the other hand the `T` methods. \n",
    "\n",
    "Example:\n",
    "\n",
    "```pyzhon\n",
    "B = xr.DataArray(np.arange(1, 31).reshape(6, 5), dims=('x', 'y'))\n",
    "```\n",
    "\n",
    "Result: \n",
    "\n",
    "```python\n",
    "<xarray.DataArray (x: 6, y: 5)>\n",
    "array([[ 1,  2,  3,  4,  5],\n",
    "       [ 6,  7,  8,  9, 10],\n",
    "       [11, 12, 13, 14, 15],\n",
    "       [16, 17, 18, 19, 20],\n",
    "       [21, 22, 23, 24, 25],\n",
    "       [26, 27, 28, 29, 30]])\n",
    "Dimensions without coordinates: x, y\n",
    "```\n",
    "\n",
    "Now, let us see what happens using the `transpose` method:\n",
    "\n",
    "```python\n",
    "print(B.transpose())\n",
    "```\n",
    "\n",
    "Result: \n",
    "\n",
    "```python\n",
    "<xarray.DataArray (y: 5, x: 6)>\n",
    "array([[ 1,  6, 11, 16, 21, 26],\n",
    "       [ 2,  7, 12, 17, 22, 27],\n",
    "       [ 3,  8, 13, 18, 23, 28],\n",
    "       [ 4,  9, 14, 19, 24, 29],\n",
    "       [ 5, 10, 15, 20, 25, 30]])\n",
    "Dimensions without coordinates: y, x\n",
    "```\n",
    "\n",
    "And the second way with the `T` method:\n",
    "\n",
    "```python\n",
    "print(B.T)\n",
    "```\n",
    "\n",
    "Result:\n",
    "\n",
    "```python\n",
    "<xarray.DataArray (y: 5, x: 6)>\n",
    "array([[ 1,  6, 11, 16, 21, 26],\n",
    "       [ 2,  7, 12, 17, 22, 27],\n",
    "       [ 3,  8, 13, 18, 23, 28],\n",
    "       [ 4,  9, 14, 19, 24, 29],\n",
    "       [ 5, 10, 15, 20, 25, 30]])\n",
    "Dimensions without coordinates: y, x\n",
    "```"
   ]
  },
  {
   "cell_type": "markdown",
   "id": "f0742a7a",
   "metadata": {},
   "source": [
    "<h2 style=\"color:red\"> Exercise </h2>\n",
    "\n",
    "Create your own arrays and reshape them as you like."
   ]
  },
  {
   "cell_type": "code",
   "execution_count": null,
   "id": "2b251f55",
   "metadata": {},
   "outputs": [],
   "source": []
  },
  {
   "cell_type": "code",
   "execution_count": null,
   "id": "1886c8c3",
   "metadata": {},
   "outputs": [],
   "source": [
    "B = xr.DataArray(np.arange(1, 31).reshape(6, 5), dims=('x', 'y'))\n",
    "print(B.transpose())\n",
    "print(B.T)"
   ]
  },
  {
   "cell_type": "markdown",
   "id": "607d7b97",
   "metadata": {},
   "source": [
    "## Plotting\n",
    "\n",
    "Some additional examples demonstrate how to use the Xarray plot method."
   ]
  },
  {
   "cell_type": "code",
   "execution_count": null,
   "id": "7a1df1df",
   "metadata": {},
   "outputs": [],
   "source": [
    "ds=xr.open_dataset('../data/tsurf.nc')"
   ]
  },
  {
   "cell_type": "markdown",
   "id": "2e2f97f4",
   "metadata": {},
   "source": [
    "**Example 1:** Create the plot of the variable temperature (first timestep)\n",
    "\n",
    "```python\n",
    "ds.temp[0,:,:].plot()\n",
    "```\n",
    "\n",
    "**Note** that the axes are annotated automatically.\n",
    "\n",
    "![xarray_contourplot_default.png](../images/xarray_contourplot_default.png)\n",
    "\n",
    "<br />\n",
    "\n"
   ]
  },
  {
   "cell_type": "code",
   "execution_count": null,
   "id": "d40f3ca1",
   "metadata": {},
   "outputs": [],
   "source": [
    "ds.temp[0,:,:].plot()"
   ]
  },
  {
   "cell_type": "markdown",
   "id": "99a8d677",
   "metadata": {},
   "source": [
    "<br />\n",
    "\n",
    "**Example 2:** Create the plot of the variable tsurf first timestep from file.\n",
    "\n",
    "Create the plot using the default settings.\n",
    "\n",
    "```python\n",
    "xr.open_dataset('../data/tsurf.nc').tsurf[0,:,:].plot()\n",
    "```\n",
    "\n",
    "![xarray_contourf_tsurf.png](../images/xarray_contourf_tsurf.png)\n",
    "\n",
    "Set the plot type to contourf (filled contours) and set the number of color intervals to 20.\n",
    "\n",
    "```python\n",
    "xr.open_dataset('../data/tsurf.nc').tsurf[0,:,:].plot.contourf(levels=20)\n",
    "```\n",
    "\n",
    "![xarray_contourf_tsurf_levels.png](../images/xarray_contourf_tsurf_levels.png)\n",
    "\n",
    "<br />\n"
   ]
  },
  {
   "cell_type": "markdown",
   "id": "11076f05",
   "metadata": {},
   "source": [
    "<h2 style=\"color:red\"> Exercise </h2>\n",
    "\n",
    "1. Create the default plot\n",
    "2. Create a filled contour plot with only 10 levels\n",
    "\n",
    "> **Note:** Run the commands in two different notebook cells.\n",
    "\n",
    "3. What happens when you run it in the same notebook cell?\n",
    "\n",
    "<br />\n"
   ]
  },
  {
   "cell_type": "code",
   "execution_count": null,
   "id": "f054cbb0",
   "metadata": {},
   "outputs": [],
   "source": [
    "xr.open_dataset('../data/tsurf.nc').tsurf[0,:,:].plot()\n"
   ]
  },
  {
   "cell_type": "code",
   "execution_count": null,
   "id": "b9027ef5",
   "metadata": {},
   "outputs": [],
   "source": [
    "xr.open_dataset('../data/tsurf.nc').tsurf[0,:,:].plot.contourf(levels=10)\n"
   ]
  },
  {
   "cell_type": "markdown",
   "id": "0e5cf5e9",
   "metadata": {},
   "source": [
    "<br />\n",
    "\n",
    "## More Plotting\n",
    "\n",
    "Here comes another plot example to show the interpolation methods.\n",
    "\n",
    "1. Create an Xarray DataArray using `xr.DataArray`, `np.linspace`and `np.sin`.\n",
    "1. Plot array\n",
    "1. Interpolate array values using _linear_ and _cubic_ methods and plot the interpolated data.\n",
    "\n",
    "\n",
    "```python\n",
    "import matplotlib.pyplot as plt\n",
    "\n",
    "fig, ax = plt.subplots(figsize=(6,4))\n",
    "\n",
    "da = xr.DataArray(np.sin(np.linspace(0, 2 * np.pi, 10)), dims=\"x\", coords={\"x\": np.linspace(0, 1, 10)})\n",
    "\n",
    "da.plot.line('o', label='original')\n",
    "da.interp(x=np.linspace(0, 1, 100)).plot.line(label='linear (default)')\n",
    "da.interp(x=np.linspace(0, 1, 100), method='cubic').plot.line(label='cubic')\n",
    "plt.legend()\n",
    "```\n",
    "<br />\n",
    "\n",
    "![xarray_lineplot.png](../images/xarray_lineplot.png)\n",
    "\n",
    "<br />\n"
   ]
  },
  {
   "cell_type": "code",
   "execution_count": null,
   "id": "cf78e0de",
   "metadata": {},
   "outputs": [],
   "source": [
    "import matplotlib.pyplot as plt\n",
    "\n",
    "fig, ax = plt.subplots(figsize=(6,4))\n",
    "\n",
    "da = xr.DataArray(np.sin(np.linspace(0, 2 * np.pi, 10)), dims=\"x\", coords={\"x\": np.linspace(0, 1, 10)})\n",
    "\n",
    "da.plot.line('o', label='original')\n",
    "da.interp(x=np.linspace(0, 1, 100)).plot.line(label='linear (default)')\n",
    "da.interp(x=np.linspace(0, 1, 100), method='cubic').plot.line(label='cubic')\n",
    "plt.legend()"
   ]
  },
  {
   "cell_type": "code",
   "execution_count": null,
   "id": "bde65d52",
   "metadata": {},
   "outputs": [],
   "source": []
  }
 ],
 "metadata": {
  "kernelspec": {
   "display_name": "Python 3 (based on the module python3/2022.01)",
   "language": "python",
   "name": "python3_2022_01"
  },
  "language_info": {
   "codemirror_mode": {
    "name": "ipython",
    "version": 3
   },
   "file_extension": ".py",
   "mimetype": "text/x-python",
   "name": "python",
   "nbconvert_exporter": "python",
   "pygments_lexer": "ipython3",
   "version": "3.9.9"
  }
 },
 "nbformat": 4,
 "nbformat_minor": 5
}
