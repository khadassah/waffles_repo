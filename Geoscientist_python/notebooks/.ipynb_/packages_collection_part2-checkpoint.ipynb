{
 "cells": [
  {
   "cell_type": "markdown",
   "id": "c486f3bf",
   "metadata": {},
   "source": [
    "# Useful packages II\n",
    "\n",
    "The second part of this tutorial is about\n",
    "\n",
    "- [json](https://docs.python.org/3/library/json.html): Interact with lightweight data-interchange format JSON\n",
    "- [tqdm](https://tqdm.github.io/): Add a Progress bar\n",
    "- [re](https://docs.python.org/3/library/re.html): handle regular expressions\n",
    "- [subprocess](https://docs.python.org/3/library/subprocess.html): Spawn new processes\n",
    "- tempfile\n",
    "- pathlib"
   ]
  },
  {
   "cell_type": "markdown",
   "id": "23351865",
   "metadata": {},
   "source": [
    "## JSON\n",
    "JSON is a human readable format, which eases data exchange via text files. They can be used to transfer data but can also be used for config files for example. JSON does not depend on the programming language but has its own specification. Mostly JSON behaves like a dictionary. Let's take this example JSON snippet\n",
    "\n",
    "```json\n",
    "{\n",
    "  \"School\": \"Example school\",\n",
    "  \"City\": \"Hamburg\",\n",
    "  \"old\": true,\n",
    "  \"Classes\": [\n",
    "    {\n",
    "      \"ID\": \"1A\",\n",
    "      \"Teachers\": [\n",
    "        \"Jane Doe\",\n",
    "        \"John Smith\"\n",
    "      ],\n",
    "      \"StudCount\": 22\n",
    "    },\n",
    "    {\n",
    "      \"ID\": \"1B\",\n",
    "      \"Teachers\": [],\n",
    "      \"StudCount\": 0\n",
    "    }\n",
    "  ]\n",
    "}\n",
    "```"
   ]
  },
  {
   "cell_type": "code",
   "execution_count": null,
   "id": "84d99d33",
   "metadata": {},
   "outputs": [],
   "source": [
    "json_string=\"\"\"{\n",
    "  \"School\": \"Example school\",\n",
    "  \"City\": \"Hamburg\",\n",
    "  \"old\": true,\n",
    "  \"Classes\": [\n",
    "    {\n",
    "      \"ID\": \"1A\",\n",
    "      \"Teachers\": [\n",
    "        \"Jane Doe\",\n",
    "        \"John Smith\"\n",
    "      ],\n",
    "      \"StudCount\": 22\n",
    "    },\n",
    "    {\n",
    "      \"ID\": \"1B\",\n",
    "      \"Teachers\": [],\n",
    "      \"StudCount\": 0\n",
    "    }\n",
    "  ]\n",
    "}\n",
    "\"\"\""
   ]
  },
  {
   "cell_type": "markdown",
   "id": "baea069e",
   "metadata": {},
   "source": [
    "Import the package `json` and read in the JSON data with `json.loads`"
   ]
  },
  {
   "cell_type": "code",
   "execution_count": null,
   "id": "e9c76ff4",
   "metadata": {},
   "outputs": [],
   "source": [
    "import json"
   ]
  },
  {
   "cell_type": "code",
   "execution_count": null,
   "id": "b1c017b5",
   "metadata": {},
   "outputs": [],
   "source": [
    "school = json.loads(json_string)"
   ]
  },
  {
   "cell_type": "code",
   "execution_count": null,
   "id": "76197ab3",
   "metadata": {},
   "outputs": [],
   "source": [
    "print(school)"
   ]
  },
  {
   "cell_type": "markdown",
   "id": "cac44cc0",
   "metadata": {},
   "source": [
    "The package returns a datastructure, which consists of (nested) python collection types, an can therefore be accessed and adjusted as well"
   ]
  },
  {
   "cell_type": "code",
   "execution_count": null,
   "id": "2f0da502",
   "metadata": {},
   "outputs": [],
   "source": [
    "print(\"School name: \" + school[\"School\"])\n",
    "print(\"School is old: \" + str(school[\"old\"]))\n",
    "print(\"Second class of school: \" + str(school[\"Classes\"][1]))"
   ]
  },
  {
   "cell_type": "code",
   "execution_count": null,
   "id": "ebf420b8",
   "metadata": {},
   "outputs": [],
   "source": [
    "school[\"Classes\"].append({\"ID\": \"1C\", \"Teachers\": [\"Max Mustermann\", \"Maria Musterfrau\"]})"
   ]
  },
  {
   "cell_type": "code",
   "execution_count": null,
   "id": "8b3f36b3",
   "metadata": {},
   "outputs": [],
   "source": [
    "print(school)"
   ]
  },
  {
   "cell_type": "code",
   "execution_count": null,
   "id": "f8379af9",
   "metadata": {},
   "outputs": [],
   "source": [
    "json.dumps(school, sort_keys=True, indent=4)"
   ]
  },
  {
   "cell_type": "code",
   "execution_count": null,
   "id": "a19f3dcc",
   "metadata": {},
   "outputs": [],
   "source": [
    "with open(\"test.json\", \"w\") as f:\n",
    "    f.write(json.dumps(school,sort_keys=True, indent=4))\n",
    "    "
   ]
  },
  {
   "cell_type": "markdown",
   "id": "25aa7c33",
   "metadata": {},
   "source": [
    "## tqdm\n",
    "Especially if an application has a long runtime it is a good idea to provide feedback to the user so that they can estimate how much time the current application run could still take and to indicate that the application did not freeze and is still doing something"
   ]
  },
  {
   "cell_type": "markdown",
   "id": "a65101d7",
   "metadata": {},
   "source": [
    "`tqdm` allows you to insert a progress bar into your application, which is automatically printed and updated to the command line. Anything, what can be iterated through, can be wrapped with a `tqdm` object. "
   ]
  },
  {
   "cell_type": "code",
   "execution_count": null,
   "id": "77b5698b",
   "metadata": {},
   "outputs": [],
   "source": [
    "from tqdm import tqdm"
   ]
  },
  {
   "cell_type": "code",
   "execution_count": null,
   "id": "04fe6ed2",
   "metadata": {},
   "outputs": [],
   "source": [
    "from time import sleep\n",
    "for i in tqdm(range(100)):\n",
    "        #do stuff\n",
    "        sleep(0.05)\n",
    "        "
   ]
  },
  {
   "cell_type": "markdown",
   "id": "c4ffd9fa",
   "metadata": {},
   "source": [
    "## re\n",
    "This package offers a lot for handling regular expressions. Cleverly used regular expressions can become powerful if you want to search for patterns (e.g. within file names). A website to check if your regular expression does what you expect it to do, you can give [regex101.com](https://regex101.com/) a try.\n",
    "\n",
    "Regular expression can be used to search for a pattern or test if a string matches a given pattern. "
   ]
  },
  {
   "cell_type": "markdown",
   "id": "1e8ddbf4",
   "metadata": {},
   "source": [
    "#### Python regular expressions\n",
    "\n",
    "We'll have a look at a selection of interesting/important regex components. For a more complete list, have a look at [link](https://docs.python.org/3/library/re.html#regular-expression-syntax). The following list is taken from [regex101.com](https://regex101.com/)."
   ]
  },
  {
   "cell_type": "markdown",
   "id": "9b058f19",
   "metadata": {},
   "source": [
    "| Symbol        | Meaning           |\n",
    "| ------------- |:-------------:|\n",
    "| [abc] | A single character of: a, b or c |\n",
    "| [^abc] | A character except: a, b or c |\n",
    "| [a-z] | A character in the range: a-z |\n",
    "| [^a-z] | A character not in the range: a-z |\n",
    "| [a-zA-Z] | A character in the range: a-z or A-Z |\n",
    "| . | Any single character\n",
    "| a &#124; b | Alternate - match either a or b\n",
    "| \\\\s | Any whitespace character\n",
    "| \\\\S | Any non-whitespace character\n",
    "| \\\\d | Any digit\n",
    "| \\\\D | Any non-digit\n",
    "| \\\\w | Any word character\n",
    "| \\\\W | Any non-word character\n",
    "| (...) | Capture everything enclosed |\n",
    "| a? | Zero or one of a |\n",
    "| a* | Zero or more of a |\n",
    "| a+ | One or more of a |\n",
    "| a{3} | Exactly 3 of a |\n",
    "| a{3,} | 3 or more of a |\n",
    "| a{3,6} | Between 3 and 6 of a |\n",
    "| ^| Start of string |\n",
    "| $ | End of string |\n",
    "| \\\\b| A word boundary |\n",
    "| \\\\B| Non-word boundary |"
   ]
  },
  {
   "cell_type": "code",
   "execution_count": null,
   "id": "634cfa31",
   "metadata": {},
   "outputs": [],
   "source": [
    "import re"
   ]
  },
  {
   "cell_type": "code",
   "execution_count": null,
   "id": "79fc3967",
   "metadata": {},
   "outputs": [],
   "source": [
    "string = \"\"\"\n",
    "Hello the World\n",
    "This is a simple test message to check if\n",
    "we can use the regex machanics.\n",
    "\n",
    "At the moment we haven't done anything, yet.\n",
    "file_001.txt\n",
    "file_002.txt\n",
    "file_003.csv\n",
    "file_040.csv\n",
    "\"\"\"\n",
    "test_list=[\"something 01: Cats$Dogs\", \"blabla blabla blubb 02: BMW$VW\", \"oooommmm....ommmmm....03: Pauli$HSV\", \"rubbish\", \"04 04 04 04 04: LoL$Dota\"]"
   ]
  },
  {
   "cell_type": "markdown",
   "id": "b7d45607",
   "metadata": {},
   "source": [
    "#### search/match"
   ]
  },
  {
   "cell_type": "code",
   "execution_count": null,
   "id": "891ace7d",
   "metadata": {},
   "outputs": [],
   "source": [
    "search_result = re.search(\"Uetersen\", string)\n",
    "if not search_result:\n",
    "    print(\"Nothing found\")"
   ]
  },
  {
   "cell_type": "code",
   "execution_count": null,
   "id": "763dadc3",
   "metadata": {},
   "outputs": [],
   "source": [
    "print(type(search_result))"
   ]
  },
  {
   "cell_type": "code",
   "execution_count": null,
   "id": "1b7a9b8e",
   "metadata": {},
   "outputs": [],
   "source": [
    "search_result = re.search(\"the\", string)\n",
    "if search_result:\n",
    "    print(\"Found something\")    \n",
    "    start_index = search_result.span()[0]\n",
    "    end_index = search_result.span()[1]\n",
    "    str_surroundings = string[max(0, start_index - 10): end_index + 10]\n",
    "    print(f\"Occurence was found at index {start_index}: \\\"{str_surroundings}\\\"\")\n"
   ]
  },
  {
   "cell_type": "code",
   "execution_count": null,
   "id": "ce221f72",
   "metadata": {},
   "outputs": [],
   "source": [
    "print(type(search_result))\n",
    "print(string)"
   ]
  },
  {
   "cell_type": "code",
   "execution_count": null,
   "id": "621598a7",
   "metadata": {},
   "outputs": [],
   "source": [
    "search_result = re.match(\"the\", string)\n",
    "print(search_result)"
   ]
  },
  {
   "cell_type": "markdown",
   "id": "1b4df7f5",
   "metadata": {},
   "source": [
    "#### findall"
   ]
  },
  {
   "cell_type": "code",
   "execution_count": null,
   "id": "6bc9fcd1",
   "metadata": {},
   "outputs": [],
   "source": [
    "search_results = re.findall(\"Uetersen\", string)"
   ]
  },
  {
   "cell_type": "code",
   "execution_count": null,
   "id": "52f9e26e",
   "metadata": {},
   "outputs": [],
   "source": [
    "if len(search_results) > 0:\n",
    "    help_func(search_results)"
   ]
  },
  {
   "cell_type": "code",
   "execution_count": null,
   "id": "ced91ecc",
   "metadata": {},
   "outputs": [],
   "source": [
    "search_results = re.findall(\"the\", string)\n",
    "print(search_results)"
   ]
  },
  {
   "cell_type": "code",
   "execution_count": null,
   "id": "a6a3eb2a",
   "metadata": {},
   "outputs": [],
   "source": [
    "search_results = re.findall(\"\\w+.txt\", string)\n",
    "print(search_results)\n",
    "search_results = re.findall(\"(\\w+).txt\", string)\n",
    "print(search_results)"
   ]
  },
  {
   "cell_type": "markdown",
   "id": "b7e52372",
   "metadata": {},
   "source": [
    "#### split"
   ]
  },
  {
   "cell_type": "code",
   "execution_count": null,
   "id": "fcd130ed",
   "metadata": {},
   "outputs": [],
   "source": [
    "split_results = re.split(\"the\", string)\n",
    "print(len(split_results))\n",
    "print(split_results)"
   ]
  },
  {
   "cell_type": "markdown",
   "id": "b82319f2",
   "metadata": {},
   "source": [
    "#### sub"
   ]
  },
  {
   "cell_type": "code",
   "execution_count": null,
   "id": "8c61efe4",
   "metadata": {},
   "outputs": [],
   "source": [
    "replaced_string = re.sub(\" \", \"--\",string)\n",
    "print(replaced_string)"
   ]
  },
  {
   "cell_type": "markdown",
   "id": "1be68cca",
   "metadata": {},
   "source": [
    "#### match\n",
    "Unlike `search`, `match` is anchored to the beginning of a string. Therefore the number of possible pattern matches is lower and the operation potentially faster. "
   ]
  },
  {
   "cell_type": "code",
   "execution_count": null,
   "id": "ce6f6ca1",
   "metadata": {},
   "outputs": [],
   "source": [
    "for test_entry in test_list:\n",
    "    print(test_entry)"
   ]
  },
  {
   "cell_type": "code",
   "execution_count": null,
   "id": "9a1c3354",
   "metadata": {},
   "outputs": [],
   "source": [
    "for file in test_list:    \n",
    "    match = re.match(r\".*(\\d{2}): (\\w+)\\$(\\w+)\", file)\n",
    "    if not match:\n",
    "        print(f\"No match has been found for entry \\\"{file}\\\"\\n\")\n",
    "    else:\n",
    "        print(f\"Entire match:\\t{match.group(0)}\")\n",
    "        for group_index in range(1,4):\n",
    "            print(f\"Group {group_index}:\\t{match.group(group_index)}\")\n",
    "        print(\"\")"
   ]
  },
  {
   "cell_type": "markdown",
   "id": "94a4b0f8",
   "metadata": {},
   "source": [
    "#### Note\n",
    "A regular expression can be pre-compiled to speed up the execution of `search` or `match`, the usage is still the same. Have a look at [link](https://docs.python.org/3/library/re.html#re.compile) for additional information."
   ]
  },
  {
   "cell_type": "markdown",
   "id": "c66d07ae",
   "metadata": {},
   "source": [
    "## subprocess\n",
    "\n",
    "This package makes it possible to spawn new processes and retrieve their standard or error output. It becomes handy if you want to execute applications/tools/scripts, which do not provide a python API and need to be executed on the shell. There are two possibilities to spawn a new process:\n",
    "1. `subprocess.run()`\n",
    "2. `subprocess.Popen()`\n",
    "\n",
    "Since the second method offers more advanced features, we will focus on the first one. The `run` method expects a list of arguments, which are executed on the shell. Each part of the command, which is individual needs to be its own list cell (e.g. flags). The call is blocking, i.e. it does not return until the command has been completely executed. "
   ]
  },
  {
   "cell_type": "code",
   "execution_count": null,
   "id": "72a75d53",
   "metadata": {},
   "outputs": [],
   "source": [
    "import subprocess"
   ]
  },
  {
   "cell_type": "code",
   "execution_count": null,
   "id": "8e5018e6",
   "metadata": {},
   "outputs": [],
   "source": [
    "subprocess.run([\"sleep\", \"5\"])"
   ]
  },
  {
   "cell_type": "code",
   "execution_count": null,
   "id": "a0f6c5cc",
   "metadata": {},
   "outputs": [],
   "source": [
    "output = subprocess.run([\"ls\", \"-l\", \"-a\"])\n",
    "print(type(output))\n",
    "print(output)"
   ]
  },
  {
   "cell_type": "markdown",
   "id": "815ae6f4",
   "metadata": {},
   "source": [
    "By default the output on `stdout` and `stderr` are not captured. To change this, set the `capture_output` argument to `True`."
   ]
  },
  {
   "cell_type": "code",
   "execution_count": null,
   "id": "ef32a37e",
   "metadata": {},
   "outputs": [],
   "source": [
    "output = subprocess.run([\"ls\", \"-l\", \"-a\"], capture_output=True)\n",
    "print(f\"{type(output)}\\n\")\n",
    "print(f\"{output}\\n\")\n",
    "# use .decode('utf-8') to improve visuals of output, but this is optional\n",
    "print(f\"{output.stdout.decode('utf-8')}\\n\")"
   ]
  },
  {
   "cell_type": "markdown",
   "id": "02869444",
   "metadata": {},
   "source": [
    "## tempfile\n",
    "\n",
    "Are you tired to create new temporary directories by hand? Do you forget after some time a) where the directory was and b) if an obviously deprecated temporary directory can be deleted? The `tempfile` package provides help in this regard, since it allows to create a temporary directory automatically during runtime and makes it easy to delete the directories after the program execution automatically.\n",
    "\n",
    "`tempfile` can be used to create temporary files as well as directories, both cases are handled in a similar way. Therefore we will focus on creating temporary directories."
   ]
  },
  {
   "cell_type": "code",
   "execution_count": null,
   "id": "3b758660",
   "metadata": {},
   "outputs": [],
   "source": [
    "import tempfile"
   ]
  },
  {
   "cell_type": "markdown",
   "id": "54bbf59d",
   "metadata": {},
   "source": [
    "To create a temporary directory use `tempfile.TemporaryDirectory(suffix=None, prefix=None, dir=None, ignore_cleanup_errors=False)`. It can be used as a context manager to ease cleaning up afterwards. Setting `dir` allows to choose the place, where the directory shall be created, otherwise it is created in the default path, where your OS stores temporary files. The directory is automatically deleted after the context manager has been closed or the `TemporaryDirectory` object has been destroyed."
   ]
  },
  {
   "cell_type": "code",
   "execution_count": null,
   "id": "8b5b2c5f",
   "metadata": {},
   "outputs": [],
   "source": [
    "with tempfile.TemporaryDirectory(suffix=\"_end\", prefix=\"start_\") as tempd:\n",
    "    print(f\"Path to temporary direcoty: {tempd}\")"
   ]
  },
  {
   "cell_type": "markdown",
   "id": "63df9fc6",
   "metadata": {},
   "source": [
    "If you want to keep the temporary directory after closing the program, you need to use `tempfile.mkdtemp(suffix=None, prefix=None, dir=None)`."
   ]
  },
  {
   "cell_type": "code",
   "execution_count": null,
   "id": "62dff24d",
   "metadata": {},
   "outputs": [],
   "source": [
    "tempd = tempfile.mkdtemp(suffix=\"_end\", prefix=\"start_\")\n",
    "print(f\"Path to temporary direcoty: {tempd}\")"
   ]
  },
  {
   "cell_type": "markdown",
   "id": "6d18e057",
   "metadata": {},
   "source": [
    "## pathlib\n",
    "\n",
    "A `Path` object represents a path within your filesystem. It is independet of the operating system and simplifies porting your program between Linux and Windows (and Mac). Many methods, which expects a path, also accept `Path` objects."
   ]
  },
  {
   "cell_type": "code",
   "execution_count": null,
   "id": "9d7212f3",
   "metadata": {},
   "outputs": [],
   "source": [
    "from pathlib import Path"
   ]
  },
  {
   "cell_type": "code",
   "execution_count": null,
   "id": "3fbafb66",
   "metadata": {},
   "outputs": [],
   "source": [
    "cwd = Path.cwd()\n",
    "print(cwd)"
   ]
  },
  {
   "cell_type": "code",
   "execution_count": null,
   "id": "12d68bae",
   "metadata": {},
   "outputs": [],
   "source": [
    "for file in cwd.iterdir():\n",
    "    print(file)"
   ]
  },
  {
   "cell_type": "code",
   "execution_count": null,
   "id": "40e9ec78",
   "metadata": {},
   "outputs": [],
   "source": [
    "for hit in list(cwd.glob('**/*.py')):\n",
    "    print(hit)"
   ]
  },
  {
   "cell_type": "code",
   "execution_count": null,
   "id": "664c1bcb",
   "metadata": {},
   "outputs": [],
   "source": [
    "print(f\"Exists:\\t\\t{cwd.exists()}\")\n",
    "print(f\"Is absolute:\\t{cwd.is_absolute()}\")\n",
    "print(f\"Is directory:\\t{cwd.is_dir()}\")"
   ]
  },
  {
   "cell_type": "code",
   "execution_count": null,
   "id": "e93d1ffe",
   "metadata": {},
   "outputs": [],
   "source": [
    "foo = Path(\"hello\")\n",
    "bar = Path(\"world.txt\")\n",
    "baz = foo/bar\n",
    "print(f\"Complete path:\\t\\t\\t{baz}\")\n",
    "print(f\"Components of path:\\t\\t{baz.parts}\")\n",
    "print(f\"Name of last component:\\t\\t{baz.name}\")\n",
    "print(f\"Extensions of file:\\t\\t{baz.suffixes}\")\n",
    "print(f\"File name without extension:\\t{baz.stem}\")"
   ]
  },
  {
   "cell_type": "code",
   "execution_count": null,
   "id": "f82fabbf-03d7-43ba-ac82-abd84c5559eb",
   "metadata": {},
   "outputs": [],
   "source": []
  }
 ],
 "metadata": {
  "interpreter": {
   "hash": "767d51c1340bd893661ea55ea3124f6de3c7a262a8b4abca0554b478b1e2ff90"
  },
  "kernelspec": {
   "display_name": "Python 3 (based on the module python3/2022.01)",
   "language": "python",
   "name": "python3_2022_01"
  },
  "language_info": {
   "codemirror_mode": {
    "name": "ipython",
    "version": 3
   },
   "file_extension": ".py",
   "mimetype": "text/x-python",
   "name": "python",
   "nbconvert_exporter": "python",
   "pygments_lexer": "ipython3",
   "version": "3.9.9"
  }
 },
 "nbformat": 4,
 "nbformat_minor": 5
}
