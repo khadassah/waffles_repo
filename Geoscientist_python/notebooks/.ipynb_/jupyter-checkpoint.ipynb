{
 "cells": [
  {
   "cell_type": "markdown",
   "metadata": {
    "slideshow": {
     "slide_type": "slide"
    }
   },
   "source": [
    "# Jupyter notebook <img src=\"https://upload.wikimedia.org/wikipedia/commons/3/38/Jupyter_logo.svg\"><img>"
   ]
  },
  {
   "cell_type": "markdown",
   "metadata": {
    "slideshow": {
     "slide_type": "slide"
    }
   },
   "source": [
    "[Jupyter](https://jupyter-notebook.readthedocs.io/en/stable/notebook.html) is an **interactive** web application and a **browser-based** tool.\n",
    "\n",
    "- 🖊 In-browser editing for code, with \n",
    "    - automatic syntax highlighting:    \n",
    "    - indentation\n",
    "    - tab completion/introspection.\n",
    "    \n",
    "e.g.:\n",
    "```python    \n",
    "import xarray\n",
    "for i in d:\n",
    "    print(\"hi\")\n",
    "```"
   ]
  },
  {
   "cell_type": "markdown",
   "metadata": {
    "slideshow": {
     "slide_type": "subslide"
    },
    "tags": []
   },
   "source": [
    "   \n",
    "- 🧮 Execute code from the browser, with the results of computations attached to the code which generated them.\n",
    "- 🖥 Displaying the result of computation. Publication-quality figures e.g. rendered by `matplotlib` can be included inline.\n",
    "\n",
    "e.g.:"
   ]
  },
  {
   "cell_type": "code",
   "execution_count": null,
   "metadata": {
    "slideshow": {
     "slide_type": "subslide"
    },
    "tags": []
   },
   "outputs": [],
   "source": [
    "import xarray as xr\n",
    "xr.open_dataset('../data/tsurf.nc').tsurf[0,:,:].plot()"
   ]
  },
  {
   "cell_type": "markdown",
   "metadata": {
    "slideshow": {
     "slide_type": "subslide"
    },
    "tags": []
   },
   "source": [
    "Notebook documents are a representation of all content visible in the web application.\n",
    "\n",
    "- In-browser editing for rich text using the **Markdown markup language**\n",
    "\n",
    "    - easily include mathematical notation within markdown cells using LaTeX and rendered natively by `MathJax`.\n",
    "    \n",
    "\n",
    "- They can **exported** to a range of static formats\n",
    "\n",
    "    - including HTML (for example, for blog posts)\n",
    "    - reStructuredText\n",
    "    - LaTeX\n",
    "    - PDF\n",
    "    - slide shows"
   ]
  },
  {
   "cell_type": "markdown",
   "metadata": {
    "slideshow": {
     "slide_type": "slide"
    }
   },
   "source": [
    "### The architecture and the jupyter server 🏢\n",
    "\n",
    "`Jupyter` decouples the evaluating process when execuding code from the read-evaluate-print-loop and runs it as a separate process, the **kernel**. A jupyter notebook has a **kernel** run as the backend for the code.\n",
    "\n",
    "The jupyter **server** manages, among others, to connect **clients** (i.e. users) with the **kernels**. 👨‍✈️\n",
    "\n",
    "- Start on your own PC: `jupyter notebook`. </br>\n",
    "    - This opens a tab in your web browser and shows a dashboard also called *control panel*.\n",
    "    - The server and the kernels are executed on your machine\n",
    "- Use remote server and kernels via browser access: E.g. [jupyterhub.dkrz.de](jupyterhub.dkrz.de)"
   ]
  },
  {
   "cell_type": "markdown",
   "metadata": {
    "slideshow": {
     "slide_type": "slide"
    }
   },
   "source": [
    "## Jupyterhub: A barrier-free entrance to DKRZ's HPC\n",
    "\n",
    "The **[jupyterhub web service](https://jupyterhub.gitlab-pages.dkrz.de/jupyterhub-docs/overview.html)** enables DKRZ users to start `jupyter notebook` on the High-Performance-Computing resources. That allows users to use the software architecture and data infrastructure while having all advantages provided by jupyter."
   ]
  },
  {
   "cell_type": "markdown",
   "metadata": {
    "slideshow": {
     "slide_type": "subslide"
    }
   },
   "source": [
    "`Jupyterhub` Features:\n",
    "\n",
    "- Independent from local resources (you just need a web browser)\n",
    "- Interactive access to HPC resources\n",
    "- Tutorials prepared by experts and formatted as Jupyter-notebooks for a steep learning curve\n",
    "- Fully supported and maintained at DKRZ  🧑‍🔧\n",
    "\n",
    "⇨  **Advanced programming with a beginner friendly control**"
   ]
  },
  {
   "cell_type": "markdown",
   "metadata": {
    "slideshow": {
     "slide_type": "subslide"
    }
   },
   "source": [
    "How it works:\n",
    "\n",
    "**What you have to do:**\n",
    "\n",
    "1. You *log in* via:\n",
    "https://jupyterhub.dkrz.de/hub/login\n",
    "2. You *request* a notebook server\n",
    "\n",
    "**What DKRZ does in turn:**\n",
    "\n",
    "3. A server is *spawned* as a *slurm job* on mistral. It uses resources as specified by your *request*.\n",
    "4. Your server runs for as long as you specified in the *request*. In that time, you can close the tab and revisit `jupyterhub` without it is shut down."
   ]
  },
  {
   "cell_type": "markdown",
   "metadata": {
    "slideshow": {
     "slide_type": "slide"
    }
   },
   "source": [
    "### Notebooks user interface\n",
    "\n",
    "Live demo"
   ]
  },
  {
   "cell_type": "markdown",
   "metadata": {
    "slideshow": {
     "slide_type": "slide"
    },
    "tags": []
   },
   "source": [
    "### Opening notebooks\n",
    "\n",
    "An open notebook has exactly one interactive session connected to a kernel, which will execute code sent by the user and communicate back results. This kernel remains active if the web browser window is closed, and reopening the same notebook from the dashboard will reconnect the web application to the same kernel. "
   ]
  },
  {
   "cell_type": "markdown",
   "metadata": {
    "slideshow": {
     "slide_type": "subslide"
    },
    "tags": []
   },
   "source": [
    "- Cells\n",
    "  - Clear view: Mark Cells as *Code*, *Markdown* or *Raw*\n",
    "  - Interactive: Run a cell individually without running the entire script"
   ]
  },
  {
   "cell_type": "markdown",
   "metadata": {
    "slideshow": {
     "slide_type": "subslide"
    }
   },
   "source": [
    "- Code\n",
    "  - Depending on the kernel, you can execute Python, but also Bash, R, Julia, Latex\n",
    "  - Use `!` before the commands and `bash` runs it instead of the python interpreter\n",
    "  - Define a entire cell as `bash` or `latex`with the `%%` magic"
   ]
  },
  {
   "cell_type": "code",
   "execution_count": null,
   "metadata": {
    "slideshow": {
     "slide_type": "subslide"
    }
   },
   "outputs": [],
   "source": [
    "!ls"
   ]
  },
  {
   "cell_type": "code",
   "execution_count": null,
   "metadata": {
    "slideshow": {
     "slide_type": "fragment"
    },
    "tags": []
   },
   "outputs": [],
   "source": [
    "%%latex\n",
    "\\begin{align}\n",
    "\\frac{\\partial u}{\\partial t} + \\nabla \\cdot \\left( \\boldsymbol{v} u - D\\nabla u \\right) = f\n",
    "\\end{align}"
   ]
  },
  {
   "cell_type": "markdown",
   "metadata": {
    "slideshow": {
     "slide_type": "slide"
    }
   },
   "source": [
    "- Kernels:\n",
    "    - Predefined **Software Environments** can be set in the upper right by using a specific kernel\n",
    "    - On Jupyterhub, you can choose between a hands full of different configurations\n",
    "    - Customized kernels can be implemented with conda. See the docs for a tutorial"
   ]
  },
  {
   "cell_type": "markdown",
   "metadata": {
    "slideshow": {
     "slide_type": "slide"
    }
   },
   "source": [
    "## Packages, configurations and extensions\n",
    "  - [jupyter lab](https://jupyterlab.readthedocs.io/en/stable/) has an advanced user interface where e.g. the control panel is next to the notebook. It will eventually replace jupyter notebook.\n",
    "  - Trust the notebook to allow it to embed HTML"
   ]
  },
  {
   "cell_type": "markdown",
   "metadata": {
    "slideshow": {
     "slide_type": "slide"
    }
   },
   "source": [
    "  - The [variable inspector](https://jupyter-contrib-nbextensions.readthedocs.io/en/latest/nbextensions/varInspector/README.html) collects all defined variables and display them in a floating window for a `matlab`-like view\n",
    "  - [dask-labextension](https://github.com/dask/dask-labextension) provides you with a dashboard for dask processes.\n",
    "  - The [RISE](https://rise.readthedocs.io/en/stable/) extension allows you to instantly convert a notebook into a **slide show** based on `reveal.js`\n",
    "  - [appmode](https://jupyter-tutorial.readthedocs.io/de/latest/web/dashboards/appmode/index.html) shows you how your notebook will perform as an web application."
   ]
  },
  {
   "cell_type": "code",
   "execution_count": null,
   "metadata": {
    "slideshow": {
     "slide_type": "subslide"
    }
   },
   "outputs": [],
   "source": [
    "%load_ext lab_black\n",
    "from IPython.display import HTML\n",
    "\n",
    "HTML(\n",
    "    '<iframe src=\"https://jupyterhub.gitlab-pages.dkrz.de/jupyterhub-docs/overview.html\" width=\"576\" height=\"420\" frameborder=\"0\"></iframe>'\n",
    ")"
   ]
  },
  {
   "cell_type": "markdown",
   "metadata": {
    "slideshow": {
     "slide_type": "slide"
    }
   },
   "source": [
    "### ⇨ Jupyterhub is your laboratory in the web browser"
   ]
  },
  {
   "cell_type": "code",
   "execution_count": null,
   "metadata": {},
   "outputs": [],
   "source": []
  }
 ],
 "metadata": {
  "kernelspec": {
   "display_name": "Python 3 (based on the module python3/2022.01)",
   "language": "python",
   "name": "python3_2022_01"
  },
  "language_info": {
   "codemirror_mode": {
    "name": "ipython",
    "version": 3
   },
   "file_extension": ".py",
   "mimetype": "text/x-python",
   "name": "python",
   "nbconvert_exporter": "python",
   "pygments_lexer": "ipython3",
   "version": "3.9.9"
  }
 },
 "nbformat": 4,
 "nbformat_minor": 4
}
