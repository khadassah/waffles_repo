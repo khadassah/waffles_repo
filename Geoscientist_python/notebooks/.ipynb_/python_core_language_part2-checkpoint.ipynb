{
 "cells": [
  {
   "cell_type": "code",
   "execution_count": null,
   "metadata": {},
   "outputs": [],
   "source": [
    "# get formating done automatically according to style `black`\n",
    "#%load_ext lab_black"
   ]
  },
  {
   "cell_type": "markdown",
   "metadata": {},
   "source": [
    "# Python core language part 2\n",
    "\n",
    "**Content**\n",
    "\n",
    "You will learn how to:\n",
    "- Copy objects with [copy and deepcopy](#copy)\n",
    "- Crunch numbers with [basic operators and math functions](#operators)\n",
    "- Make decisions with [conditions](#conditions)\n",
    "- Let the computer do the work with [loops](#loops)\n",
    "- Make your life easy with [list comprehensions](#listc)"
   ]
  },
  {
   "cell_type": "markdown",
   "metadata": {},
   "source": [
    "## Copy Objects <a id='copy'></a>"
   ]
  },
  {
   "cell_type": "markdown",
   "metadata": {},
   "source": [
    "The difference between shallow and deep copying is only relevant for compound objects (objects that contain other objects, like lists or class instances):\n",
    "\n",
    "- A shallow copy constructs a new compound object and then (to the extent possible) inserts references into it to the objects found in the original.\n",
    "\n",
    "- A deep copy constructs a new compound object and then, recursively, inserts copies into it of the objects found in the original."
   ]
  },
  {
   "cell_type": "code",
   "execution_count": null,
   "metadata": {},
   "outputs": [],
   "source": [
    "import copy"
   ]
  },
  {
   "cell_type": "code",
   "execution_count": null,
   "metadata": {},
   "outputs": [],
   "source": [
    "a = [1, 2, 3]\n",
    "b = ['one', 'two', 'three']\n",
    "c = [a, b]"
   ]
  },
  {
   "cell_type": "markdown",
   "metadata": {},
   "source": [
    "### Shallow Copy"
   ]
  },
  {
   "cell_type": "code",
   "execution_count": null,
   "metadata": {},
   "outputs": [],
   "source": [
    "c_copy = copy.copy(c)"
   ]
  },
  {
   "cell_type": "code",
   "execution_count": null,
   "metadata": {},
   "outputs": [],
   "source": [
    "print(id(c_copy)==id(c))"
   ]
  },
  {
   "cell_type": "code",
   "execution_count": null,
   "metadata": {},
   "outputs": [],
   "source": [
    "print(id(c_copy[0])==id(c[0]))"
   ]
  },
  {
   "cell_type": "markdown",
   "metadata": {},
   "source": [
    "### Deep Copy"
   ]
  },
  {
   "cell_type": "code",
   "execution_count": null,
   "metadata": {},
   "outputs": [],
   "source": [
    "c_deepcopy = copy.deepcopy(c)"
   ]
  },
  {
   "cell_type": "code",
   "execution_count": null,
   "metadata": {},
   "outputs": [],
   "source": [
    "print(id(c_deepcopy)==id(c))"
   ]
  },
  {
   "cell_type": "code",
   "execution_count": null,
   "metadata": {},
   "outputs": [],
   "source": [
    "print(id(c_deepcopy[0])==id(c[0]))"
   ]
  },
  {
   "cell_type": "markdown",
   "metadata": {},
   "source": [
    "### <font color='red'>Exercise</font> \n",
    "\n",
    "1. Can you create a new object with the assign statement (``new_object = old_object``)?\n",
    "2. Create a list with several items and create a copy with ``.copy`` and ``.deepcopy``\n",
    "3. Can you illustrate the difference between these two operations?"
   ]
  },
  {
   "cell_type": "code",
   "execution_count": null,
   "metadata": {},
   "outputs": [],
   "source": [
    "# 1.\n"
   ]
  },
  {
   "cell_type": "code",
   "execution_count": null,
   "metadata": {},
   "outputs": [],
   "source": [
    "# 2.\n"
   ]
  },
  {
   "cell_type": "code",
   "execution_count": null,
   "metadata": {},
   "outputs": [],
   "source": [
    "# 3.\n"
   ]
  },
  {
   "cell_type": "markdown",
   "metadata": {},
   "source": [
    "## Basic Operators and Math Functions <a id='operators'></a>"
   ]
  },
  {
   "cell_type": "markdown",
   "metadata": {},
   "source": [
    "Basic mathematical operators are:\n",
    " - ``+`` addition\n",
    " - ``-`` substraction\n",
    " - ``*`` multiplication\n",
    " - ``/`` division\n",
    " \n",
    "Additionally you can use Python's math functions.\n",
    "\n",
    "```Python\n",
    "import math\n",
    "math.degrees(math.pi)\n",
    "```\n",
    "    180.0\n",
    "    \n",
    "All functions can be found in the [Python docs](https://docs.python.org/3/library/math.html)."
   ]
  },
  {
   "cell_type": "markdown",
   "metadata": {},
   "source": [
    "### <font color='red'>Exercise</font> \n",
    "1. Perform an arbitrary calculation, which includes an addition, substraction, mulitplication and division.\n",
    "2. What happens if you add two string variables?\n",
    "3. Can you multiply a string with an integer? If yes, what will happen?\n",
    "4. Have a look at the math functions. Chose three of them and include them in an arbitrary caclulation."
   ]
  },
  {
   "cell_type": "code",
   "execution_count": null,
   "metadata": {},
   "outputs": [],
   "source": [
    "# 1."
   ]
  },
  {
   "cell_type": "code",
   "execution_count": null,
   "metadata": {},
   "outputs": [],
   "source": [
    "# 2."
   ]
  },
  {
   "cell_type": "code",
   "execution_count": null,
   "metadata": {},
   "outputs": [],
   "source": [
    "# 3."
   ]
  },
  {
   "cell_type": "code",
   "execution_count": null,
   "metadata": {},
   "outputs": [],
   "source": [
    "# 4. "
   ]
  },
  {
   "cell_type": "markdown",
   "metadata": {},
   "source": [
    "## Conditions<a id='conditions'></a>"
   ]
  },
  {
   "cell_type": "markdown",
   "metadata": {},
   "source": [
    "- Python uses Boolean operators to evaluate conditions\n",
    "- Logical and comparison operators allow building complex Boolean expressions\n",
    "- Comparison operators are: ``==``, ``>=``, ``<=``, ``>``, ``<`` and ``!=``\n",
    "- Logical operators are: ``not``, ``and`` and ``or``\n",
    "- If the result of an if expression is True, the condition is fulfilled and the if statement will be executed\n",
    "\n",
    "Syntax:\n",
    "```Python\n",
    "if(expression):\n",
    "\tstatement_1\n",
    "\tstatement_2\n",
    "\t[...]\n",
    "elif(expression):\n",
    "\tstatement_3\n",
    "else:\n",
    "\tstatement_4\n",
    "\t[…]\n",
    "```\n",
    "![](../images/conditions.png)"
   ]
  },
  {
   "cell_type": "markdown",
   "metadata": {},
   "source": [
    "### <font color='red'>Exercise</font>\n",
    "What will happen? Please, only use pen and paper.\n",
    "```Python\n",
    "a = 1.\n",
    "b = -3.\n",
    "c = 'Dog'\n",
    "if(a <= b and not b == c or a >= b):\n",
    "    print(\"We are learning Python.\")\n",
    "else:\n",
    "    print(\"We are not learning Python.\")\n",
    "\n",
    "```"
   ]
  },
  {
   "cell_type": "markdown",
   "metadata": {},
   "source": [
    "## Loops<a id='loops'></a>"
   ]
  },
  {
   "cell_type": "markdown",
   "metadata": {},
   "source": [
    "``for`` loops are used when a block of code needs to be repeated for a fixed number of time.\n",
    "\n",
    "Syntax:\n",
    "```Python\n",
    "for item in sequence\n",
    "    statement_1\n",
    "    statement_2\n",
    "    [...]\n",
    "```\n",
    "![](../images/loop.png)"
   ]
  },
  {
   "cell_type": "code",
   "execution_count": null,
   "metadata": {},
   "outputs": [],
   "source": [
    "my_list = [\"Hello\", \"world\", \"!\"]\n",
    "\n",
    "# Example 1\n",
    "for thing in my_list:\n",
    "    print(thing)"
   ]
  },
  {
   "cell_type": "code",
   "execution_count": null,
   "metadata": {},
   "outputs": [],
   "source": [
    "# Example 2\n",
    "for number in range(0, 4):\n",
    "    print(number)"
   ]
  },
  {
   "cell_type": "markdown",
   "metadata": {},
   "source": [
    "Python’s `zip()` function allows you to iterate in parallel over two or more iterables."
   ]
  },
  {
   "cell_type": "code",
   "execution_count": null,
   "metadata": {},
   "outputs": [],
   "source": [
    "fruit = [\"apple\", \"banana\", \"peach\"]\n",
    "vegetable = [\"carrot\", \"potato\", \"cabage\"]\n",
    "\n",
    "for f, v in zip(fruit, vegetable):\n",
    "    print('Fruit: ', f)\n",
    "    print('Vegetable: ', v)"
   ]
  },
  {
   "cell_type": "markdown",
   "metadata": {},
   "source": [
    "With ``enumerate()`` Python gives you the counter and the value of the iterable at the same time. "
   ]
  },
  {
   "cell_type": "code",
   "execution_count": null,
   "metadata": {},
   "outputs": [],
   "source": [
    "for count, value in enumerate(fruit):\n",
    "    print(count, value)"
   ]
  },
  {
   "cell_type": "markdown",
   "metadata": {},
   "source": [
    "### <font color='red'>Exercise</font> \n",
    "Sum up all numbers from 1 to 100 by using a ``for`` loop. This problem is also know as Gauß formula.\n",
    "![](../images/gauss.png)"
   ]
  },
  {
   "cell_type": "code",
   "execution_count": null,
   "metadata": {},
   "outputs": [],
   "source": [
    "# Exercise\n"
   ]
  },
  {
   "cell_type": "markdown",
   "metadata": {},
   "source": [
    "The ``while`` loop is another type of loop.\n",
    "\n",
    "```Python\n",
    "while (expression):\n",
    "    statement_1\n",
    "    statement_2\n",
    "    ...\n",
    "\n",
    "```\n",
    "\n",
    "The block of code will be executed as long the expression is true.\n",
    "\n",
    "<font color='blue'>Hint:</font>\n",
    "\n",
    "Make sure that the condition can be fulfilled. Otherwise the loop will run forever."
   ]
  },
  {
   "cell_type": "code",
   "execution_count": null,
   "metadata": {},
   "outputs": [],
   "source": [
    "x = 0\n",
    "while x<=3:\n",
    "    print(x)\n",
    "    x += 1"
   ]
  },
  {
   "cell_type": "markdown",
   "metadata": {},
   "source": [
    "## List comprehensions<a id='listc'></a>\n",
    "\n",
    "List comprehensions are an easy way to apply a function to each entry of your list or to filter your list, the result is again a list. The general syntax looks like this:\n",
    "\n",
    "`new_list = [ expression for item in old_iterable if condition ] `\n",
    "\n",
    "The advantage of this construct is its brevity, but it impedes the code readability. The important thing about list comprehension is to be able to recognise it."
   ]
  },
  {
   "cell_type": "code",
   "execution_count": null,
   "metadata": {},
   "outputs": [],
   "source": [
    "a = [1,2,3,4]\n",
    "print(a)"
   ]
  },
  {
   "cell_type": "markdown",
   "metadata": {},
   "source": [
    "Add 1 to each list item."
   ]
  },
  {
   "cell_type": "code",
   "execution_count": null,
   "metadata": {},
   "outputs": [],
   "source": [
    "b = [x + 1 for x in a]\n",
    "print(b)"
   ]
  },
  {
   "cell_type": "markdown",
   "metadata": {},
   "source": [
    "Get a filtered list, in which are only odd values from _a_"
   ]
  },
  {
   "cell_type": "code",
   "execution_count": null,
   "metadata": {},
   "outputs": [],
   "source": [
    "c = [x for x in a if x % 2 == 1]\n",
    "print(c)"
   ]
  },
  {
   "cell_type": "markdown",
   "metadata": {},
   "source": [
    "List comprehensions can be nested to reflect a nested loop. It requires less typing but also becomes harder to read."
   ]
  },
  {
   "cell_type": "code",
   "execution_count": null,
   "metadata": {},
   "outputs": [],
   "source": [
    "d1 = []\n",
    "for x in c:\n",
    "    for y in a:\n",
    "        if y % 2 == 0:\n",
    "            d1.append(10*x+y)\n",
    "print(d1)"
   ]
  },
  {
   "cell_type": "code",
   "execution_count": null,
   "metadata": {},
   "outputs": [],
   "source": [
    "d2 = [10*x+y for x in c for y in a if y%2 == 0]\n",
    "print(d2)"
   ]
  },
  {
   "cell_type": "markdown",
   "metadata": {},
   "source": [
    "Using the analogy of the nested loop we can use nested list comprehension to get a flat list of a nested list."
   ]
  },
  {
   "cell_type": "code",
   "execution_count": null,
   "metadata": {},
   "outputs": [],
   "source": [
    "nested_list = [[1,2,3],[4,5],[6]]\n",
    "print(nested_list)"
   ]
  },
  {
   "cell_type": "code",
   "execution_count": null,
   "metadata": {},
   "outputs": [],
   "source": [
    "flat_list = [x for sublist in nested_list for x in sublist]\n",
    "print(flat_list)"
   ]
  },
  {
   "cell_type": "markdown",
   "metadata": {},
   "source": [
    "### <font color='red'>Exercise</font> \n",
    "\n",
    "Create a list with a few numbers and square each entry via list comprehension."
   ]
  },
  {
   "cell_type": "code",
   "execution_count": null,
   "metadata": {},
   "outputs": [],
   "source": [
    "# Exercise"
   ]
  }
 ],
 "metadata": {
  "kernelspec": {
   "display_name": "Python 3 (based on the module python3/2022.01)",
   "language": "python",
   "name": "python3_2022_01"
  },
  "language_info": {
   "codemirror_mode": {
    "name": "ipython",
    "version": 3
   },
   "file_extension": ".py",
   "mimetype": "text/x-python",
   "name": "python",
   "nbconvert_exporter": "python",
   "pygments_lexer": "ipython3",
   "version": "3.9.9"
  }
 },
 "nbformat": 4,
 "nbformat_minor": 4
}
