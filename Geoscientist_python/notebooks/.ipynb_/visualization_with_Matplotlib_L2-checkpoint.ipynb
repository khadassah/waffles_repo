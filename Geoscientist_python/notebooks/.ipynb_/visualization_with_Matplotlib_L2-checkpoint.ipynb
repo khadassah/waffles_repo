{
 "cells": [
  {
   "cell_type": "markdown",
   "metadata": {},
   "source": [
    "# Visualization with matplotlib II\n",
    "\n",
    "## Content:\n",
    "* [Introduction to part II](#introduction_II)\n",
    "* [Read data from CSV file](#read-csv)\n",
    "* [Add a legend](#add-legend)\n",
    "* [Read data from netCDF file](#read-netcdf)\n",
    "* [Create a contour plot](#plot-contour)\n",
    "* [Create a filled contour plot](#plot-contourf)\n",
    "* [Add a colorbar](#colorbar)\n",
    "* [Create a vector plot](#plot-vector)\n",
    "* [Zoom into a map](#zoom)\n",
    "* [Map projections](#projections)\n",
    "\n",
    "<br>\n",
    "\n",
    "## Introduction to part II<a class=\"anchor\" id=\"introduction_II\"></a>\n",
    "\n",
    "In the second part of the introduction to visualization with Matplotlib we will show you how to read and display different types of data sets. We start with the 'simple' CSV datasets and then move on to 2D georeferenced data in netCDF format.\n"
   ]
  },
  {
   "cell_type": "code",
   "execution_count": null,
   "metadata": {},
   "outputs": [],
   "source": [
    "%matplotlib inline"
   ]
  },
  {
   "cell_type": "markdown",
   "metadata": {},
   "source": [
    "<br>\n",
    "\n",
    "## Read data from CSV file<a class=\"anchor\" id=\"read-csv\"></a>\n",
    "\n",
    "From DWD we downloaded the CSV data set of yearly average temperature for Germany. It contains the data for Germany and each German state in the time range 1951 to 2020.\n",
    "\n",
    "    Zeitreihen fuer Gebietsmittel fuer Bundeslaender und Kombinationen von Bundeslaender, erstellt am: 20210104\n",
    "    Jahr;Jahr;Brandenburg/Berlin;Brandenburg;Baden-Wuerttemberg;Bayern;Hessen;Mecklenburg-Vorpommern; \\\n",
    "    Niedersachsen;Niedersachsen/Hamburg/Bremen;Nordrhein-Westfalen;Rheinland-Pfalz;Schleswig-Holstein;Saarland; \\\n",
    "    Sachsen;Sachsen-Anhalt;Thueringen/Sachsen-Anhalt;Thueringen;Deutschland;\n",
    "    1951;year;  5.15;  5.13;  3.52;  3.47;  3.42;  2.21;  1.71;  1.71;  1.73;  1.97;  0.38; ... 3.02;\n",
    "    1952;year;  5.46;  5.48; 14.31; 12.27; 10.37;  1.64;  2.55;  2.52;  6.71; 10.95;  0.82; ... 7.91;\n",
    "    1953;year;  0.51; 10.43;  4.93;  3.34;  6.44;  3.91;  4.08;  4.09;  3.73;  6.21;  1.88; ... 5.08;\n",
    "    1954;year;  5.16;  5.14;  2.43;  1.83;  2.98;  1.88;  1.52;  1.51;  1.37;  3.02;  0.69; ... 2.53;\n",
    "    1955;year;  1.14;  1.12;  1.19;  0.72;  1.54;  0.24;  0.48;  0.47;  1.21;  1.50;  0.02; ... 0.93;\n",
    "    1956;year;  0.81;  0.82;  1.13;  0.39;  0.66;  0.26;  0.25;  0.25;  0.41;  0.87;  0.02; ... 0.58;\n",
    "    1957;year;  8.10;  8.10;  7.13;  7.01;  8.32;  3.48;  5.39;  5.37;  8.14;  7.84;  2.07; ... 6.85;\n",
    "    1958;year;  2.61;  2.60;  2.91;  2.51;  0.97;  0.26;  0.25;  0.24;  0.73;  1.05;  0.00; ... 1.58;\n",
    "    1959;year;  6.76;  6.77;  5.89;  3.95;  7.67;  4.31;  5.59;  5.59;  6.78;  9.03;  2.66; ... 5.63;\n",
    "    1960;year;  3.06;  3.04;  1.25;  1.47;  0.96;  0.46;  0.61;  0.61;  0.65;  0.77;  0.08; ... 1.30;\n",
    "    ...\n",
    "\n",
    "To import the CSV data we use the <font color='red'><b>Pandas</b></font> package. Pandas provide a CSV reader function which makes it easy to read the data from file. The column names can be used directly to select the favored data. In this case, we want to display the data for Hamburg and Bavaria over all years. \n",
    "\n",
    "> **Note:** \n",
    ">\n",
    "> Make sure that the column name is correct, because in this case Hamburg does not exist alone, but in connection with Niedersachsen and Bremen (Niedersachsen/Hamburg/Bremen). \n",
    "\n",
    "A problem is the '/' character in the column name, because in this case it would lead to an error in Python. To avoid this we define a variable named _state_, which gets the string 'Niedersachsen/Hamburg/Bremen'. \n",
    "<pre>\n",
    " <code>\n",
    " Valid:   data.<em>column_name</em>\n",
    "\n",
    "          data['<em>column_name</em>']\n",
    " </code>\n",
    "</pre>\n"
   ]
  },
  {
   "cell_type": "code",
   "execution_count": null,
   "metadata": {},
   "outputs": [],
   "source": [
    "import matplotlib.pyplot as plt\n",
    "import pandas as pd\n",
    "\n",
    "data_file = '../data/DWD_regional_averages_txbs_year_hot_days.txt'\n",
    "\n",
    "state = 'Niedersachsen/Hamburg/Bremen'\n",
    "\n",
    "data = pd.read_csv(data_file, header=1, sep=';')"
   ]
  },
  {
   "cell_type": "code",
   "execution_count": null,
   "metadata": {},
   "outputs": [],
   "source": [
    "fig, ax = plt.subplots(figsize=(8,4))\n",
    "\n",
    "ax.set_title('Annual average temperature\\n'+state, fontsize=18)\n",
    "ax.set_ylabel('Temperature\\n[deg C]', fontsize=12)\n",
    "ax.set_xlabel('year', fontsize=12)\n",
    "ax.tick_params(labelsize=10)\n",
    "\n",
    "plot = ax.plot(data.Jahr, data[state], color='steelblue')\n",
    "\n",
    "plt.text(0.8, 0.01, 'Data source: DWD', fontsize=8, transform=plt.gcf().transFigure)\n",
    "plot = ax.plot(data.Jahr, data['Bayern'], color='darkorange')"
   ]
  },
  {
   "cell_type": "markdown",
   "metadata": {},
   "source": [
    "<br>\n",
    "\n",
    "## Add a legend <a class=\"anchor\" id=\"add-legend\"></a>\n",
    "\n",
    "This looks quite nice, but a legend is still missing. Therefore, a **label** has to be added to each plot call and the `legend` fuction from pyplot is used to generate a legend box at the upper left part of the plot (default).\n",
    "\n",
    "<br>"
   ]
  },
  {
   "cell_type": "code",
   "execution_count": null,
   "metadata": {},
   "outputs": [],
   "source": [
    "fig, ax = plt.subplots(figsize=(8,4))\n",
    "\n",
    "ax.set_title('Annual average temperature', fontsize=18)\n",
    "ax.set_ylabel('Temperature\\n[deg C]', fontsize=12)\n",
    "ax.set_xlabel('year', fontsize=12)\n",
    "ax.tick_params(labelsize=10)\n",
    "\n",
    "ax.plot(data.Jahr, data[state], color='steelblue', label=state)\n",
    "\n",
    "ax.plot(data.Jahr, data['Bayern'], color='darkorange', label='Bayern')\n",
    "\n",
    "legend = ax.legend()\n",
    "#legend = ax.legend(facecolor='lightgray')\n",
    "#legend = ax.legend(loc='lower right', shadow=True, fontsize='small', \n",
    "#                   facecolor='lightgray', edgecolor='black')\n",
    "\n",
    "tx = plt.text(0.8, 0.01, 'Data source: DWD', fontsize=8, transform=plt.gcf().transFigure)"
   ]
  },
  {
   "cell_type": "markdown",
   "metadata": {},
   "source": [
    "<br>\n",
    "\n",
    "## Same plot with seaborn <a class=\"anchor\" id=\"plot-seaborn\"></a>\n",
    "\n",
    "We can repeat the same plot using the `seaborn` library. Seaborn works well together with the Pandas library that we used to load the csv file. Notice that the seaborn lineplot function takes as arguments the data, as well as the columns to use for x/y. The legend is automatically generated when labels are provided. We can also control the parameters of the annotated text using keywords for alignment, font weight, and font size. \n",
    "\n",
    "<br>"
   ]
  },
  {
   "cell_type": "code",
   "execution_count": null,
   "metadata": {},
   "outputs": [],
   "source": [
    "import seaborn as sns\n",
    "\n",
    "sns.set_style('ticks')\n",
    "sns.set_context('notebook')\n",
    "\n",
    "fig, ax = plt.subplots(figsize=(8,4))\n",
    "\n",
    "sns.lineplot(data=data, x='Jahr', y='Niedersachsen/Hamburg/Bremen', label='Niedersachsen/Hamburg/Bremen', ax=ax)\n",
    "sns.lineplot(data=data, x='Jahr', y='Bayern', label='Bayern', ax=ax)\n",
    "ax.set_title('Annual average temperature')\n",
    "ax.set_ylabel('Temperature (°C)')\n",
    "ax.set_xlabel('Year')\n",
    "\n",
    "plt.text(0.95, 0.0, 'Data source: DWD', transform=plt.gcf().transFigure, horizontalalignment='right', verticalalignment='bottom', fontsize='x-small', fontweight='bold', color='green')\n",
    "\n",
    "fig.tight_layout()"
   ]
  },
  {
   "cell_type": "markdown",
   "metadata": {},
   "source": [
    "<h2 style=\"color:red\"> Exercise </h2>\n",
    "\n",
    "Plot the data for the states \n",
    "- 'Brandenburg/Berlin' (color red, line style solid, line width 1)\n",
    "- 'Nordrhein-Westfalen' (color light green, line style dashed, line width 1.5) and \n",
    "- 'Rheinland-Pfalz' (color blue, line style dotted, line width 2)\n",
    "\n",
    "Add a legend to the plot and don't forget to add the data source but this time on the vertical right."
   ]
  },
  {
   "cell_type": "code",
   "execution_count": null,
   "metadata": {},
   "outputs": [],
   "source": []
  },
  {
   "cell_type": "markdown",
   "metadata": {},
   "source": [
    "----\n",
    "\n",
    "<br>\n",
    "\n",
    "## Read data from a netCDF file<a class=\"anchor\" id=\"read-netcdf\"></a>\n",
    "\n",
    "Often the data is stored in a netCDF file, which can be read using the <font color='red'><b>Xarray</b></font> package.\n",
    "\n",
    "    Input file: ../data/rectilinear_grid_2D.nc\n",
    "\n",
    "<br>"
   ]
  },
  {
   "cell_type": "code",
   "execution_count": null,
   "metadata": {},
   "outputs": [],
   "source": [
    "import xarray as xr\n",
    "\n",
    "data_file = '../data/rectilinear_grid_2D.nc'\n",
    "\n",
    "ds = xr.open_dataset(data_file)\n",
    "\n",
    "print(ds)"
   ]
  },
  {
   "cell_type": "code",
   "execution_count": null,
   "metadata": {},
   "outputs": [],
   "source": [
    "print(ds.lon)"
   ]
  },
  {
   "cell_type": "code",
   "execution_count": null,
   "metadata": {},
   "outputs": [],
   "source": [
    "print(ds.lat)"
   ]
  },
  {
   "cell_type": "code",
   "execution_count": null,
   "metadata": {},
   "outputs": [],
   "source": [
    "print(ds.time)"
   ]
  },
  {
   "cell_type": "markdown",
   "metadata": {},
   "source": [
    "<br>\n",
    "\n",
    "## Create a contour plot<a class=\"anchor\" id=\"plot-contour\"></a>\n",
    "\n",
    "Once we have read the data we can create a contour plot for the variable tas using the plot function <font color='red'><b>contour</b></font>. Since we want to use maps with different projections in the following examples, we import the <font color='red'><b>Cartopy </b></font> package (https://scitools.org.uk/cartopy/docs/latest/). \n",
    "\n",
    "<br>\n"
   ]
  },
  {
   "cell_type": "code",
   "execution_count": null,
   "metadata": {},
   "outputs": [],
   "source": [
    "import cartopy.crs as ccrs"
   ]
  },
  {
   "cell_type": "markdown",
   "metadata": {},
   "source": [
    "The first example uses only the default settings and a cylindrical equidistant projection called PlateCarree ()."
   ]
  },
  {
   "cell_type": "code",
   "execution_count": null,
   "metadata": {},
   "outputs": [],
   "source": [
    "fig = plt.figure(figsize=(9,6))\n",
    "ax = plt.axes(projection=ccrs.PlateCarree())\n",
    "\n",
    "cn = ax.contour(ds.lon, ds.lat, ds.tsurf[0,:,:], transform=ccrs.PlateCarree())"
   ]
  },
  {
   "cell_type": "markdown",
   "metadata": {},
   "source": [
    "Another way to create the plot:"
   ]
  },
  {
   "cell_type": "code",
   "execution_count": null,
   "metadata": {},
   "outputs": [],
   "source": [
    "fig, ax = plt.subplots(figsize=(9,6), subplot_kw={\"projection\": ccrs.PlateCarree()})\n",
    "\n",
    "ax.contour(ds.lon, ds.lat, ds.tsurf[0,:,:], transform=ccrs.PlateCarree())"
   ]
  },
  {
   "cell_type": "markdown",
   "metadata": {},
   "source": [
    "Draw the contour lines with a single color, increase the number of contour lines, and write the data values inline."
   ]
  },
  {
   "cell_type": "code",
   "execution_count": null,
   "metadata": {},
   "outputs": [],
   "source": [
    "fig = plt.figure(figsize=(9,6))\n",
    "ax = plt.axes(projection=ccrs.PlateCarree())\n",
    "\n",
    "cn = ax.contour(ds.lon, ds.lat, ds.tsurf[0,:,:], \n",
    "                levels=15, \n",
    "                colors='black', \n",
    "                linewidths=0.7,\n",
    "                transform=ccrs.PlateCarree())\n",
    "\n",
    "ax.clabel(cn, cn.levels, inline=True, fontsize=10)"
   ]
  },
  {
   "cell_type": "markdown",
   "metadata": {},
   "source": [
    "Next, we add the coast- and grid lines as well as a title. The colormap is changed to a 'blue to yellow to red' colormap by the reversed colormap `RdYlBu_r`.\n"
   ]
  },
  {
   "cell_type": "code",
   "execution_count": null,
   "metadata": {},
   "outputs": [],
   "source": [
    "fig, ax = plt.subplots(figsize=(9,6), subplot_kw={\"projection\": ccrs.PlateCarree()})\n",
    "\n",
    "colormap = \"RdYlBu_r\"\n",
    "\n",
    "ax.coastlines(resolution='50m', linewidth=0.3, color='black')\n",
    "ax.gridlines(draw_labels=True, linewidth=0.5, color='gray', \n",
    "             xlocs=range(-180,180,30), ylocs=range(-90,90,30))\n",
    "ax.set_title('Surface temperature', fontsize=10, fontweight='bold')\n",
    "\n",
    "cn = ax.contour(ds.lon, ds.lat, ds.tsurf[0,:,:], \n",
    "                cmap=colormap, \n",
    "                levels=15, \n",
    "                transform=ccrs.PlateCarree())\n",
    "ax.clabel(cn, cn.levels, inline=True, fontsize=10)"
   ]
  },
  {
   "cell_type": "markdown",
   "metadata": {},
   "source": [
    "> **Note:** \n",
    ">\n",
    ">If there is a gap around the zero longitude Cartopy provides the function `add_cyclic_point`to append the first column after the last column."
   ]
  },
  {
   "cell_type": "code",
   "execution_count": null,
   "metadata": {},
   "outputs": [],
   "source": [
    "from cartopy.util import add_cyclic_point\n",
    "\n",
    "data_wrap, lon_wrap = add_cyclic_point(ds.tsurf, coord=ds.lon, axis=2)"
   ]
  },
  {
   "cell_type": "markdown",
   "metadata": {},
   "source": [
    "Finally, the fill the land masses with a gray color that is slightly transparent. Therefore we use `cfeature.LAND` from the cartopy features set."
   ]
  },
  {
   "cell_type": "code",
   "execution_count": null,
   "metadata": {},
   "outputs": [],
   "source": [
    "import cartopy.feature as cfeature\n",
    "\n",
    "fig, ax = plt.subplots(figsize=(9,6), subplot_kw={\"projection\": ccrs.PlateCarree()})\n",
    "\n",
    "ax.coastlines(resolution='50m', linewidth=0.3, color='black')\n",
    "ax.gridlines(draw_labels=True, linewidth=0.5, color='gray', \n",
    "             xlocs=range(-180,180,30), ylocs=range(-90,90,30))\n",
    "ax.add_feature(cfeature.LAND, color='lightgray', zorder=0, \n",
    "               linewidth=0.5, edgecolor='black', alpha=0.25)\n",
    "ax.set_title('Surface temperature', fontsize=10, fontweight='bold')\n",
    "\n",
    "cn = ax.contour(lon_wrap, ds.lat, data_wrap[0,:,:], cmap=colormap, \n",
    "                levels=15, transform=ccrs.PlateCarree())"
   ]
  },
  {
   "cell_type": "markdown",
   "metadata": {},
   "source": [
    "<h2 style=\"color:red\"> Exercise </h2>\n",
    "\n",
    "- create a global contour plot of the variable 'precip'\n",
    "- choose a different colormap like 'GnBu'\n",
    "- change the title string\n",
    "\n",
    "<br>"
   ]
  },
  {
   "cell_type": "code",
   "execution_count": null,
   "metadata": {},
   "outputs": [],
   "source": []
  },
  {
   "cell_type": "markdown",
   "metadata": {},
   "source": [
    "## Cartopy features\n",
    "\n",
    "https://scitools.org.uk/cartopy/docs/latest/matplotlib/feature_interface.html\n",
    "\n",
    "- BORDERS\n",
    "- COASTLINE\n",
    "- LAKES\n",
    "- LAND\n",
    "- OCEAN\n",
    "- RIVERS\n",
    "- STATES\n",
    "\n",
    "> import cartopy.feature as cfeature"
   ]
  },
  {
   "cell_type": "code",
   "execution_count": null,
   "metadata": {},
   "outputs": [],
   "source": [
    "fig, ax = plt.subplots(figsize=(12,6), subplot_kw={\"projection\": ccrs.PlateCarree()})\n",
    "\n",
    "ax.gridlines(draw_labels=True, linewidth=0.5, color='gray')\n",
    "\n",
    "ax.add_feature(cfeature.LAND, color='lightgray', \n",
    "               linewidth=0.5, edgecolor='black')\n",
    "ax.add_feature(cfeature.COASTLINE)\n",
    "ax.add_feature(cfeature.BORDERS)"
   ]
  },
  {
   "cell_type": "markdown",
   "metadata": {},
   "source": [
    "<br>\n",
    "\n",
    "## Create a filled contour plot<a class=\"anchor\" id=\"plot-contourf\"></a>\n",
    "\n",
    "To switch from contour lines to filled contours just change the plot command from `plt.contour` to `plt.contourf`.\n",
    "\n",
    "<br>\n"
   ]
  },
  {
   "cell_type": "code",
   "execution_count": null,
   "metadata": {},
   "outputs": [],
   "source": [
    "fig, ax = plt.subplots(figsize=(9,6), subplot_kw={\"projection\": ccrs.PlateCarree()})\n",
    "\n",
    "colormap = \"RdYlBu_r\"\n",
    "\n",
    "ax.coastlines(resolution='50m', linewidth=0.3, color='black')\n",
    "ax.gridlines(draw_labels=True, linewidth=0.5, color='gray', \n",
    "             xlocs=range(-180,180,30), ylocs=range(-90,90,30))\n",
    "ax.set_title('Surface temperature', fontsize=20, fontweight='bold')\n",
    "\n",
    "cnf = ax.contourf(lon_wrap, ds.lat, data_wrap[0,:,:], cmap=colormap, \n",
    "                  levels=15, transform=ccrs.PlateCarree())"
   ]
  },
  {
   "cell_type": "markdown",
   "metadata": {},
   "source": [
    "## Add a colorbar<a class=\"anchor\" id=\"colorbar\"></a>\n",
    "\n",
    "To better understanding we want to add a colorbar to the plot. To do this we have to create a mappable image which is done by assigning a variable to the contour plot and call `plt.colorbar()`."
   ]
  },
  {
   "cell_type": "code",
   "execution_count": null,
   "metadata": {},
   "outputs": [],
   "source": [
    "fig, ax = plt.subplots(figsize=(9,6), subplot_kw={\"projection\": ccrs.PlateCarree()})\n",
    "\n",
    "ax.coastlines(resolution='50m', linewidth=0.3, color='black')\n",
    "ax.gridlines(draw_labels=True, linewidth=0.5, color='gray', \n",
    "             xlocs=range(-180,180,30), ylocs=range(-90,90,30))\n",
    "ax.set_title('Surface temperature', fontsize=20, fontweight='bold')\n",
    "\n",
    "plt_cn = ax.contourf(lon_wrap, ds.lat, data_wrap[0,:,:], cmap=colormap, \n",
    "                     levels=15, transform=ccrs.PlateCarree())\n",
    "\n",
    "cbar = plt.colorbar(plt_cn)"
   ]
  },
  {
   "cell_type": "markdown",
   "metadata": {},
   "source": [
    "Well, that is not what we want, the colorbar is to large and the annotation of the right y-axis is not readable anymore. \n",
    "\n",
    "We want a smaller colorbar shifted to the right with a vertical label string."
   ]
  },
  {
   "cell_type": "code",
   "execution_count": null,
   "metadata": {},
   "outputs": [],
   "source": [
    "fig, ax = plt.subplots(figsize=(9,6), subplot_kw={\"projection\": ccrs.PlateCarree()})\n",
    "\n",
    "ax.coastlines(resolution='50m', linewidth=0.3, color='black')\n",
    "ax.gridlines(draw_labels=True, linewidth=0.5, color='gray', \n",
    "             xlocs=range(-180,180,30), ylocs=range(-90,90,30))\n",
    "ax.set_title('Surface temperature', fontsize=20, fontweight='bold')\n",
    "\n",
    "plt_cn = ax.contourf(lon_wrap, ds.lat, data_wrap[0,:,:], cmap=colormap, \n",
    "                     levels=15, transform=ccrs.PlateCarree())\n",
    "\n",
    "cbar = plt.colorbar(plt_cn, pad=0.08, shrink=0.55)\n",
    "cbar.set_label('$^o$ C', labelpad=15, y=.5, rotation=270)"
   ]
  },
  {
   "cell_type": "markdown",
   "metadata": {},
   "source": [
    "<h2 style=\"color:red\"> Exercise </h2>\n",
    "\n",
    "Create the plot above but change the following\n",
    "\n",
    "- increase the plot size\n",
    "- add the country border lines\n",
    "- draw a horizontal colorbar below the plot\n",
    "\n",
    "<br>\n"
   ]
  },
  {
   "cell_type": "code",
   "execution_count": null,
   "metadata": {},
   "outputs": [],
   "source": []
  },
  {
   "cell_type": "markdown",
   "metadata": {},
   "source": [
    "<br>\n",
    "\n",
    "## Create a vector plot<a class=\"anchor\" id=\"plot-vector\"></a>\n",
    "\n",
    "In the next section we will explain how to create a vector plot from the wind components u10 and v10. The name of the plot function is not vector as expected but `quiver`.\n",
    "\n",
    "<br>\n"
   ]
  },
  {
   "cell_type": "code",
   "execution_count": null,
   "metadata": {},
   "outputs": [],
   "source": [
    "u10 = ds.u10\n",
    "v10 = ds.v10\n",
    "lat = ds.lat[::-1]\n",
    "lon = ds.lon[:]\n",
    "\n",
    "fig, ax = plt.subplots(figsize=(12,6), subplot_kw={\"projection\": ccrs.PlateCarree()})\n",
    "\n",
    "ax.coastlines(resolution='50m', linewidth=0.3, color='black')\n",
    "ax.gridlines(draw_labels=True, linewidth=0.5, color='gray', \n",
    "             xlocs=range(-180,180,30), ylocs=range(-90,90,30))\n",
    "ax.set_title('Wind velocity', fontsize=20, fontweight='bold')\n",
    "\n",
    "vec = ax.quiver(ds.lon, ds.lat, u10[0,:,:], v10[0,:,:], transform=ccrs.PlateCarree())"
   ]
  },
  {
   "cell_type": "markdown",
   "metadata": {},
   "source": [
    "Well, that are too many arrows and we should thin out the field of vectors and add a reference vector to the upper right corner. To add a reference vector we can use `quiverkey`.\n"
   ]
  },
  {
   "cell_type": "code",
   "execution_count": null,
   "metadata": {},
   "outputs": [],
   "source": [
    "fig, ax = plt.subplots(figsize=(12,6), subplot_kw={\"projection\": ccrs.PlateCarree()})\n",
    "\n",
    "ax.coastlines(resolution='50m', linewidth=0.3, color='black')\n",
    "ax.gridlines(draw_labels=True, linewidth=0.5, color='gray', \n",
    "             xlocs=range(-180,180,30), ylocs=range(-90,90,30))\n",
    "ax.set_title('Wind velocity', fontsize=10, fontweight='bold')\n",
    "\n",
    "inc = 3\n",
    "vec = ax.quiver(ds.lon[::inc], ds.lat[::inc], \n",
    "                u10[0,::inc,::inc], \n",
    "                v10[0,::inc,::inc], \n",
    "                transform=ccrs.PlateCarree())\n",
    "\n",
    "ax.quiverkey(vec, X=1.0, Y=1.08, U=10, label=r'$10 \\frac{m}{s}$', \n",
    "             labelpos='E', labelsep=0.05)"
   ]
  },
  {
   "cell_type": "markdown",
   "metadata": {},
   "source": [
    "A nice visualization type is the coloring of the vectors of the wind components by the wind magnitude. After calculating the magnitude we can use it in the quiver function call. We also add a colorbar for the magnitude."
   ]
  },
  {
   "cell_type": "code",
   "execution_count": null,
   "metadata": {},
   "outputs": [],
   "source": [
    "import numpy as np\n",
    "\n",
    "fig, ax = plt.subplots(figsize=(12,6), subplot_kw={\"projection\": ccrs.PlateCarree()})\n",
    "\n",
    "ax.coastlines(resolution='50m', linewidth=0.3, color='black')\n",
    "ax.gridlines(draw_labels=True, linewidth=0.5, color='gray', \n",
    "             xlocs=range(-180,180,30), ylocs=range(-90,90,30))\n",
    "ax.set_title('Wind velocity', fontsize=10, fontweight='bold')\n",
    "\n",
    "magnitude = np.sqrt(u10**2 + v10**2)\n",
    "\n",
    "inc = 3\n",
    "vec = ax.quiver(ds.lon[::inc], ds.lat[::inc], \n",
    "                u10[0,::inc,::inc], \n",
    "                v10[0,::inc,::inc], \n",
    "                magnitude[0,::inc,::inc], \n",
    "                cmap=colormap, \n",
    "                transform=ccrs.PlateCarree())\n",
    "\n",
    "cbar = plt.colorbar(vec, pad=0.07, shrink=0.55)\n",
    "cbar.set_label('Wind magnitude (m/s)', labelpad=15, y=.5, rotation=270)"
   ]
  },
  {
   "cell_type": "markdown",
   "metadata": {},
   "source": [
    "<br>\n",
    "\n",
    "## Zoom into a map <a class=\"anchor\" id=\"zoom\"></a>\n",
    "\n",
    "The cutting or zooming of a certain area can be easily implemented with `set_extent`. In the following example we want to display only the region of Europe.\n",
    "\n",
    "In addition we draw the country borderlines which are available as Cartopy feature `cfeature.BORDERS`. Due to the fact that the coastlines are more grayish and thinner the line width and color are changed.\n",
    "\n",
    "<br>\n"
   ]
  },
  {
   "cell_type": "code",
   "execution_count": null,
   "metadata": {},
   "outputs": [],
   "source": [
    "fig, ax = plt.subplots(figsize=(9,6), subplot_kw={\"projection\": ccrs.PlateCarree()})\n",
    "\n",
    "ax.add_feature(cfeature.BORDERS, linewidth=0.6, color='None')\n",
    "ax.coastlines(resolution='50m', linewidth=0.3, color='black')\n",
    "ax.gridlines(draw_labels=True, linewidth=0.5, color='gray', \n",
    "             xlocs=range(-180,180,30), ylocs=range(-90,90,30))\n",
    "ax.set_title('Surface temperature', fontsize=10, fontweight='bold')\n",
    "ax.set_extent([-20, 50, 30, 75], crs=ccrs.PlateCarree())\n",
    "\n",
    "cnf = ax.contourf(lon_wrap, ds.lat, data_wrap[0,:,:], cmap=colormap, \n",
    "                  levels=15, transform=ccrs.PlateCarree())"
   ]
  },
  {
   "cell_type": "markdown",
   "metadata": {},
   "source": [
    "<br>\n",
    "\n",
    "## Map projections <a class=\"anchor\" id=\"projections\"></a>\n",
    "\n",
    "To understand how cartopy and matplotlib uses projections and transformations we will have a closer look at the wording. \n",
    "\n",
    "<pre>\n",
    "    crs          Cartopy reference system\n",
    "\n",
    "    projection   map projection\n",
    "\n",
    "    transform    data transformation\n",
    "</pre>\n",
    "\n",
    "There are more than 30 projections available (https://scitools.org.uk/cartopy/docs/latest/reference/projections.html).\n",
    "\n",
    "In the next example we will generate 4 plots showing <font color='red'><b>Mollweide</b></font>, <font color='red'><b>Robinson</b></font>, <font color='red'><b>Orthographic</b></font>, and <font color='red'><b>North Polar Stereographic</b></font> projection.\n",
    "\n",
    "<br>\n"
   ]
  },
  {
   "cell_type": "code",
   "execution_count": null,
   "metadata": {},
   "outputs": [],
   "source": [
    "import cartopy.crs as ccrs\n",
    "from cartopy.util import add_cyclic_point\n",
    "\n",
    "import matplotlib.pyplot as plt\n",
    "import matplotlib.path as mpath\n",
    "\n",
    "import numpy as np\n",
    "import xarray as xr\n",
    "\n",
    "data_file = '../data/rectilinear_grid_2D.nc'\n",
    "\n",
    "ds = xr.open_dataset(data_file)\n",
    "\n",
    "data_wrap, lon_wrap = add_cyclic_point(ds.tsurf, coord=ds.lon, axis=2)\n",
    "\n",
    "data_crs = ccrs.PlateCarree()\n",
    "\n",
    "colormap = \"RdYlBu_r\"\n",
    "\n",
    "fig = plt.figure(figsize=[10, 10])\n",
    "\n",
    "ax1 = plt.subplot(2, 2, 1, projection=ccrs.Robinson())\n",
    "ax2 = plt.subplot(2, 2, 2, projection=ccrs.Mollweide())\n",
    "ax3 = plt.subplot(2, 2, 3, projection=ccrs.Orthographic(central_latitude=0.0, \n",
    "                                                        central_longitude=40.0))\n",
    "ax4 = plt.subplot(2, 2, 4, projection=ccrs.NorthPolarStereo())\n",
    "\n",
    "ax1.coastlines(resolution='50m', linewidth=0.3, color='black')\n",
    "ax1.gridlines(draw_labels=True, linewidth=0.5, color='gray', \n",
    "              xlocs=range(-180,180,30), ylocs=range(-90,90,30))\n",
    "ax1.set_title('Robinson', fontsize=16, fontweight='bold')\n",
    "ax1.contourf(lon_wrap, ds.lat, data_wrap[0,:,:], cmap=colormap, \n",
    "             levels=15, transform=data_crs)\n",
    "\n",
    "ax2.coastlines(resolution='50m', linewidth=0.3, color='black')\n",
    "ax2.gridlines(linewidth=0.5, color='gray', \n",
    "              xlocs=range(-180,180,30), ylocs=range(-90,90,30))\n",
    "ax2.set_title('Mollweide', fontsize=16, fontweight='bold')\n",
    "ax2.contourf(lon_wrap, ds.lat, data_wrap[0,:,:], cmap=colormap, \n",
    "             levels=15, transform=data_crs)\n",
    "\n",
    "ax3.coastlines(resolution='50m', linewidth=0.3, color='black')\n",
    "ax3.gridlines(draw_labels=True, linewidth=0.5, color='gray', \n",
    "              xlocs=range(-180,180,30), ylocs=range(-90,90,30))\n",
    "ax3.set_title('Orthographic', fontsize=16, fontweight='bold')\n",
    "ax3.set_global()\n",
    "ax3.contourf(lon_wrap, ds.lat, data_wrap[0,:,:], cmap=colormap, \n",
    "             levels=15, transform=data_crs)\n",
    "\n",
    "ax4.coastlines(resolution='50m', linewidth=0.3, color='black')\n",
    "ax4.gridlines(draw_labels=True, linewidth=0.5, color='gray', \n",
    "              xlocs=range(-180,180,30), ylocs=range(-90,90,30))\n",
    "ax4.set_title('NorthPolarStereo', fontsize=16, fontweight='bold')\n",
    "ax4.set_global()\n",
    "ax4.set_extent([-180, 180, 60, 90], ccrs.PlateCarree())\n",
    "\n",
    "# Compute a circle in axes coordinates (boundary for the map)\n",
    "theta = np.linspace(0, 2*np.pi, 100)\n",
    "center, radius = [0.5, 0.5], 0.5\n",
    "verts = np.vstack([np.sin(theta), np.cos(theta)]).T\n",
    "circle = mpath.Path(verts * radius + center)\n",
    "\n",
    "ax4.set_boundary(circle, transform=ax4.transAxes)\n",
    "ax4.contourf(lon_wrap, ds.lat, data_wrap[0,:,:], cmap=colormap, \n",
    "             levels=15, transform=data_crs)\n",
    "\n",
    "fig.subplots_adjust(top=0.90, bottom=0.10, left=0.15, right=0.85, \n",
    "                    hspace=0.1, wspace=0.2)"
   ]
  },
  {
   "cell_type": "markdown",
   "metadata": {},
   "source": [
    "<h2 style=\"color:red\"> Exercise </h2>\n",
    "\n",
    "Create the following map:\n",
    "\n",
    "- projection 'Orthographic' that we can see Australia at the center of the map\n",
    "- draw the land areas colored\n",
    "- draw the ocean areas colored\n",
    "- draw coastlines\n",
    "- draw gridlines every 10°"
   ]
  },
  {
   "cell_type": "code",
   "execution_count": null,
   "metadata": {},
   "outputs": [],
   "source": []
  },
  {
   "cell_type": "markdown",
   "metadata": {},
   "source": [
    "<br><br>\n",
    "\n",
    "Just for fun  :-)\n"
   ]
  },
  {
   "cell_type": "code",
   "execution_count": null,
   "metadata": {},
   "outputs": [],
   "source": [
    "projection = ccrs.InterruptedGoodeHomolosine()\n",
    "data_crs = ccrs.PlateCarree()\n",
    "\n",
    "fig, ax = plt.subplots(figsize=(12,8), subplot_kw={\"projection\": projection})\n",
    "\n",
    "ax.coastlines(resolution='50m', linewidth=0.3, color='black')\n",
    "ax.gridlines(linewidth=0.5, color='gray',\n",
    "             xlocs=range(-180,180,30), ylocs=range(-90,90,30))\n",
    "ax.set_title('Projection : InterruptedGoodeHomolosine', y = 1.05, \n",
    "             fontsize=16, fontweight='bold')\n",
    "\n",
    "cnf = ax.contourf(lon_wrap, ds.lat, data_wrap[0,:,:], cmap=colormap, \n",
    "            levels=15, transform=data_crs)"
   ]
  },
  {
   "cell_type": "markdown",
   "metadata": {},
   "source": [
    "<br>\n",
    "\n",
    "# Tipp\n",
    "\n",
    "DKRZ provides some visualization examples for Python\n",
    "\n",
    "&nbsp; &nbsp; &nbsp; https://docs.dkrz.de/doc/visualization/sw/python/index.html \n",
    "\n",
    "<br>\n",
    "    "
   ]
  },
  {
   "cell_type": "code",
   "execution_count": null,
   "metadata": {},
   "outputs": [],
   "source": []
  },
  {
   "cell_type": "code",
   "execution_count": null,
   "metadata": {},
   "outputs": [],
   "source": []
  }
 ],
 "metadata": {
  "kernelspec": {
   "display_name": "Python 3 (based on the module python3/2022.01)",
   "language": "python",
   "name": "python3_2022_01"
  },
  "language_info": {
   "codemirror_mode": {
    "name": "ipython",
    "version": 3
   },
   "file_extension": ".py",
   "mimetype": "text/x-python",
   "name": "python",
   "nbconvert_exporter": "python",
   "pygments_lexer": "ipython3",
   "version": "3.9.9"
  }
 },
 "nbformat": 4,
 "nbformat_minor": 4
}
