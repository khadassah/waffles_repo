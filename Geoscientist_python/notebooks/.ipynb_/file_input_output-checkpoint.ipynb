{
 "cells": [
  {
   "cell_type": "markdown",
   "id": "d979a06f",
   "metadata": {},
   "source": [
    "# File input / output\n",
    "\n",
    "In this section you will learn how to read and write ASCII data (pure text data).\n",
    "\n",
    "Content:\n",
    "\n",
    "+ Open\n",
    "+ Close\n",
    "+ Read\n",
    "+ Write\n",
    "+ Read CSV file\n",
    "+ Write CSV file\n",
    "\n",
    "Before we begin it should be clear what a file is. A file is like a sheet of paper with a header, data in the middle and the line at the end. The header contains the file name, its size and type, and more. The data is what ever you are working with. The end of file line contains in most cases a specual character telling the system 'here is the end'.\n",
    "\n",
    "Depending on the system you are working on the lines end with different special characters which are not displayed (most editors provide the function 'show invisible characters').\n",
    "\n",
    "```\n",
    "Windows:        CR+LF which is equal to \\r\\n\n",
    "Linux and Mac:  LF which is euqal \\n\n",
    "```\n",
    "\n",
    "<br />"
   ]
  },
  {
   "cell_type": "markdown",
   "id": "42fc8e78",
   "metadata": {},
   "source": [
    "## Open a file for reading\n",
    "\n",
    "To open the file with the Python `open` function is the first step. It returns a file object that allows us to use finctions for reading and writing.\n",
    "\n",
    "Reference:\n",
    "```\n",
    "open(file, mode='r', newline=None)\n",
    "```\n",
    "\n",
    "\n",
    "\n",
    "A file can be opend for reading or writing ASCII or binary data by setting the mode in the function call.\n",
    "\n",
    "Modes:\n",
    "```\n",
    "'r'       open for reading (default, text mode)\n",
    "'w'       open for writing, overwriting an existing file (text mode)\n",
    "'b'       binary\n",
    "'t'       text (default)\n",
    "'rb'      read binary\n",
    "'wb'      write binary\n",
    "'a'       appending at the end of the file\n",
    "'+'       reading and writing\n",
    "```\n",
    "\n",
    "**Note:** For text files, the system depending line endings (\\n on Unix, \\r\\n on Windows) will be converted to \\n when reading, and when writing it will be converted back to the system specific line ending. Nice, you don't have to care about it.\n",
    "\n",
    "Now, we want to open the file World_Nations_population_land_area.txt which is stored in the material/data folder in read only mode. Because it is a text file (ASCII) we can use the short mode 'r' instead of 'rt'.\n",
    "\n",
    "```python\n",
    "f = open('../data/World_Nations_population_land_area.txt', 'r')\n",
    "\n",
    "print(f)\n",
    "```\n"
   ]
  },
  {
   "cell_type": "code",
   "execution_count": null,
   "id": "d264aa0f",
   "metadata": {},
   "outputs": [],
   "source": [
    "f = open('../data/World_Nations_population_land_area.txt', 'r')\n",
    "\n",
    "print(f)"
   ]
  },
  {
   "cell_type": "markdown",
   "id": "880cd3c1",
   "metadata": {},
   "source": [
    "<br>\n",
    "\n",
    "## Close a file\n",
    "\n",
    "After the work is done you can close the file object with the `close` function. \n",
    "\n",
    "```python\n",
    "f.close()\n",
    "```\n",
    "\n",
    "You can control whether a file is closed or not with the `closed` method.\n",
    "\n",
    "```python\n",
    "f.closed\n",
    "```\n"
   ]
  },
  {
   "cell_type": "code",
   "execution_count": null,
   "id": "afe99cd5",
   "metadata": {},
   "outputs": [],
   "source": [
    "f.close()\n",
    "f.closed"
   ]
  },
  {
   "cell_type": "markdown",
   "id": "2a8502fb",
   "metadata": {},
   "source": [
    "<br>\n",
    "\n",
    "If you try to close an already closed file nothing will happen (return value None)."
   ]
  },
  {
   "cell_type": "code",
   "execution_count": null,
   "id": "df6e8987",
   "metadata": {},
   "outputs": [],
   "source": [
    "f.close()"
   ]
  },
  {
   "cell_type": "markdown",
   "id": "0eea7f30",
   "metadata": {},
   "source": [
    "<br>\n",
    "\n",
    "<h2 style=\"color:red\"> Exercise </h2>\n",
    "\n",
    "What happens when you try to read from an closed file? This is only about the message you get, the read function will be introduced in the next section.\n",
    "\n",
    "Enter\n",
    "\n",
    "```\n",
    "f.read()\n",
    "```\n",
    "\n",
    "<br>\n"
   ]
  },
  {
   "cell_type": "code",
   "execution_count": null,
   "id": "1af204b3",
   "metadata": {},
   "outputs": [],
   "source": []
  },
  {
   "cell_type": "markdown",
   "id": "26635a83",
   "metadata": {},
   "source": [
    "<br >\n",
    "\n",
    "## Reading functions\n",
    "\n",
    "The Python standard library provides a few functions to read data from a file.\n",
    "\n",
    "1. read()\n",
    "2. readline()\n",
    "3. readlines()\n",
    "\n",
    "<br>\n",
    "\n",
    "#### 1. read()\n",
    "\n",
    "The function `read` can be used to read the content of the file object. It reads the complete file content as a string at once.\n",
    "\n",
    "The following code prints the complete content of the input file\n",
    "\n",
    "```\n",
    "f = open('../data/World_Nations_population_land_area.txt', 'r')\n",
    "\n",
    "data = f.read()\n",
    "print(data)\n",
    "```\n",
    "\n",
    "Output:\n",
    "\n",
    "```bash\n",
    "# Country\tPopulation (2020)\tLand Area (Km²)\tDensity(P/Km²)\n",
    "1    Afghanistan    38928346    652860    60\n",
    "2    Albania    2877797    27400    105\n",
    "3    Algeria    43851044    2381740    18\n",
    "4    Andorra    77265    470    164\n",
    "5    Angola    32866272    1246700    26\n",
    "6    Antigua and Barbuda    97929    440    223\n",
    "7    Argentina    45195774    2736690    17\n",
    "8    Armenia    2963243    28470    104\n",
    "9    Australia    25499884    7682300    3\n",
    "10    Austria    9006398    82409    109\n",
    "...\n",
    "195\tZimbabwe\t14862924\t386850\t38```\n"
   ]
  },
  {
   "cell_type": "code",
   "execution_count": null,
   "id": "8a9834fe",
   "metadata": {
    "jupyter": {
     "source_hidden": true
    },
    "tags": []
   },
   "outputs": [],
   "source": [
    "f = open('../data/World_Nations_population_land_area.txt', 'r')\n",
    "\n",
    "data = f.read()\n",
    "print(data)"
   ]
  },
  {
   "cell_type": "markdown",
   "id": "cae8a1d2",
   "metadata": {},
   "source": [
    "<br>\n",
    "\n",
    "If you iterate over the `read()` output it would iterate over every character in the file.\n",
    "\n",
    "For example, retrieve the size of the content list and print the first 120 characters in content:\n",
    "\n",
    "```python\n",
    "f = open('../data/World_Nations_population_land_area.txt', 'r')\n",
    "\n",
    "content = f.read()\n",
    "\n",
    "print(len(content))\n",
    "\n",
    "print(content[:120])\n",
    "```\n",
    "\n",
    "Output:\n",
    "\n",
    "```bash\n",
    "7521\n",
    "# Country\tPopulation (2020)\tLand Area (Km²)\tDensity(P/Km²)\n",
    "1\tAfghanistan\t38928346\t652860\t60\n",
    "2\tAlbania\t2877797\t27400\t105\n",
    "```\n"
   ]
  },
  {
   "cell_type": "code",
   "execution_count": null,
   "id": "dd80dcfa",
   "metadata": {},
   "outputs": [],
   "source": [
    "f = open('../data/World_Nations_population_land_area.txt', 'r')\n",
    "\n",
    "content = f.read()\n",
    "\n",
    "print(len(content))\n",
    "\n",
    "print(content[:120])"
   ]
  },
  {
   "cell_type": "markdown",
   "id": "2c1a97ce",
   "metadata": {},
   "source": [
    "<br>\n",
    "\n",
    "A better way to program is to use the `with` method because at the end the file will be closed automatically.\n",
    "\n",
    "```python\n",
    "with open('../data/World_Nations_population_land_area.txt', 'r') as f:\n",
    "    print(f.read())\n",
    "```\n",
    "\n",
    "Output:\n",
    "\n",
    "```bash\n",
    "# Country\tPopulation (2020)\tLand Area (Km²)\tDensity(P/Km²)\n",
    "# Country\tPopulation(2020)\tLand Area (Km²)\tDensity(P/Km²)\n",
    "1\tAfghanistan\t38928346\t652860\t60\n",
    "2\tAlbania\t2877797\t27400\t105\n",
    "3\tAlgeria\t43851044\t2381740\t18\n",
    "4\tAndorra\t77265\t470\t164\n",
    "5\tAngola\t32866272\t1246700\t26\n",
    "6\tAntigua and Barbuda\t97929\t440\t223\n",
    "7\tArgentina\t45195774\t2736690\t17\n",
    "8\tArmenia\t2963243\t28470\t104\n",
    "9\tAustralia\t25499884\t7682300\t3\n",
    "10\tAustria\t9006398\t82409\t109\n",
    "...\n",
    "195\tZimbabwe\t14862924\t386850\t38\n",
    "```\n"
   ]
  },
  {
   "cell_type": "code",
   "execution_count": null,
   "id": "87c747d0",
   "metadata": {
    "jupyter": {
     "source_hidden": true
    },
    "tags": []
   },
   "outputs": [],
   "source": [
    "with open('../data/World_Nations_population_land_area.txt', 'r') as f:\n",
    "    print(f.read())"
   ]
  },
  {
   "cell_type": "markdown",
   "id": "53750b81",
   "metadata": {},
   "source": [
    "<br>\n",
    "\n",
    "#### 2. readline()\n",
    "\n",
    "The function `readline` reads the file content line by line. For demonstration purposes we use here the method without `with` and at the end, we have to `close` the file manually.\n",
    "\n",
    "Open the file again:\n",
    "\n",
    "```python\n",
    "f = open('../data/World_Nations_population_land_area.txt', 'r')\n",
    "```\n",
    "\n",
    "Read the first line and print it:\n",
    "\n",
    "```python\n",
    "line = f.readline()\n",
    "\n",
    "print(line)\n",
    "```\n",
    "\n",
    "Output:\n",
    "\n",
    "```bash\n",
    "# Country\tPopulation (2020)\tLand Area (Km²)\tDensity(P/Km²)\n",
    "```\n",
    "\n",
    "Read and print next line.\n",
    "\n",
    "```python\n",
    "line = f.readline()\n",
    "print(line)\n",
    "```\n",
    "\n",
    "Output:\n",
    "\n",
    "```bash\n",
    "2 \tAlbania \t2,877,797 \t27,400 \t105\n",
    "```\n",
    "\n",
    "And so on. A loop over the needed lines would be a better way."
   ]
  },
  {
   "cell_type": "markdown",
   "id": "119ba6ca",
   "metadata": {},
   "source": [
    "<br>\n",
    "<h2 style=\"color:red\"> Exercise </h2>\n",
    "\n",
    "Print the first 10 countries from the file to stdout.\n",
    "\n",
    "Hint: Don't forget to close the file.\n",
    "\n",
    "<br>\n"
   ]
  },
  {
   "cell_type": "code",
   "execution_count": null,
   "id": "bb79d090",
   "metadata": {},
   "outputs": [],
   "source": [
    "f = open('../data/World_Nations_population_land_area.txt', 'r')\n",
    "\n",
    "for i in range(11):\n",
    "    print(f.readline())"
   ]
  },
  {
   "cell_type": "markdown",
   "id": "51157b39",
   "metadata": {},
   "source": [
    "<br>\n",
    "\n",
    "#### 3. readlines()\n",
    "\n",
    "The function `readlines` reads all lines and store each line as an element in a list (of type string in this case).\n",
    "\n",
    "```python\n",
    "content = open('../data/World_Nations_population_land_area.txt', 'r').readlines()\n",
    "\n",
    "print(content)\n",
    "```\n",
    "\n",
    "Output:\n",
    "\n",
    "```bash\n",
    "['# Country\\tPopulation(2020)\\tLand Area (Km²)\\tDensity(P/Km²)\\n', '1\\tAfghanistan\\t38928346\\t652860\\t60\\n', '2\\tAlbania\\t2877797\\t27400\\t105\\n', ... , '194 \\tZimbabwe\\t14862924\\t386850\\t38']\n",
    "```\n",
    "\n",
    "The output shows that between the line components a tab '\\t' is used as separator.\n",
    "\n",
    "<br>\n",
    "\n"
   ]
  },
  {
   "cell_type": "code",
   "execution_count": null,
   "id": "2bbe5fc7",
   "metadata": {
    "jupyter": {
     "source_hidden": true
    },
    "tags": []
   },
   "outputs": [],
   "source": [
    "content = open('../data/World_Nations_population_land_area.txt', 'r').readlines()\n",
    "\n",
    "print(content)"
   ]
  },
  {
   "cell_type": "markdown",
   "id": "21efa4d9",
   "metadata": {},
   "source": [
    "<br>\n",
    "\n",
    "When you know the number of a specific line of interest, you can directly read the line by indexing.\n",
    "\n",
    "The 65th Nation is Germany and we know that the first line is a header. So we can use the index 65 (line 66) to get the information about the German population.\n",
    "\n",
    "```python\n",
    "f = open('../data/World_Nations_population_land_area.txt', 'r')\n",
    "\n",
    "print(f.readlines()[65])\n",
    "```\n",
    "\n",
    "The result from above is the same as the result from below except for the difference that above the file object still needs to be closed when it is no longer needed. myline is an object of type string.\n",
    "\n",
    "```python\n",
    "myline = open('../data/World_Nations_population_land_area.txt', 'r').readlines()[65]\n",
    "\n",
    "print(myline)\n",
    "```\n"
   ]
  },
  {
   "cell_type": "markdown",
   "id": "5ed0e370",
   "metadata": {},
   "source": [
    "<br>\n",
    "\n",
    "<h2 style=\"color:red\"> Exercise </h2>\n",
    "\n",
    "1. From file World_Nations_population_land_area.txt read the 125th line and tell us which country you have found.\n",
    "2. Print the countries #45 to #50\n",
    "\n",
    "<br>\n"
   ]
  },
  {
   "cell_type": "code",
   "execution_count": null,
   "id": "0408dddf",
   "metadata": {},
   "outputs": [],
   "source": [
    "# 1:\n"
   ]
  },
  {
   "cell_type": "code",
   "execution_count": null,
   "id": "477c5f32",
   "metadata": {},
   "outputs": [],
   "source": [
    "# 2:\n"
   ]
  },
  {
   "cell_type": "markdown",
   "id": "3d92913a",
   "metadata": {},
   "source": [
    "<br>\n",
    "\n",
    "## Open a file for writing\n",
    "\n",
    "When writing to a file, a distinction is made between creating a new file, appending data to an existing file, or overwriting an existing file. This is done by selecting the appropriateed mode in the open statement (see above).\n",
    "\n",
    "```python\n",
    "fout = open('myoutput.txt', 'w')\n",
    "```\n",
    "It creates a file object in text write mode linked to the file _myoutput.txt_. If _myoutput.txt_ exists it will be overwritten.\n",
    "\n",
    "<br>\n"
   ]
  },
  {
   "cell_type": "markdown",
   "id": "96c302f3",
   "metadata": {},
   "source": [
    "## Write to file\n",
    "\n",
    "Equivalent to the `read` function Python provides a `write` function as well. Every call of `write` append the input to the file until it is closed. It is important to add blanks and newlines '\\n' to get the wanted text result.\n",
    "\n",
    "```python\n",
    "fout = open('myoutput.txt', 'w')\n",
    "\n",
    "x = 10\n",
    "y = 5\n",
    "\n",
    "fout.write('This is our first write call without a newline special character.')\n",
    "fout.write('And here it comes - the second write call without a newline special character.')\n",
    "fout.write(str(x))\n",
    "fout.write(str(y))\n",
    "\n",
    "fout.write('\\n---------\\n')\n",
    "fout.write('We should use a newline character. \\n')\n",
    "fout.write(str(x) + '\\n')\n",
    "fout.write(str(y) + '\\n')\n",
    "\n",
    "fout.write('\\n---------\\n')\n",
    "fout.write('Or a blank character.\\n')\n",
    "fout.write(str(x) + ' ' + str(y) + '\\n')\n",
    "fout.close()\n",
    "```\n"
   ]
  },
  {
   "cell_type": "markdown",
   "id": "7099275b",
   "metadata": {},
   "source": [
    "<br>\n",
    "\n",
    "<h2 style=\"color:red\"> Exercise </h2>\n",
    "\n",
    "1. Open a new file\n",
    "2. Write some text and data to the file. Use newline and blanks to format the output.\n",
    "3. Close the file\n",
    "4. Open the file again, but you have to append some lines.\n",
    "5. Add some text and data to the file."
   ]
  },
  {
   "cell_type": "code",
   "execution_count": null,
   "id": "fc095a7d",
   "metadata": {},
   "outputs": [],
   "source": [
    "# 1.\n"
   ]
  },
  {
   "cell_type": "code",
   "execution_count": null,
   "id": "021f5e89",
   "metadata": {},
   "outputs": [],
   "source": [
    "# 2. \n"
   ]
  },
  {
   "cell_type": "code",
   "execution_count": null,
   "id": "5c7edc14",
   "metadata": {},
   "outputs": [],
   "source": [
    "# 3.\n"
   ]
  },
  {
   "cell_type": "code",
   "execution_count": null,
   "id": "c5dedbd4",
   "metadata": {},
   "outputs": [],
   "source": [
    "# 4.\n"
   ]
  },
  {
   "cell_type": "code",
   "execution_count": null,
   "id": "3f1cd696",
   "metadata": {},
   "outputs": [],
   "source": [
    "# 5.\n"
   ]
  },
  {
   "cell_type": "markdown",
   "id": "bbc885cb",
   "metadata": {},
   "source": [
    "<br>\n",
    "\n",
    "## Read binary data\n",
    "\n",
    "There are different packages available for reading and writing binary data. The package Numpy can be used to write arrays (sequences of values) to an file.\n",
    "\n",
    "For simplicity we skip the binary part, since it is rarely used.\n",
    "\n",
    "<br>\n"
   ]
  },
  {
   "cell_type": "markdown",
   "id": "58886ae1",
   "metadata": {},
   "source": [
    "## Read CSV file\n",
    "\n",
    "The CSV (comma separated values) format is very often used to store ASCII data in an file. Programns like Excel can import and export these format which makes it easy for the exchange of data. The values are separated by a delimiter (default: comma) which can be set or changed by the user. \n",
    "\n",
    "The Python module **csv** provides classes for reading and writing this form of data. \n",
    "\n",
    "```python\n",
    "import csv\n",
    "```\n",
    "\n",
    "The `reader()` class allows us to read the file content into an iterable _reader_ object. A `delimiter` can be set and, if needed, you can skip initial blanks with the `skipinitialspace=True`.\n",
    "\n",
    "To read only the first 6 lines of the CSV file we use _enumerate_ to get an iterable object:\n",
    "\n",
    "```python\n",
    "with open('../data/World_Nations_population_land_area.txt') as csvfile:\n",
    "    data = csv.reader(csvfile, delimiter='\\t')\n",
    "    for index, row in enumerate(data):\n",
    "        if index <=5:\n",
    "            print(row)\n",
    "```\n",
    "\n",
    "```bash\n",
    "['# Country', 'Population(2020)', 'Land Area (Km²)', 'Density(P/Km²)']\n",
    "['1', 'Afghanistan', '38928346', '652860', '60']\n",
    "['2', 'Albania', '2877797', '27400', '105']\n",
    "['3', 'Algeria', '43851044', '2381740', '18']\n",
    "['4', 'Andorra', '77265', '470', '164']\n",
    "['5', 'Angola', '32866272', '1246700', '26']\n",
    "```\n"
   ]
  },
  {
   "cell_type": "code",
   "execution_count": null,
   "id": "b13acdd3",
   "metadata": {},
   "outputs": [],
   "source": [
    "import csv\n",
    "\n",
    "with open('../data/World_Nations_population_land_area.txt') as csvfile:\n",
    "    data = csv.reader(csvfile, delimiter='\\t')\n",
    "    for index, row in enumerate(data):\n",
    "        if index <=5:\n",
    "            print(row)"
   ]
  },
  {
   "cell_type": "markdown",
   "id": "a38e27d1",
   "metadata": {},
   "source": [
    "<br>\n",
    "\n",
    "When the CSV file has a more unlike format because the delimiter is not one character some work has to be done.\n",
    "\n",
    "Example input file:\n",
    "\n",
    "```\n",
    "\"Number\" | \"Name\" | \"Type\"\n",
    "1 | \"Balu\" | \"Bear\"\n",
    "2 | \"Groot\" | \"Tree\"\n",
    "3 | \"Chewbacca\" | \"Wookiee\"\n",
    "4 | \"Duffy\" | \"Duck\"\n",
    "\n",
    "```\n",
    "\n",
    "The initial blank character can be skipped by setting _skipinitialspace_ to True.\n",
    "\n",
    "```python\n",
    "with open('../data/species_not_real.csv') as infile:\n",
    "    species = csv.reader(infile, delimiter='|', skipinitialspace=True)\n",
    "    for row in species:\n",
    "        print(row)\n",
    "```\n",
    "\n",
    "Output:\n",
    "\n",
    "```bash\n",
    "['Number ', 'Name ', 'Type']\n",
    "['1 ', 'Balu ', 'Bear']\n",
    "['2 ', 'Groot ', 'Tree']\n",
    "['3 ', 'Chewbacca ', 'Wookiee']\n",
    "['4 ', 'Duffy ', 'Duck']\n",
    "```\n",
    "\n",
    "The trailing blank character of the first two elements of each row will remain. The `strip()` method will delete it anyway.\n",
    "\n",
    "```python\n",
    "with open('../data/species_not_real.csv') as infile:\n",
    "    species = csv.reader(infile, delimiter='|', skipinitialspace=True)\n",
    "    for row in species:\n",
    "        row = row.strip()\n",
    "        print(row)\n",
    "```\n",
    "\n",
    "The output is\n",
    "\n",
    "```bash\n",
    "['Number', 'Name', 'Type']\n",
    "['1', 'Balu', 'Bear']\n",
    "['2', 'Groot', 'Tree']\n",
    "['3', 'Chewbacca', 'Wookiee']\n",
    "['4', 'Duffy', 'Duck']\n",
    "```\n",
    "\n",
    "<br>"
   ]
  },
  {
   "cell_type": "code",
   "execution_count": null,
   "id": "3f5b4d6e",
   "metadata": {},
   "outputs": [],
   "source": [
    "with open('../data/species_not_real.csv') as infile:\n",
    "    species = csv.reader(infile, delimiter='|', skipinitialspace=True)\n",
    "    for row in species:\n",
    "        row = list([x.strip() for x in row])\n",
    "        print(row)"
   ]
  },
  {
   "cell_type": "markdown",
   "id": "78d9d61f",
   "metadata": {},
   "source": [
    "<br>\n",
    "\n",
    "With the object class DictReader() the content of the CSV file can be read as a dictionary. But we already stick with the initial and trailing blank problem. To solve this issue we define a function which will remove the blanks.\n",
    "\n",
    "```python\n",
    "def strip_dict(d):\n",
    "    return { key.strip() : strip_dict(value)\n",
    "             if isinstance(value, dict)\n",
    "             else value.strip()\n",
    "             for key, value in d.items() }\n",
    "\n",
    "with open('../data/species_not_real.csv') as infile:\n",
    "    species = csv.DictReader(infile, delimiter='|', skipinitialspace=True)\n",
    "    for row in species:\n",
    "        row1 = strip_dict(row)\n",
    "        print(row1)\n",
    "```\n",
    "\n",
    "```bash\n",
    "{'Number': '1', 'Name': 'Balu', 'Type': 'Bear'}\n",
    "{'Number': '2', 'Name': 'Groot', 'Type': 'Tree'}\n",
    "{'Number': '3', 'Name': 'Chewbacca', 'Type': 'Wookiee'}\n",
    "{'Number': '4', 'Name': 'Duffy', 'Type': 'Duck'}\n",
    "```\n"
   ]
  },
  {
   "cell_type": "code",
   "execution_count": null,
   "id": "748b272d",
   "metadata": {},
   "outputs": [],
   "source": [
    "def strip_dict(d):\n",
    "    return { key.strip() : strip_dict(value)\n",
    "             if isinstance(value, dict)\n",
    "             else value.strip()\n",
    "             for key, value in d.items() }\n",
    "\n",
    "with open('../data/species_not_real.csv') as infile:\n",
    "    species = csv.DictReader(infile, delimiter='|', skipinitialspace=True)\n",
    "    for row in species:\n",
    "        row1 = strip_dict(row)\n",
    "        print(row1)"
   ]
  },
  {
   "cell_type": "markdown",
   "id": "3bebc9bb",
   "metadata": {},
   "source": [
    "<br>\n",
    "\n",
    "## Write CSV file\n",
    "\n",
    "Just as we expect, there is a `writer()` class for writing data to a file in CSV format.\n",
    "\n",
    "Let's assume we want to write the following values to a file with a comma as delimiter.\n",
    "\n",
    "```python\n",
    "a = [1,2,3,4,5,6]\n",
    "\n",
    "with open('./test.csv', 'w', encoding='UTF8') as fout:\n",
    "    writer = csv.writer(fout, delimiter=',')\n",
    "    writer.writerow(a)\n",
    "```\n",
    "\n",
    "File content test.csv:\n",
    "\n",
    "```bash\n",
    "1,2,3,4,5,6\n",
    "```\n",
    "\n",
    "<br>\n"
   ]
  },
  {
   "cell_type": "code",
   "execution_count": null,
   "id": "0b2b5bf5",
   "metadata": {},
   "outputs": [],
   "source": [
    "a = [1,2,3,4,5,6]\n",
    "\n",
    "with open('./test.csv', 'w', encoding='UTF8') as fout:\n",
    "    writer = csv.writer(fout, delimiter=',')\n",
    "    writer.writerow(a)"
   ]
  },
  {
   "cell_type": "markdown",
   "id": "690425c4",
   "metadata": {},
   "source": [
    "<br>\n",
    "\n",
    "You can combine multiple lists using `writerow()` for a single list and `writerows()` for nested lists.\n",
    "\n",
    "A good example of use is to save a header and its associated data as follows:\n",
    "\n",
    "```python\n",
    "header = ['CONTINENT', 'NAME', 'ISO2', 'ISO3']\n",
    "\n",
    "data = [['Africa', 'Algeria', 'DZ', 'DZA'],\n",
    "        ['Africa', 'Angola', 'AO', 'AGO'],\n",
    "        ['Africa', 'Benin', 'BJ', 'BEN'],\n",
    "        ['Africa', 'Botswana', 'BW', 'BWA'],\n",
    "        ['Africa', 'Burkina Faso', 'BF', 'BFA']]\n",
    "\n",
    "with open('./countries.csv', 'w', encoding='UTF8') as f:\n",
    "    writer = csv.writer(f, delimiter=',' )\n",
    "    writer.writerow(header)\n",
    "    writer.writerows(data)\n",
    "```\n",
    "\n",
    "File content of countries.csv:\n",
    "\n",
    "```bash\n",
    "CONTINENT,NAME,ISO2,ISO3\n",
    "Africa,Algeria,DZ,DZA\n",
    "Africa,Angola,AO,AGO\n",
    "Africa,Benin,BJ,BEN\n",
    "Africa,Botswana,BW,BWA\n",
    "Africa,Burkina Faso,BF,BFA\n",
    "```\n",
    "\n",
    "<br>\n"
   ]
  },
  {
   "cell_type": "code",
   "execution_count": null,
   "id": "d5b54bfb",
   "metadata": {},
   "outputs": [],
   "source": [
    "header = ['CONTINENT', 'NAME', 'ISO2', 'ISO3']\n",
    "\n",
    "data = [['Africa', 'Algeria', 'DZ', 'DZA'],\n",
    "        ['Africa', 'Angola', 'AO', 'AGO'],\n",
    "        ['Africa', 'Benin', 'BJ', 'BEN'],\n",
    "        ['Africa', 'Botswana', 'BW', 'BWA'],\n",
    "        ['Africa', 'Burkina Faso', 'BF', 'BFA']]\n",
    "\n",
    "with open('./countries.csv', 'w', encoding='UTF8') as f:\n",
    "    writer = csv.writer(f, delimiter=',' )\n",
    "    writer.writerow(header)\n",
    "    writer.writerows(data)"
   ]
  },
  {
   "cell_type": "markdown",
   "id": "6ac413c9",
   "metadata": {},
   "source": [
    "<br>\n",
    "\n",
    "<h2 style=\"color:red\"> Exercise </h2>\n",
    "\n",
    "Input data: https://www.worldometers.info/world-population/population-by-country/\n",
    "\n",
    "1. Create a list that contains the header information: name, population, density\n",
    "1. Create a list of the 5 countries with the largest population\n",
    "1. Write the CSV data with a semicolon as delimiter to the file _country_population.csv_\n",
    "\n",
    "<br>\n"
   ]
  },
  {
   "cell_type": "code",
   "execution_count": null,
   "id": "c1b961b1",
   "metadata": {},
   "outputs": [],
   "source": [
    "# 1.\n"
   ]
  },
  {
   "cell_type": "code",
   "execution_count": null,
   "id": "5e666e6e",
   "metadata": {},
   "outputs": [],
   "source": [
    "# 2.\n"
   ]
  },
  {
   "cell_type": "code",
   "execution_count": null,
   "id": "928fb955",
   "metadata": {},
   "outputs": [],
   "source": [
    "# 3.\n"
   ]
  },
  {
   "cell_type": "code",
   "execution_count": null,
   "id": "031895fa-762e-4ab7-a159-a1ed2668a713",
   "metadata": {},
   "outputs": [],
   "source": []
  }
 ],
 "metadata": {
  "kernelspec": {
   "display_name": "Python 3 (based on the module python3/2022.01)",
   "language": "python",
   "name": "python3_2022_01"
  },
  "language_info": {
   "codemirror_mode": {
    "name": "ipython",
    "version": 3
   },
   "file_extension": ".py",
   "mimetype": "text/x-python",
   "name": "python",
   "nbconvert_exporter": "python",
   "pygments_lexer": "ipython3",
   "version": "3.9.9"
  }
 },
 "nbformat": 4,
 "nbformat_minor": 5
}
