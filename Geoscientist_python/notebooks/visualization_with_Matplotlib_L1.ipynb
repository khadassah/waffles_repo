{
 "cells": [
  {
   "cell_type": "markdown",
   "metadata": {},
   "source": [
    "# Visualization with matplotlib I\n",
    "\n",
    "![matplotlib_logo.png](../images/matplotlib_logo.png)\n",
    "\n",
    "\n",
    "## Content:\n",
    "* [Introduction](#introduction)\n",
    "* [Preliminary work](#preliminary-work)\n",
    "* [Import plot library](#import-matplotlib)\n",
    "* [A simple plot](#simple-plot)\n",
    "* [Add grid lines](#grid-lines)\n",
    "* [Basic concepts](#basic-concepts)\n",
    "* [Figures and axes](#figures-axes)\n",
    "* [Multiple plots](#multiple-plots)\n",
    "* [Plot types](#plot-types)\n",
    "* [Text annotations](#text-annotations)\n",
    "* [Plot settings](#plot-settings)\n",
    "* [Save the plot to PNG](#save-png)\n",
    "\n",
    "## Introduction <a class=\"anchor\" id=\"introduction\"></a>\n",
    "\n",
    "One of the most important modules in Python for 2-dimensional visualization is Matplotlib. It is a very comprehensive package with many display options for 2-dimensional data, whether xy plots, bar charts, pie charts, box plots, contours, vectors, scatters, and so on. \n",
    "\n",
    "Matplotlib home page https://matplotlib.org/\n",
    "\n",
    "Matplotlib provides many example scripts with a short description, see https://matplotlib.org/stable/gallery. \n",
    "For the beginner it is sometimes difficult to get started, but through the examples gallery with the many examples you can quickly find something that suits your needs. \n",
    "\n",
    "Matplotlib's collection of style functions **pyplot** work very similar to MATLAB.\n",
    "For a detailed description see https://matplotlib.org/stable/tutorials.\n",
    "\n",
    "\n",
    "## Preliminary work <a class=\"anchor\" id=\"preliminary-work\"></a>\n",
    "\n",
    "Jupyter notebook offers the possibility to display the plots within the notebook. Therefore we have to turn on the matplotlib mode. \n",
    "\n",
    "```notebook\n",
    "    %matplotlib inline\n",
    "```\n",
    "\n",
    "<br>\n"
   ]
  },
  {
   "cell_type": "code",
   "execution_count": null,
   "metadata": {},
   "outputs": [],
   "source": [
    "%matplotlib inline"
   ]
  },
  {
   "cell_type": "markdown",
   "metadata": {},
   "source": [
    "<br />\n",
    "\n",
    "## Import plot library <a class=\"anchor\" id=\"import-matplotlib\"></a>\n",
    "\n",
    "Import the function collection `pyplot` from matplotlib and use the shortcut `plt` for it.\n",
    "\n",
    "```python\n",
    "import matplotlib.pyplot as plt\n",
    "```\n",
    "\n",
    "<br />    "
   ]
  },
  {
   "cell_type": "code",
   "execution_count": null,
   "metadata": {},
   "outputs": [],
   "source": [
    "import matplotlib.pyplot as plt"
   ]
  },
  {
   "cell_type": "markdown",
   "metadata": {},
   "source": [
    "<br />\n",
    "\n",
    "## A simple plot <a class=\"anchor\" id=\"simple-plot\"></a>\n",
    "\n",
    "With the `plot` function we can create an empty plot.\n",
    "\n",
    "```python\n",
    "plt.plot()\n",
    "```\n",
    "\n",
    "<br />"
   ]
  },
  {
   "cell_type": "code",
   "execution_count": null,
   "metadata": {},
   "outputs": [],
   "source": [
    "plt.plot()"
   ]
  },
  {
   "cell_type": "markdown",
   "metadata": {},
   "source": [
    "<br />\n",
    "\n",
    "## Add grid lines <a class=\"anchor\" id=\"grid-lines\"></a>\n",
    "\n",
    "If you want to add some grid lines to the plot use the `grid` function.\n",
    "\n",
    "```python\n",
    "plt.grid()\n",
    "```\n",
    "\n",
    "<br />"
   ]
  },
  {
   "cell_type": "code",
   "execution_count": null,
   "metadata": {},
   "outputs": [],
   "source": [
    "plt.grid()"
   ]
  },
  {
   "cell_type": "markdown",
   "metadata": {},
   "source": [
    "## Basic concepts <a class=\"anchor\" id=\"basic-concepts\"></a>\n",
    "\n",
    "Matplotlib allows us to create a basic plot in an comfortable way. Only two lists or arrays are needed.\n",
    "\n",
    "Create some sample data:\n",
    "    \n",
    "```python\n",
    "y = [1,3,2,1,3]\n",
    "```\n",
    "\n",
    "<br />"
   ]
  },
  {
   "cell_type": "code",
   "execution_count": null,
   "metadata": {},
   "outputs": [],
   "source": [
    "y = [1,3,2,1,3]"
   ]
  },
  {
   "cell_type": "markdown",
   "metadata": {},
   "source": [
    "Plot the sample data:"
   ]
  },
  {
   "cell_type": "code",
   "execution_count": null,
   "metadata": {},
   "outputs": [],
   "source": [
    "plt.plot(y)"
   ]
  },
  {
   "cell_type": "markdown",
   "metadata": {},
   "source": [
    "Note: If you want to get rid of the Matplotlib message like the \n",
    "\n",
    "    [<matplotlib.lines.Line2D at 0x10f402500>]\n",
    "    \n",
    "from above you can write it to a variable:"
   ]
  },
  {
   "cell_type": "code",
   "execution_count": null,
   "metadata": {},
   "outputs": [],
   "source": [
    "yplot = plt.plot(y)"
   ]
  },
  {
   "cell_type": "markdown",
   "metadata": {},
   "source": [
    "For the next example we assign a list of integers to the y-values:"
   ]
  },
  {
   "cell_type": "code",
   "execution_count": null,
   "metadata": {},
   "outputs": [],
   "source": [
    "x = [1,3,6,7,9]"
   ]
  },
  {
   "cell_type": "markdown",
   "metadata": {},
   "source": [
    "<br />\n",
    "\n",
    "Now we use the two lists to generate a line plot with Matplotslib's `plot` function. Running the following command line will display the line plot inside this notebook (if you have set `%matplotlib inline`).\n",
    "\n",
    "```python\n",
    "plt.plot(x, y)\n",
    "```\n",
    "\n",
    "<br />"
   ]
  },
  {
   "cell_type": "code",
   "execution_count": null,
   "metadata": {},
   "outputs": [],
   "source": [
    "plt.plot(x, y)"
   ]
  },
  {
   "cell_type": "markdown",
   "metadata": {},
   "source": [
    "<br />\n",
    "\n",
    "This plot is more than minimalistic and we will show you how to change the **line style** with the parameter `linestyle`.\n",
    "\n",
    "You can try some of the following line styles. The code string as well as the short code string can be used.\n",
    "\n",
    "```\n",
    "Line style      code       short code\n",
    "-------------------------------------\n",
    "Solid line     'solid'     '-'  \n",
    "Dashed line    'dashed'    '--' \n",
    "Dotted line    'dotted'    ':'  \n",
    "Dash dot line  'dashdot'   '-.' \n",
    "```\n",
    "\n",
    "> Note: There are many more line styles available. See: https://matplotlib.org/3.1.0/gallery/lines_bars_and_markers/linestyles.html\n",
    "\n",
    "```python\n",
    "plt.plot(x, y, linestyle=':')\n",
    "\n",
    "or\n",
    "\n",
    "plt.plot(x, y, ':')\n",
    "```\n",
    "\n",
    "<br />\n"
   ]
  },
  {
   "cell_type": "code",
   "execution_count": null,
   "metadata": {},
   "outputs": [],
   "source": [
    "plt.plot(x, y, linestyle=':')"
   ]
  },
  {
   "cell_type": "markdown",
   "metadata": {},
   "source": [
    "<br />\n",
    "\n",
    "Let's switch from line to a **marker type**. You can do it with a short code or use the `marker` parameter.\n",
    "\n",
    "```\n",
    "Circle          'o' \n",
    "Triangle up     '^' \n",
    "Triangle down   'v' \n",
    "Square          's' \n",
    "Star            '*' \n",
    "Plus            '+' \n",
    "X               'x' \n",
    "Diamond         'D' \n",
    "Diamond thin    'd' \n",
    "```\n",
    "\n",
    "> Note: There are many more marker types available. See: https://matplotlib.org/3.3.3/api/markers_api.html\n",
    "\n",
    "```python\n",
    "plt.plot(x, y, 'D')\n",
    "\n",
    "```\n",
    "\n",
    "<br />\n"
   ]
  },
  {
   "cell_type": "code",
   "execution_count": null,
   "metadata": {},
   "outputs": [],
   "source": [
    "plt.grid()\n",
    "\n",
    "plt.plot(x, y, 'D')"
   ]
  },
  {
   "cell_type": "markdown",
   "metadata": {},
   "source": [
    "<h2 style=\"color:red\"> Exercise </h2>\n",
    "\n",
    "1. Use the marker parameter instead the short code.\n",
    "2. What do you have to do to get the same plot as above?"
   ]
  },
  {
   "cell_type": "code",
   "execution_count": null,
   "metadata": {},
   "outputs": [],
   "source": []
  },
  {
   "cell_type": "markdown",
   "metadata": {},
   "source": [
    "<br />\n",
    "\n",
    "That looks quite nice but we want to use another **color**, maybe red.\n",
    "\n",
    "The following color abbreviations (short codes) are available:\n",
    "\n",
    "```\n",
    "Color   code\n",
    "--------------\n",
    "black    'k'\n",
    "white    'w'\n",
    "red      'r'\n",
    "green    'g'\n",
    "blue     'b'\n",
    "cyan     'c'\n",
    "magenta  'm'\n",
    "yellow   'y'\n",
    "```\n",
    "\n",
    "> Note: There are many more named colors available. See: https://matplotlib.org/3.1.0/gallery/color/named_colors.html\n",
    "\n",
    "Matplotlib accepts combinations of multiple parameter abbreviations, e.g.\n",
    "\n",
    "`'Dr'` is the same as `linestyle='None', marker='D', color='r'`\n",
    "\n",
    "==>\n",
    "\n",
    "```python\n",
    "plt.plot(x, y, 'Dr')\n",
    "```\n",
    "\n",
    " is the same as \n",
    "\n",
    "```python\n",
    "plt.plot(x, y, linestyle='None', marker='D', color='r')\n",
    "```\n",
    "\n",
    "<br>"
   ]
  },
  {
   "cell_type": "code",
   "execution_count": null,
   "metadata": {},
   "outputs": [],
   "source": [
    "plt.plot(x, y, 'Dr')\n",
    "#plt.plot(x, y, linestyle='None', marker='D', color='r')"
   ]
  },
  {
   "cell_type": "markdown",
   "metadata": {},
   "source": [
    "<br />\n",
    "\n",
    "Let's create a dashed line plot with circle markers in magenta.\n",
    "\n",
    "```python\n",
    "plt.plot(x, y, '--om')\n",
    "\n",
    "#plt.plot(x, y, linestyle='--', marker='o', color='m')\n",
    "```\n",
    "\n",
    "<br />\n"
   ]
  },
  {
   "cell_type": "code",
   "execution_count": null,
   "metadata": {},
   "outputs": [],
   "source": [
    "plt.plot(x, y, '--om')\n",
    "#plt.plot(x, y, linestyle='--', marker='o', color='m')"
   ]
  },
  {
   "cell_type": "markdown",
   "metadata": {},
   "source": [
    "## Customize markers and lines <a class=\"anchor\" id=\"markers-and-lines\"></a>\n",
    "\n",
    "You can customize the plot further by changing \n",
    "* marker size\n",
    "* marker facecolor\n",
    "* marker edgecolor\n",
    "* linewidth\n",
    "\n",
    "In the following plot, we generate larger red markers with black edges. For the line, we use the default linestyle and linecolor, but we increase the linewidth to 2."
   ]
  },
  {
   "cell_type": "code",
   "execution_count": null,
   "metadata": {},
   "outputs": [],
   "source": [
    "plt.plot(x, y, linewidth=2, marker='v', markersize=14, markerfacecolor='red', markeredgecolor='black')"
   ]
  },
  {
   "cell_type": "markdown",
   "metadata": {},
   "source": [
    "Sometimes you want to overlay different components of your plots using transparency. In matplotlib this is achieved by setting the transparency parameter `alpha`. Here, `alpha=1.` corresponds to full **opacity**, and `alpha=0.` to **full transparency**. In the following plot, we draw a transparent line on top of a solid line:"
   ]
  },
  {
   "cell_type": "code",
   "execution_count": null,
   "metadata": {},
   "outputs": [],
   "source": [
    "plt.grid()\n",
    "plt.plot(x, y, 'ko-', linewidth=2, alpha=0.2)\n",
    "plt.plot(x, [v**2/2 for v in y], 'rs:', linewidth=2)"
   ]
  },
  {
   "cell_type": "markdown",
   "metadata": {
    "slideshow": {
     "slide_type": "fragment"
    },
    "tags": []
   },
   "source": [
    "<h2 style=\"color:red\"> Exercise </h2>\n",
    "\n",
    "1. Import numpy  `import numpy as np`\n",
    "\n",
    "2. Create data, e.g.\n",
    "\n",
    "```python\n",
    "   x = np.arange(1.,100.,4)\n",
    "   y = np.sin(3.14159*(x+.5)/50.)\n",
    "```\n",
    "3. Create a line plot with the following attributes\n",
    "    - set line style to dotted\n",
    "    - set line color to red\n",
    "    - set line width to 1\n",
    "    - add plus markers in black with marker size 8 to the plot\n",
    "    \n",
    "4. Create another line plot with the following attributes:\n",
    "    - set line style to solid\n",
    "    - set line color to red\n",
    "    - set line width to 2\n",
    "    - add triangle markers in green with marker size 12 and marker edgecolor black\n",
    "    - make the line plot transparent with 75% transparency\n",
    "\n",
    "Hint: https://matplotlib.org/stable/api/_as_gen/matplotlib.pyplot.plot.html\n",
    "\n",
    "<br />"
   ]
  },
  {
   "cell_type": "code",
   "execution_count": null,
   "metadata": {},
   "outputs": [],
   "source": [
    "# 1. \n"
   ]
  },
  {
   "cell_type": "code",
   "execution_count": null,
   "metadata": {},
   "outputs": [],
   "source": [
    "# 2. \n"
   ]
  },
  {
   "cell_type": "code",
   "execution_count": null,
   "metadata": {},
   "outputs": [],
   "source": [
    "# 3. \n"
   ]
  },
  {
   "cell_type": "code",
   "execution_count": null,
   "metadata": {},
   "outputs": [],
   "source": [
    "# 4. \n"
   ]
  },
  {
   "cell_type": "markdown",
   "metadata": {},
   "source": [
    "<br>\n",
    "<p>\n",
    "But of course you can still adjust the various settings manually, such as size, color, output resolution, \n",
    "line width, text settings, etc..\n",
    "</p>"
   ]
  },
  {
   "cell_type": "markdown",
   "metadata": {},
   "source": [
    "## Figure and axes <a class=\"anchor\" id=\"figures-axes\"></a>\n",
    "\n",
    "\n",
    "To make the best use of Matplotlib, you should understand the base plot concept. Matplotlib provides two \n",
    "objects to control the plots\n",
    "    \n",
    "- **figure** object\n",
    "- **axis** object\n",
    "\n",
    "Figure can be considered as the workspace and axis as the actual plot. You can create a figure that contains one or more plots.\n",
    "\n",
    "<br />\n",
    "\n",
    "![Figure and axis](../images/plot_display_frame_plots.png)\n",
    "\n",
    "<br />\n",
    "\n",
    "The left part of the image shows in gray a figure containing one plot (axis). In the middle we see in gray one figure containing two plots (axis with 2 elements) and on the right side we see in gray a figure containing four plots (axis with 4 elements). In the next section, the use of figure and axis will be shown in more detail.\n",
    "    \n",
    "It is very convenient to create figure and axis objects at once using the Matplotlib `pyplot.subplots` function. Furthermore, further setting options for the axis are introduced, which are mostly self-explanatory. \n",
    "\n",
    "The next example demonstrates the use of fig and axis for a plot where we also add a title and the x- and y-axis titles.\n",
    "\n",
    "```python\n",
    "fig, ax = plt.subplots(figsize=(6,4))\n",
    "\n",
    "ax.set_title('Example A', fontsize=24)\n",
    "ax.set_ylabel('y axis label', fontsize=16)\n",
    "ax.set_xlabel('x axis label', fontsize=16)\n",
    "ax.tick_params(labelsize=16)\n",
    "\n",
    "ax.plot(x, y, linestyle=\"solid\", linewidth=2, color=\"blue\",  \n",
    "              marker=\"o\", markersize=\"10\", markerfacecolor=\"yellow\")\n",
    "```\n",
    "\n",
    "<br />"
   ]
  },
  {
   "cell_type": "code",
   "execution_count": null,
   "metadata": {},
   "outputs": [],
   "source": [
    "fig, ax = plt.subplots(figsize=(6,4))\n",
    "\n",
    "ax.set_title('Example A', fontsize=24)\n",
    "ax.set_ylabel('y axis label', fontsize=16)\n",
    "ax.set_xlabel('x axis label', fontsize=16)\n",
    "ax.tick_params(labelsize=16)\n",
    "\n",
    "ax.plot(x, y, linestyle=\"solid\", linewidth=2, color=\"blue\",  \n",
    "              marker=\"o\", markersize=\"10\", markerfacecolor=\"yellow\")"
   ]
  },
  {
   "cell_type": "markdown",
   "metadata": {},
   "source": [
    "## Multiple plots <a class=\"anchor\" id=\"multiple-plots\"></a>\n",
    "\n",
    "\n",
    "In the next section we demonstrate how to use `pyplot.subplots` functionality to create two plots in one workspace.\n",
    "\n",
    "1. two plots in one row\n",
    "1. common title on top of the figure\n"
   ]
  },
  {
   "cell_type": "code",
   "execution_count": null,
   "metadata": {},
   "outputs": [],
   "source": [
    "fig, axs = plt.subplots(nrows=1, ncols=2, figsize=(8,4))\n",
    "fig.suptitle('Panel plot', fontsize=24)\n",
    "\n",
    "x2 = [0, 20, 30,   60,   90]\n",
    "y2 = [ 2, 2, 2.5, -1.5, -2]\n",
    "\n",
    "axs[0].plot(x, y)\n",
    "axs[1].plot(x2, y2, \"r\")"
   ]
  },
  {
   "cell_type": "markdown",
   "metadata": {},
   "source": [
    "If we want to use the same axes ranges we can set the `sharex` and `sharey` parameter to _True_."
   ]
  },
  {
   "cell_type": "code",
   "execution_count": null,
   "metadata": {},
   "outputs": [],
   "source": [
    "fig, axs = plt.subplots(nrows=1, ncols=2, figsize=(8,4), sharex=True, sharey=True)\n",
    "fig.suptitle('Panel plot', fontsize=24)\n",
    "\n",
    "x2 = [0, 20, 30,   60,   90]\n",
    "y2 = [ 2, 2, 2.5, -1.5, -2]\n",
    "\n",
    "axs[0].plot(x, y)\n",
    "axs[1].plot(x2, y2, \"r\")"
   ]
  },
  {
   "cell_type": "markdown",
   "metadata": {
    "slideshow": {
     "slide_type": "fragment"
    },
    "tags": []
   },
   "source": [
    "<h2 style=\"color:red\"> Exercise </h2>\n",
    "\n",
    "- define a frame that contains two plots, one plot per row\n",
    "- write a title on top of the figure\n",
    "- create upper plot with magenta line color\n",
    "- create lower plot with green line color\n",
    "\n",
    "<br />"
   ]
  },
  {
   "cell_type": "code",
   "execution_count": null,
   "metadata": {},
   "outputs": [],
   "source": []
  },
  {
   "cell_type": "markdown",
   "metadata": {},
   "source": [
    "## Plot types <a class=\"anchor\" id=\"plot-types\"></a>\n",
    "\n",
    "Line plots are a little bit boring that's why we change the plot type and see what we get.\n",
    "\n",
    "You can find the list of different pyplot functions at https://matplotlib.org/stable/api/pyplot_summary.html\n",
    "\n",
    "Next, we use arrays as input, which we create using the Numpy module (plots just looks nice ;)). \n",
    "Here are just a few examples of the different plot functions.\n",
    "\n",
    "```python\n",
    "import numpy as np\n",
    "\n",
    "x = np.linspace(0.1, 2 * np.pi, 41)\n",
    "y = np.exp(np.sin(x))\n",
    "\n",
    "fig, axs = plt.subplots(nrows=1, ncols=4, figsize=(16,4))\n",
    "\n",
    "axs[0].plot(x, y)\n",
    "axs[1].scatter(x, y)\n",
    "axs[2].bar(x, y)\n",
    "axs[3].stem(x, y)\n",
    "```\n",
    "\n",
    "<br />"
   ]
  },
  {
   "cell_type": "code",
   "execution_count": null,
   "metadata": {},
   "outputs": [],
   "source": [
    "import numpy as np\n",
    "\n",
    "x = np.linspace(0.1, 2 * np.pi, 41)\n",
    "y = np.exp(np.sin(x))\n",
    "\n",
    "fig, axs = plt.subplots(nrows=1, ncols=4, figsize=(16,4))\n",
    "\n",
    "axs[0].plot(x, y)\n",
    "axs[1].scatter(x, y)\n",
    "axs[2].bar(x, y)\n",
    "axs[3].stem(x, y)"
   ]
  },
  {
   "cell_type": "markdown",
   "metadata": {},
   "source": [
    "<br />\n",
    "\n",
    "## Text annotations <a class=\"anchor\" id=\"text-annotations\"></a>\n",
    "\n",
    "You can customize the titles and axis labels with the ax.set() method in one line.\n",
    "\n",
    "The next example adds\n",
    "\n",
    "1. a multiline title above the plot\n",
    "2. multiline labels at x- and y-axis\n",
    "\n",
    "\n",
    "```python\n",
    "fig, ax = plt.subplots(figsize=(6,4))\n",
    "\n",
    "ax.plot(x, y)\n",
    "\n",
    "ax.set(title='This is a title string\\nyou can add more information', \n",
    "       xlabel='x-axis\\n[units]', \n",
    "       ylabel='y-axis\\n[units]')\n",
    "```\n",
    "\n",
    "<br />"
   ]
  },
  {
   "cell_type": "code",
   "execution_count": null,
   "metadata": {},
   "outputs": [],
   "source": [
    "fig, ax = plt.subplots(figsize=(6,4))\n",
    "\n",
    "ax.plot(x, y)\n",
    "\n",
    "ax.set(title='This is a title string\\nyou can add more information', \n",
    "       xlabel='x-axis\\n[units]', \n",
    "       ylabel='y-axis\\n[units]')"
   ]
  },
  {
   "cell_type": "markdown",
   "metadata": {},
   "source": [
    "<br />\n",
    "\n",
    "You can also write additional text in a plot and of course change the font, e.g. Greek, and size.\n",
    "\n",
    "```python\n",
    "fig, ax = plt.subplots(figsize=(6,4))\n",
    "\n",
    "ax.plot(x, y)\n",
    "\n",
    "ax.text(3.5, 2.0, 'Some text',fontsize=24)\n",
    "ax.text(0.2, 0.8, r'$\\omega\\ \\mu\\ \\sigma\\ \\pi\\ \\nu\\ \\phi$', fontsize=24)\n",
    "```\n",
    "\n",
    "<br />"
   ]
  },
  {
   "cell_type": "code",
   "execution_count": null,
   "metadata": {},
   "outputs": [],
   "source": [
    "fig, ax = plt.subplots(figsize=(6,4))\n",
    "\n",
    "ax.plot(x, y)\n",
    "\n",
    "ax.text(3.5, 2.0, 'Some text',fontsize=24)\n",
    "ax.text(0.2, 0.8, r'$\\omega\\ \\mu\\ \\sigma\\ \\pi\\ \\nu\\ \\phi$', fontsize=24)"
   ]
  },
  {
   "cell_type": "markdown",
   "metadata": {},
   "source": [
    "<br />\n",
    "\n",
    "We can also add text to the workspace outside the plot, e.g. a copyright text. The figure size will be extended when the text string won't fit and the plot size will be unchanged.\n",
    "\n",
    "```python\n",
    "fig, ax = plt.subplots(figsize=(6,4))\n",
    "\n",
    "ax.plot(x, y)\n",
    "\n",
    "plt.text(0.7, 0.01, '© your copyright text', fontsize=8, transform=plt.gcf().transFigure)\n",
    "```\n",
    "\n",
    "<br />\n"
   ]
  },
  {
   "cell_type": "code",
   "execution_count": null,
   "metadata": {},
   "outputs": [],
   "source": [
    "fig, ax = plt.subplots(figsize=(6,4))\n",
    "\n",
    "ax.plot(x, y)\n",
    "\n",
    "plt.text(0.7, 0.01, '© your copyright text', fontsize=8, transform=plt.gcf().transFigure)"
   ]
  },
  {
   "cell_type": "markdown",
   "metadata": {
    "slideshow": {
     "slide_type": "fragment"
    },
    "tags": []
   },
   "source": [
    "<h2 style=\"color:red\"> Exercise </h2>\n",
    "\n",
    "1. Move the copyright text to the right side in vertical mode.\n",
    "1. Choose a different font (e.g. Times New Roman).\n",
    "1. Choose cursive font style.\n",
    "1. Choose a different font size.\n",
    "1. Choose a different font color.\n",
    "\n",
    "Hint: https://matplotlib.org/stable/api/_as_gen/matplotlib.pyplot.text.html\n",
    "\n",
    "<br />\n"
   ]
  },
  {
   "cell_type": "code",
   "execution_count": null,
   "metadata": {},
   "outputs": [],
   "source": []
  },
  {
   "cell_type": "markdown",
   "metadata": {},
   "source": [
    "<br />\n",
    "\n",
    "# Plot settings <a class=\"anchor\" id=\"plot-settings\"></a>\n",
    "\n",
    "Next, as an example, we want to plot annual average temperature data from Germany (from DWD), coloring the data points according to their values, add s title string, and set the axis titles as well. To display the data as individual points we use the scatter function as shown above.\n",
    "\n",
    "Used parameters of the scatter plot command:\n",
    "\n",
    "```\n",
    "    c=temp           use variable temp for coloring the marker\n",
    "\n",
    "    cmap='afmhot_r'  use colormap afmhot but reversed\n",
    "\n",
    "    s=80             increase the size of the markers\n",
    "```\n",
    "\n",
    "<br />\n",
    "\n",
    "Example:\n",
    "\n",
    "```python\n",
    "years = np.arange(1951,2021)\n",
    "\n",
    "temp = np.array([3.02, 7.91, 5.08, 2.53, 0.93, 0.58, 6.85, 1.58, 5.63, 1.30, 3.97, \\\n",
    "                 2.34, 4.50, 9.93, 1.18, 2.64, 3.95, 2.38, 6.63, 2.01, 7.08, 4.70, \\\n",
    "                 5.78, 2.75, 6.63, 10.20, 1.25, 1.89, 2.29, 1.45, 2.19, 6.54, 9.93, \\\n",
    "                 3.30, 2.63, 4.31, 1.64, 2.10, 4.67, 5.91, 5.27, 9.64, 1.89, 16.27, \\\n",
    "                 10.54, 3.00, 5.16, 7.08, 5.16, 5.67, 7.36, 6.23, 19.01, 4.70, 7.57, \\\n",
    "                 14.34, 4.82, 7.24, 4.58, 10.63, 4.27, 7.62, 10.47, 6.14, 17.60, \\\n",
    "                 9.21, 6.80, 20.37, 16.97, 11.39])\n",
    "\n",
    "fig, ax = plt.subplots(figsize=(6,4))\n",
    "\n",
    "ax.set_title('Annual average temperature', fontsize=24)\n",
    "ax.set_ylabel('Temperature\\n[deg C]', fontsize=16)\n",
    "ax.set_xlabel('year', fontsize=16)\n",
    "ax.tick_params(labelsize=16)\n",
    "\n",
    "ax.plot(years, temp, color='lightgray')\n",
    "ax.scatter(years, temp, c=temp, cmap='afmhot_r', s=80)\n",
    "```\n",
    "\n",
    "<br />\n"
   ]
  },
  {
   "cell_type": "code",
   "execution_count": null,
   "metadata": {},
   "outputs": [],
   "source": [
    "years = np.arange(1951,2021)\n",
    "\n",
    "temp = np.array([3.02, 7.91, 5.08, 2.53, 0.93, 0.58, 6.85, 1.58, 5.63, 1.30, 3.97, \\\n",
    "                 2.34, 4.50, 9.93, 1.18, 2.64, 3.95, 2.38, 6.63, 2.01, 7.08, 4.70, \\\n",
    "                 5.78, 2.75, 6.63, 10.20, 1.25, 1.89, 2.29, 1.45, 2.19, 6.54, 9.93, \\\n",
    "                 3.30, 2.63, 4.31, 1.64, 2.10, 4.67, 5.91, 5.27, 9.64, 1.89, 16.27, \\\n",
    "                 10.54, 3.00, 5.16, 7.08, 5.16, 5.67, 7.36, 6.23, 19.01, 4.70, 7.57, \\\n",
    "                 14.34, 4.82, 7.24, 4.58, 10.63, 4.27, 7.62, 10.47, 6.14, 17.60, \\\n",
    "                 9.21, 6.80, 20.37, 16.97, 11.39])\n",
    "\n",
    "fig, ax = plt.subplots(figsize=(6,4))\n",
    "\n",
    "ax.set_title('Annual average temperature', fontsize=24)\n",
    "ax.set_ylabel('Temperature\\n[deg C]', fontsize=16)\n",
    "ax.set_xlabel('year', fontsize=16)\n",
    "ax.tick_params(labelsize=16)\n",
    "\n",
    "ax.plot(years, temp, color='lightgray')\n",
    "ax.scatter(years, temp, c=temp, cmap='afmhot_r', s=80)"
   ]
  },
  {
   "cell_type": "markdown",
   "metadata": {},
   "source": [
    "<br />\n",
    "\n",
    "**Note:** The draw order is first marker and than line, which doen't look quite nice. To change the draw order we can use the **zorder** parameter.\n",
    "\n",
    "Example:\n",
    "\n",
    "```python\n",
    "fig, ax = plt.subplots(figsize=(6,4))\n",
    "\n",
    "ax.set_title('Annual average temperature', fontsize=24)\n",
    "ax.set_ylabel('Temperature\\n[deg C]', fontsize=16)\n",
    "ax.set_xlabel('year', fontsize=16)\n",
    "ax.tick_params(labelsize=16)\n",
    "\n",
    "ax.plot(years, temp, color='lightgray', zorder=1)\n",
    "ax.scatter(years, temp, c=temp, cmap='afmhot_r', s=80, zorder=2)\n",
    "```\n",
    "\n",
    "<br />\n"
   ]
  },
  {
   "cell_type": "code",
   "execution_count": null,
   "metadata": {},
   "outputs": [],
   "source": [
    "fig, ax = plt.subplots(figsize=(6,4))\n",
    "\n",
    "ax.set_title('Annual average temperature', fontsize=24)\n",
    "ax.set_ylabel('Temperature\\n[deg C]', fontsize=16)\n",
    "ax.set_xlabel('year', fontsize=16)\n",
    "ax.tick_params(labelsize=16)\n",
    "\n",
    "ax.plot(years, temp, color='lightgray', zorder=1)\n",
    "ax.scatter(years, temp, c=temp, cmap='afmhot_r', s=80, zorder=2)"
   ]
  },
  {
   "cell_type": "markdown",
   "metadata": {},
   "source": [
    "<p>\n",
    "    \n",
    "Matplotlib offers a wide selection of colormaps. You can select colormaps for sequential and for categorical data. For hints which colormap to choose, see https://matplotlib.org/stable/tutorials/colors/colormaps.html.\n",
    "    \n",
    "</p>\n",
    "\n",
    "\n",
    "## Save the plot to PNG <a class=\"anchor\" id=\"save-png\"></a>\n",
    "\n",
    "<p>\n",
    "    \n",
    "Since we do not only want to have the plots as an inline image, but also save them as a PNG file, we show here how to do that. Therefore, we add a line with pyplots function `savefig` at the end of the script snippet.\n",
    "\n",
    "</p>"
   ]
  },
  {
   "cell_type": "code",
   "execution_count": null,
   "metadata": {},
   "outputs": [],
   "source": [
    "plt.savefig(\"Germany_average_annual_temperature_1951-2020.png\")"
   ]
  },
  {
   "cell_type": "markdown",
   "metadata": {},
   "source": [
    "<br>\n",
    "\n",
    "## Beautiful plots with Seaborn <a class=\"anchor\" id=\"seaborn\"></a>\n",
    "\n",
    "<p>\n",
    "    \n",
    "Seaborn is a high-level interface to matplotlib, specifically aimed at statistical plots. It is very useful for generating beautiful plots that are easy to understand. Documentation: https://seaborn.pydata.org/\n",
    "    \n",
    "With the `set_style` function we can select one of five predefined styles (`whitegrid`, `white`, `darkgrid`, `dark`, `ticks`). Seaborn automatically adjusts the grid and figure background to the preferences and chooses reasonable values for tick and label sizes. We now make a lineplot with Seaborn, using dashed red lines and square markers:\n",
    "    \n",
    "```python\n",
    "  \n",
    "import seaborn as sns\n",
    "sns.set_style('whitegrid')\n",
    "sns.lineplot(x=x, y=y, color='red', marker='s', linestyle=':')\n",
    "plt.title('Seaborn plot')\n",
    "plt.xlabel('x axis')\n",
    "plt.ylabel('y axis')\n",
    "```"
   ]
  },
  {
   "cell_type": "code",
   "execution_count": null,
   "metadata": {},
   "outputs": [],
   "source": [
    "import seaborn as sns\n",
    "\n",
    "sns.set_style('whitegrid')\n",
    "\n",
    "sns.lineplot(x=x, y=y, color='red', marker='s', linestyle=':')\n",
    "plt.title('Seaborn plot')\n",
    "plt.xlabel('x axis')\n",
    "plt.ylabel('y axis')\n",
    "plt.show()"
   ]
  },
  {
   "cell_type": "markdown",
   "metadata": {},
   "source": [
    "</br>\n",
    "    \n",
    "Scatter plot with Seaborn, this time using the 'ticks' style:\n",
    "    \n",
    "```python\n",
    "\n",
    "sns.set_style('ticks')\n",
    "sns.scatterplot(x=x, y=y, color='blue', marker='s')   \n",
    "plt.title('Seaborn plot')\n",
    "plt.xlabel('x axis')\n",
    "plt.ylabel('y axis')\n",
    "```\n",
    "\n",
    "</br>"
   ]
  },
  {
   "cell_type": "code",
   "execution_count": null,
   "metadata": {},
   "outputs": [],
   "source": [
    "sns.set_style('ticks')\n",
    "sns.scatterplot(x=x, y=y, color='blue', marker='s')   \n",
    "plt.title('Seaborn scatter plot')\n",
    "plt.xlabel('x axis')\n",
    "plt.ylabel('y axis')"
   ]
  },
  {
   "cell_type": "markdown",
   "metadata": {},
   "source": [
    "</br>\n",
    "    \n",
    "Depending where you want to use your figure, the settings for the plot elements need to be different. For example, in a paper you might need to use small fontsizes, while for a poster presentation you need to produce plots that are easy to read from a distance. Seaborn offers the function `set_context` that can take any value of `notebook` (default), `paper`, `talk`, and `poster`. We repeat the line plot, this time in the `poster` context and using round red markers.\n",
    "\n",
    "```python\n",
    "sns.set_context('poster')\n",
    "sns.set_style('ticks')\n",
    "sns.lineplot(x=x, y=y, color='red', marker='o')   \n",
    "plt.title('Seaborn plot')\n",
    "plt.xlabel('x axis')\n",
    "plt.ylabel('y axis')\n",
    "```\n",
    "\n",
    "</p>"
   ]
  },
  {
   "cell_type": "code",
   "execution_count": null,
   "metadata": {},
   "outputs": [],
   "source": [
    "sns.set_context('poster') # default context: sns.set_context(\"notebook\")\n",
    "sns.set_style('ticks')\n",
    "sns.lineplot(x=x, y=y, color='red', marker='o')\n",
    "plt.title('Seaborn plot')\n",
    "plt.xlabel('x axis')\n",
    "plt.ylabel('y axis')"
   ]
  },
  {
   "cell_type": "markdown",
   "metadata": {
    "slideshow": {
     "slide_type": "fragment"
    },
    "tags": []
   },
   "source": [
    "<br>\n",
    "\n",
    "<h2 style=\"color:red\"> Exercise </h2>\n",
    "\n",
    "Use seaborn to create the annual average example plot from the 'Plot settings' section above, but\n",
    "1. use darkgrid style\n",
    "1. use line width 1\n",
    "1. use marker size 40\n",
    "1. draw the marker on top of the line\n",
    "\n",
    "<br>"
   ]
  },
  {
   "cell_type": "code",
   "execution_count": null,
   "metadata": {},
   "outputs": [],
   "source": []
  },
  {
   "cell_type": "markdown",
   "metadata": {},
   "source": [
    "<br />\n",
    "\n",
    "<h2 style=\"color:red\"> Play time - 15 minutes</h2>\n",
    "\n",
    "Now, it is on you to play with matplotlib's and seaborn's capabilities. :)\n",
    "\n",
    "\n",
    "> **Note:** \n",
    "> \n",
    "> To reset the style settings from seaborn you can do the following:\n",
    ">\n",
    ">            sns.reset_orig()\n",
    "\n",
    "\n",
    "<br />"
   ]
  },
  {
   "cell_type": "code",
   "execution_count": null,
   "metadata": {},
   "outputs": [],
   "source": []
  }
 ],
 "metadata": {
  "kernelspec": {
   "display_name": "Python 3 (based on the module python3/2022.01)",
   "language": "python",
   "name": "python3_2022_01"
  },
  "language_info": {
   "codemirror_mode": {
    "name": "ipython",
    "version": 3
   },
   "file_extension": ".py",
   "mimetype": "text/x-python",
   "name": "python",
   "nbconvert_exporter": "python",
   "pygments_lexer": "ipython3",
   "version": "3.9.9"
  }
 },
 "nbformat": 4,
 "nbformat_minor": 4
}
