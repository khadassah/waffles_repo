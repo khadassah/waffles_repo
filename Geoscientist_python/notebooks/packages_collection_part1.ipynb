{
 "cells": [
  {
   "cell_type": "markdown",
   "id": "78a6e581",
   "metadata": {},
   "source": [
    "# Useful packages I\n",
    "\n",
    "This two-piece tutorial introduces you shortly to packages which we recommend as we consider it as helpful.\n",
    "\n",
    "This first part is about\n",
    "\n",
    "- how to **parse arguments from command line** in the python application\n",
    "\n",
    "For this, we give you an introduction to [argparse](https://docs.python.org/3/library/argparse.html), which can be used to provide arguments and flags to an application."
   ]
  },
  {
   "cell_type": "markdown",
   "id": "65df474c",
   "metadata": {},
   "source": [
    "## argparse<a id='argparse'></a>\n",
    "\n",
    "There are three possibilities to manipulate the behaviour of your application at runtime:\n",
    "0. Change the code (not really a change at runtime nor user-friendly)\n",
    "1. Execute your application with arguments on the command line\n",
    "2. Read in configuration/initialisation files at runtime (not discussed in this workshop)\n",
    "\n",
    "We will focus on approach to provide your application arguments via the command line and present three different packages; they are trading how easy they are to use or implement against their richness of features.\n",
    "\n",
    "### Using sys\n",
    "By default to provide arguments to you python application you just add them on the command line:"
   ]
  },
  {
   "cell_type": "markdown",
   "id": "04999c64",
   "metadata": {},
   "source": [
    "> $ ./main.py arg1 arg2 arg3\n",
    "\n",
    "To access those arguments you can use the `sys` module:"
   ]
  },
  {
   "cell_type": "code",
   "execution_count": null,
   "id": "0e9a0bd6",
   "metadata": {},
   "outputs": [],
   "source": [
    "import sys\n",
    "\n",
    "#fake terminal input\n",
    "\n",
    "sys.argv=[\"application.py\", \"hallo welt\", \"5\"]\n",
    "print(f\"You entered {len(sys.argv)} argument(s)\")\n",
    "for argument in sys.argv:\n",
    "    print(f\"{argument} (type: {type(argument)}\")\n"
   ]
  },
  {
   "cell_type": "markdown",
   "id": "3a04de93",
   "metadata": {},
   "source": [
    "This method is easy to use but has several drawbacks:\n",
    "1. The first argument is always the application name, you must consider this if you want to access the arguments\n",
    "2. All arguments are parsed as strings, therefore you need to convert them\n",
    "3. There is no association between arguments; if you want to check for a flag and parse its value you have to do it on your own"
   ]
  },
  {
   "cell_type": "markdown",
   "id": "2b9975cd",
   "metadata": {},
   "source": [
    "### Using getopt\n",
    "\n",
    "To help you parsing command line arguments there are several packages. One package for trivial parsing is `getopt`, which takes `sys.argv` and an option string."
   ]
  },
  {
   "cell_type": "code",
   "execution_count": null,
   "id": "8dce43ac",
   "metadata": {},
   "outputs": [],
   "source": [
    "import sys, getopt\n",
    "from typing import Dict\n",
    "\n",
    "def parse_input(argv):\n",
    "    parsed_args: Dict={}\n",
    "    try:\n",
    "        opts, args = getopt.getopt(argv[1:],\"hab:c:\",[\"arg_b=\",\"arg_c=\"])\n",
    "    except getopt.GetoptError:\n",
    "        print(f\"{sys.argv[0]} -a -b <argument> -c <argument>\")\n",
    "        return\n",
    "    for opt, arg in opts:\n",
    "        if opt == '-h':\n",
    "            print(f\"{sys.argv[0]} -a -b <argument> -c <argument>\")\n",
    "            return \n",
    "        elif opt == \"-a\":\n",
    "            parsed_args[opt] = None\n",
    "        elif opt in (\"-b\", \"--arg_b\"):\n",
    "            parsed_args[opt] = arg\n",
    "        elif opt in (\"-c\", \"--arg_c\"):\n",
    "            parsed_args[opt] = arg\n",
    "\n",
    "    print(f\"Parsed arguments: {str(parsed_args)}\")\n",
    "    print(f\"Omitted arguments: {str(args)}\")"
   ]
  },
  {
   "cell_type": "markdown",
   "id": "f91bce01",
   "metadata": {},
   "source": [
    "A few execution examples with faked terminal input:"
   ]
  },
  {
   "cell_type": "code",
   "execution_count": null,
   "id": "3ce932cf",
   "metadata": {},
   "outputs": [],
   "source": [
    "parse_input([\"application.py\"])"
   ]
  },
  {
   "cell_type": "code",
   "execution_count": null,
   "id": "3465379a",
   "metadata": {},
   "outputs": [],
   "source": [
    "parse_input([\"application.py\", \"-d\"])"
   ]
  },
  {
   "cell_type": "code",
   "execution_count": null,
   "id": "7e200d58",
   "metadata": {},
   "outputs": [],
   "source": [
    "parse_input([\"application.py\", \"hello\"])"
   ]
  },
  {
   "cell_type": "code",
   "execution_count": null,
   "id": "cf9c341a",
   "metadata": {},
   "outputs": [],
   "source": [
    "parse_input([\"application.py\", \"-a\"])"
   ]
  },
  {
   "cell_type": "code",
   "execution_count": null,
   "id": "a56230cb",
   "metadata": {},
   "outputs": [],
   "source": [
    "parse_input([\"application.py\", \"hello\", \"-a\", \"world\"])"
   ]
  },
  {
   "cell_type": "code",
   "execution_count": null,
   "id": "4b62d365",
   "metadata": {},
   "outputs": [],
   "source": [
    "parse_input([\"application.py\", \"-a\", \"-b\", \"foo\", \"--arg_c=bar\"])"
   ]
  },
  {
   "cell_type": "markdown",
   "id": "df92548d",
   "metadata": {},
   "source": [
    "### Using argparse\n",
    "\n",
    "Setting up the argparse environment takes more lines of code but is rich on convenient features. A minimal working example looks like this:"
   ]
  },
  {
   "cell_type": "code",
   "execution_count": null,
   "id": "e314d338",
   "metadata": {},
   "outputs": [],
   "source": [
    "import argparse\n",
    "parser = argparse.ArgumentParser()\n",
    "parser.add_argument(\"foo\")\n",
    "args = parser.parse_args([\"Input A\"])\n",
    "print(args.foo)"
   ]
  },
  {
   "cell_type": "markdown",
   "id": "09377241",
   "metadata": {},
   "source": [
    "argparse does automatically provide a help text, especially if you also set description and help texts (`try-except` only for demonstration purpose)"
   ]
  },
  {
   "cell_type": "code",
   "execution_count": null,
   "id": "3062e695",
   "metadata": {},
   "outputs": [],
   "source": [
    "try:\n",
    "    parser = argparse.ArgumentParser(description=\"This application is for testing purpose\")\n",
    "    parser.add_argument(\"foo\", help=\"First required argument\")\n",
    "    parser.add_argument(\"--bar\", help=\"First optional argument\")\n",
    "    parser.add_argument(\"--baz\", help=\"Second opional argument\")\n",
    "    parser.parse_args([\"-h\"])\n",
    "except:\n",
    "    pass"
   ]
  },
  {
   "cell_type": "code",
   "execution_count": null,
   "id": "f44490dc",
   "metadata": {},
   "outputs": [],
   "source": [
    "args = parser.parse_args([\"Test\", \"--baz\", \"hallo\"])\n",
    "print(f\"args: {args}\")\n",
    "print(f\"Parsed arguments: {args.foo}, {args.baz}\")"
   ]
  },
  {
   "cell_type": "markdown",
   "id": "9b3954db",
   "metadata": {},
   "source": [
    "Arguments can be gathered in groups for improved overview"
   ]
  },
  {
   "cell_type": "code",
   "execution_count": null,
   "id": "a582ee47",
   "metadata": {},
   "outputs": [],
   "source": [
    "parser = argparse.ArgumentParser(description=\"Test application with subgroup\")\n",
    "parser.add_argument(\"FOO\")\n",
    "group = parser.add_argument_group(\"Test group 1\")\n",
    "group.add_argument(\"BAR\", help=\"First parameter of subgroup\")\n",
    "try:\n",
    "    parser.parse_args([\"-h\"])\n",
    "except:\n",
    "    pass"
   ]
  },
  {
   "cell_type": "markdown",
   "id": "7a77b3c0",
   "metadata": {},
   "source": [
    "There are many optional arguments, which you can add while creating a parser object or add arguments - we will have a short look at a selection and use another format class,to show default values."
   ]
  },
  {
   "cell_type": "code",
   "execution_count": null,
   "id": "7c3b308a",
   "metadata": {},
   "outputs": [],
   "source": [
    "import pathlib\n",
    "\n",
    "parser = argparse.ArgumentParser(description=\"More complex example\", epilog=\"Have a nice day!\", formatter_class=argparse.ArgumentDefaultsHelpFormatter)\n",
    "parser.add_argument(\"foo\", type=int, nargs=2)\n",
    "parser.add_argument(\"bar\", type=float, nargs=3)\n",
    "parser.add_argument(\"-b\", \"--baz\", \"---bazzz\", type=pathlib.Path, default=\"hello/world.txt\")\n",
    "parser.add_argument(\"-c\", type=pathlib.Path, default=\"hello/world.txt\", help=\"A help text is needed, if the default value shall be visible\")\n",
    "try:\n",
    "    parser.parse_args([\"-h\"])\n",
    "except:\n",
    "    pass\n"
   ]
  },
  {
   "cell_type": "code",
   "execution_count": null,
   "id": "f7f07f58",
   "metadata": {},
   "outputs": [],
   "source": [
    "args=parser.parse_args([\"1\", \"2\", \"3.0\", \"4.0\", \"5.0\", \"-b\", \"some/path/to/file.txt\"])\n",
    "print(args)\n",
    "print(f\"Type FOO: {type(args.foo[0])}\")\n",
    "print(f\"Type BAR: {type(args.bar[2])}\")\n",
    "print(f\"Type baz: {type(args.baz)}\")\n",
    "print(f\"Type c: {type(args.c)}\")"
   ]
  },
  {
   "cell_type": "code",
   "execution_count": null,
   "id": "37713cde-c7b6-4764-bcc1-7166fa65f716",
   "metadata": {},
   "outputs": [],
   "source": []
  },
  {
   "cell_type": "code",
   "execution_count": null,
   "id": "82596f82-b631-4704-8807-fa9b90941079",
   "metadata": {},
   "outputs": [],
   "source": []
  }
 ],
 "metadata": {
  "interpreter": {
   "hash": "767d51c1340bd893661ea55ea3124f6de3c7a262a8b4abca0554b478b1e2ff90"
  },
  "kernelspec": {
   "display_name": "Python 3 (based on the module python3/2022.01)",
   "language": "python",
   "name": "python3_2022_01"
  },
  "language_info": {
   "codemirror_mode": {
    "name": "ipython",
    "version": 3
   },
   "file_extension": ".py",
   "mimetype": "text/x-python",
   "name": "python",
   "nbconvert_exporter": "python",
   "pygments_lexer": "ipython3",
   "version": "3.9.9"
  }
 },
 "nbformat": 4,
 "nbformat_minor": 5
}
