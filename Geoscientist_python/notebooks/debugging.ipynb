{
 "cells": [
  {
   "cell_type": "markdown",
   "metadata": {},
   "source": [
    "# Debugging: How to work with broken programs\n",
    "\n",
    "What is the problem? Why debugging? Everthing works, right?\n",
    "\n",
    "## NO! Every real world program has errors. Amen\n",
    "\n",
    "Two options:\n",
    "- easy: the program crashed with an error message\n",
    "- hard: the program seems to work properly, but the results look suspicious"
   ]
  },
  {
   "cell_type": "markdown",
   "metadata": {},
   "source": [
    "### Example (easy)\n",
    "\n",
    "Lets take an example of geocat, because they offer many nice plots: [NCL_color_1.py](https://gitlab.dkrz.de/pythoncourse/material/-/blob/master/scripts/NCL_color_1.py) There should be some errors, too ;-)"
   ]
  },
  {
   "cell_type": "code",
   "execution_count": null,
   "metadata": {},
   "outputs": [],
   "source": [
    "# %load NCL_color_1.py\n"
   ]
  },
  {
   "cell_type": "markdown",
   "metadata": {},
   "source": [
    "Lessons learned:\n",
    "- Understand your environment and its limitations\n",
    "- Read error messages and warnings. They are your best friends when fixing errors (most of them"
   ]
  },
  {
   "cell_type": "markdown",
   "metadata": {},
   "source": [
    "**Example for hardly understandable error messages**"
   ]
  },
  {
   "cell_type": "code",
   "execution_count": null,
   "metadata": {},
   "outputs": [],
   "source": [
    "print(\"a = {0}\".format(55)"
   ]
  },
  {
   "cell_type": "code",
   "execution_count": null,
   "metadata": {},
   "outputs": [],
   "source": [
    "print(\"sldjlskjdfsdfslkdjfs\n",
    "      sl;skdjfsldkf\")"
   ]
  },
  {
   "cell_type": "code",
   "execution_count": null,
   "metadata": {},
   "outputs": [],
   "source": [
    "a = dict()\n",
    "a['1'] = 1\n",
    "a[[1,2]] = 2"
   ]
  },
  {
   "cell_type": "markdown",
   "metadata": {},
   "source": [
    "### Example (hard)"
   ]
  },
  {
   "cell_type": "markdown",
   "metadata": {},
   "source": [
    "```python\n",
    "import sys\n",
    "def sum(a,b):\n",
    "  return a+b\n",
    "\n",
    "if __name__ == \"__main__\":\n",
    "  # first some tests\n",
    "  print(\"2 = {0}\".format(sum(1,1)))\n",
    "  print(\"5 = {0}\".format(sum(1,4)))\n",
    "  print(\"4 = {0}\".format(sum(2,2)))\n",
    "           \n",
    "  # now some user given numbers\n",
    "  a = sys.argv[1]\n",
    "  b = sys.argv[2]\n",
    "  print(\"a   = {0}\".format(a))\n",
    "  print(\"b   = {0}\".format(b))\n",
    "  print(\"sum = {0}\".format(sum(a,b)))\n",
    "```"
   ]
  },
  {
   "cell_type": "markdown",
   "metadata": {},
   "source": [
    "### Example (harder)\n",
    "\n",
    "What should be the results?"
   ]
  },
  {
   "cell_type": "code",
   "execution_count": null,
   "metadata": {},
   "outputs": [],
   "source": [
    "0.3 == 0.1 + 0.2\n",
    "# True or False"
   ]
  },
  {
   "cell_type": "markdown",
   "metadata": {},
   "source": [
    "It is quite obvious, isn't it? Try it!\n",
    "\n",
    "Lessions:\n",
    "\n",
    "- understand the type system of your language + their basic methods\n",
    "- understand common difficulties of basic types (numbers, strings, ...)\n",
    "- Always-Available-Debugger: your mind + print\n",
    "\n",
    "More on floating point problems [here](https://floating-point-gui.de/), of as [pdf](https://www.phys.uconn.edu/~rozman/Courses/P2200_15F/downloads/floating-point-guide-2015-10-15.pdf)"
   ]
  },
  {
   "cell_type": "markdown",
   "metadata": {},
   "source": [
    "## How to improve programs step-by-step: debuggability\n",
    "If print() is so useful, why not integrating it into the program?\n",
    "\n",
    "### Logging\n",
    "\n",
    "```python\n",
    "import sys\n",
    "import logging\n",
    "logging.basicConfig(level=logging.INFO)\n",
    "# logging.basicConfig(filename='example.log',   # alternative with file\n",
    "#   encoding='utf-8',\n",
    "#   format='%(asctime)s :: %(levelname)s :: %(message)s',\n",
    "#   level=logging.DEBUG)\n",
    "\n",
    "def sum(a,b):\n",
    "  logging.debug(\"started method sum()\")\n",
    "  logging.info(\"Got a = {0} of type {1}\".format(a,type(a)))\n",
    "  logging.info(\"Got b = {0} of type {1}\".format(b,type(b)))\n",
    "  return a+b\n",
    "\n",
    "if __name__ == \"__main__\":\n",
    "  a,b = sys.argv[1], sys.argv[2]\n",
    "  print(\"{1}+{2}= {0}\".format(sum(a,b)),a,b)\n",
    "```\n",
    "#### basic log levels\n",
    "\n",
    "- DEBUG: Detailed information, for diagnosing problems\n",
    "- INFO: Confirm things are working as expected\n",
    "- WARNING: Something unexpected happened, or indicative of some problem\n",
    "- ERROR: More serious problem, the software is not able to perform some function\n",
    "- CRITICAL: A serious error, the program itself may be unable to continue running\n",
    "\n",
    "[here](https://docs.python.org/3/howto/logging.html) is a link to the official documentation\n"
   ]
  },
  {
   "cell_type": "markdown",
   "metadata": {},
   "source": [
    "## Exceptions: try/except\n",
    "\n",
    "Python has means to deal with non-intended behaviour called Exceptions. Using them will make your scripts easier to understand by others (and by yourself next week)."
   ]
  },
  {
   "cell_type": "code",
   "execution_count": null,
   "metadata": {},
   "outputs": [],
   "source": [
    "filename = '../data/uv300.nc'\n",
    "try:\n",
    "  filehandle = open(filename)\n",
    "except IOError:\n",
    "  print('File cannot be opened:', filename)\n",
    "#  exit()\n"
   ]
  },
  {
   "cell_type": "markdown",
   "metadata": {},
   "source": [
    "![try/except overview](https://res.cloudinary.com/dyd911kmh/image/upload/v1633675298/python-try-except-else-finally_doblhm.png \"try/except workflow\")\n",
    "\n",
    "- Think about what could possibly go wrong\n",
    "- Think about which requirements must be met for your code work\n",
    "\n",
    "\n",
    "Exercise:\n",
    "- come up with exceptions handling for more functions: div, sqrt, sending email, open an webpage, saving a file, filling an online form, ...\n",
    "\n",
    "## python's own debugger: pdb/pudb\n",
    "\n",
    "... this needs an interactive session ...\n",
    "\n",
    "- [official docu](https://docs.python.org/3.10/library/pdb.html)\n",
    "- [list of python debugging tools](https://wiki.python.org/moin/PythonDebuggingTools)\n"
   ]
  },
  {
   "cell_type": "code",
   "execution_count": null,
   "metadata": {},
   "outputs": [],
   "source": []
  },
  {
   "cell_type": "code",
   "execution_count": null,
   "metadata": {},
   "outputs": [],
   "source": []
  }
 ],
 "metadata": {
  "kernelspec": {
   "display_name": "Python 3 (based on the module python3/2022.01)",
   "language": "python",
   "name": "python3_2022_01"
  },
  "language_info": {
   "codemirror_mode": {
    "name": "ipython",
    "version": 3
   },
   "file_extension": ".py",
   "mimetype": "text/x-python",
   "name": "python",
   "nbconvert_exporter": "python",
   "pygments_lexer": "ipython3",
   "version": "3.9.9"
  }
 },
 "nbformat": 4,
 "nbformat_minor": 4
}
