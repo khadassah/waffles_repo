{
 "cells": [
  {
   "cell_type": "markdown",
   "id": "8f6d1dfb",
   "metadata": {
    "slideshow": {
     "slide_type": "slide"
    },
    "tags": []
   },
   "source": [
    "# Git - version control system\n",
    "\n",
    "<br />\n",
    "\n",
    "<img src=\"../images/git_logo.png\" align=\"left\" /><br /><br /><br />\n",
    "\n",
    "## Introduction\n",
    "\n",
    "What is Git?\n",
    "\n",
    "Git is a version control system. Git records changes for designated data over time so that previous states of the data can be restored. Only the differences from the previous state will be saved in the `.git` directory structure."
   ]
  },
  {
   "cell_type": "markdown",
   "id": "85140b53",
   "metadata": {
    "slideshow": {
     "slide_type": "subslide"
    },
    "tags": []
   },
   "source": [
    "<img src=\"../images/git_figure.png\" />"
   ]
  },
  {
   "cell_type": "markdown",
   "id": "07561d57",
   "metadata": {
    "slideshow": {
     "slide_type": "slide"
    },
    "tags": []
   },
   "source": [
    "Git features **local version control**: the user can `create` his own local Git repository or `clone` an existing one. This already works on the local PC and logs changes on this side.\n",
    "\n",
    "But git also features a **remote version control**: A remote repository is the consolidated/merged repository of your local repository. It is online and used for cloning. You *collaborate* on the remote repository. Updates by co-workers can be `pull`ed as well as your local changes can be sent back (`push`ed) to the remote repository and `merge`d with it."
   ]
  },
  {
   "cell_type": "markdown",
   "id": "86b13f66",
   "metadata": {
    "slideshow": {
     "slide_type": "slide"
    },
    "tags": []
   },
   "source": [
    "### Motivation\n",
    "\n",
    "A version control helps not only with code:\n",
    "\n",
    "- **Change-logs**: Understand what you did by displaying the differences.\n",
    "- **Restoring**: Reset an earlier state of your work.\n",
    "- **Syncronization** on many computers.\n",
    "- **Collaboration**: Make sure your co-worker uses the same work base.\n"
   ]
  },
  {
   "cell_type": "markdown",
   "id": "81786afa",
   "metadata": {
    "slideshow": {
     "slide_type": "slide"
    },
    "tags": []
   },
   "source": [
    "## Installation\n",
    "\n",
    "<br />\n",
    "\n",
    "**Linux (RHEL or CentOS):**\n",
    "\n",
    "`sudo dnf install git-all`\n",
    "\n",
    "**Linux (Ubuntu):**\n",
    "\n",
    "`sudo apt install git-all`\n",
    "\n",
    "**MacOS:**\n",
    "\n",
    "With Xcode Git should be already installed but you can install it from git-scm  https://git-scm.com/download/mac following the instructions of the installer.\n",
    "\n",
    "**Windows:**\n",
    "\n",
    "For Windows there is a different Git version available (see more informations at https://gitforwindows.org). Download the installer from https://git-scm.com/download/win.\n",
    "\n",
    "**Installation from source:**\n",
    "\n",
    "Recommended only for advanced users! See https://git-scm.com/book/en/v2/Getting-Started-Installing-Git.\n",
    "\n",
    "<br />\n"
   ]
  },
  {
   "cell_type": "markdown",
   "id": "566fa55b",
   "metadata": {
    "slideshow": {
     "slide_type": "slide"
    },
    "tags": []
   },
   "source": [
    "## Help\n",
    "\n",
    "To get more information about Git you can use the general command line tools _man_\n",
    "\n",
    "`man git`\n",
    "\n",
    "or Git itself\n",
    "\n",
    "`git help`\n",
    "\n",
    "<br />\n",
    "\n",
    "<h2 style=\"color:red\"> Exercise </h2>\n",
    "\n",
    "Run the commands from above. \n",
    "\n",
    "<div class=\"alert alert-block alert-info\"><b>Note:</b> <br> \n",
    "    To start a program, which is normally started in a terminal, in a Jupyter Notebook the command <b> %%bash </b> must be entered first.\n",
    "</div>\n",
    "\n",
    "For example\n",
    "\n",
    "`%%bash` </br>\n",
    "`git help`\n",
    "\n",
    "<br />\n"
   ]
  },
  {
   "cell_type": "code",
   "execution_count": null,
   "id": "4206f676",
   "metadata": {
    "slideshow": {
     "slide_type": "subslide"
    },
    "tags": []
   },
   "outputs": [],
   "source": [
    "%%bash\n",
    "module load git\n",
    "git --help"
   ]
  },
  {
   "cell_type": "code",
   "execution_count": null,
   "id": "ddefe34c",
   "metadata": {
    "slideshow": {
     "slide_type": "skip"
    },
    "tags": []
   },
   "outputs": [],
   "source": [
    "%%bash\n",
    "cat ~/.gitconfig\n"
   ]
  },
  {
   "cell_type": "markdown",
   "id": "2eb2a3ab",
   "metadata": {
    "slideshow": {
     "slide_type": "slide"
    },
    "tags": []
   },
   "source": [
    "## First steps\n",
    "\n",
    "Now introduce yourself to Git by giving Git your name and email address.\n",
    "\n",
    "`git config --global user.name \"your name\"`\n",
    "\n",
    "`git config --global user.email your_email_address`\n",
    "<br />\n",
    "\n",
    "Example:\n",
    "\n",
    "`git config --global user.name \"Groot\"`\n",
    "\n",
    "`git config --global user.email groot@guardians.galaxy`\n",
    "<br />\n",
    "\n",
    "To see the global settings use `git config --list`. <br />\n",
    "The settings are stored in the directory <b>$HOME/.gitconfig</b>.\n",
    "\n",
    "<h2 style=\"color:red\"> Exercise </h2>\n",
    "\n",
    "Set the global name and email with your data and list them like above.\n",
    "<br />\n"
   ]
  },
  {
   "cell_type": "code",
   "execution_count": null,
   "id": "74e4f438",
   "metadata": {
    "slideshow": {
     "slide_type": "skip"
    },
    "tags": []
   },
   "outputs": [],
   "source": []
  },
  {
   "cell_type": "markdown",
   "id": "b5876aca",
   "metadata": {
    "slideshow": {
     "slide_type": "slide"
    },
    "tags": []
   },
   "source": [
    "### Workflow\n",
    "\n",
    "<br />\n",
    "\n",
    "Term definition:\n",
    "\n",
    "+ The **local working directory** is where the current changes are made. It can be a single checkout of a project or your local working directory to be used for your private repository. This directory contains:\n",
    "    + **tracked** files which are watched by git. It is often not clever to track all files of a directory.\n",
    "    + **untracked** files which are not yet version controlled.\n",
    "\n",
    "+ The **staging area or index** is a file in your Git directory which contains the information of your next commit.\n",
    "\n",
    "+ The **.git directory** where the metadata and object database is stored.\n",
    "\n",
    "\n",
    "The *tracked* files in a Git repository can have one of the three main states: **modified**, **staged**, and **committed**.\n"
   ]
  },
  {
   "cell_type": "markdown",
   "id": "98b9b639",
   "metadata": {
    "slideshow": {
     "slide_type": "subslide"
    },
    "tags": []
   },
   "source": [
    "<figure>\n",
    "    <img src=\"../images/git_3_stages.png\" width=\"500\" style=\"border:1px solid\" align=\"center\"/>\n",
    "    <figcaption style=\"font-size:smaller; text-align:center\">From https://git-scm.com/</figcaption>\n",
    "</figure>\n",
    "\n",
    "And the corresponding workflow:\n",
    "\n",
    "1. Modify files in your working directory tree (add, modify, or delete files).\n",
    "2. Choose those changes which has to be part of your next commit.\n",
    "3. Commit the files of the staging area to the repository (like a snapshot).\n",
    "\n",
    "<br />"
   ]
  },
  {
   "cell_type": "markdown",
   "id": "283132ad",
   "metadata": {
    "slideshow": {
     "slide_type": "slide"
    },
    "tags": []
   },
   "source": [
    "### Create a new repository\n",
    "\n",
    "A repository can be created from an existing directory structure as well as from an empty directory. \n",
    "Here, we want to start with an empty directory, called 'myRepo', in which the repository will 'live' in.\n",
    "In the directory 'myRepo' we can save all files of this workshop and use versioning.\n",
    "\n",
    "```bash\n",
    "mkdir myRepo\n",
    "cd myRepo\n",
    "```\n",
    "\n",
    "Next, we initiate the Git repository with the `init` command. This creates a subdirectory **.git** which is the backbone of the repository.\n",
    "\n",
    "```bash\n",
    "git init\n",
    "```\n",
    "\n",
    "Now we can start storing our files in the repository. Below we show the repetitive process for doing this.\n",
    "\n",
    "As a first step, we create a README file:\n",
    "\n",
    "```bash\n",
    "cat - > README\n",
    "This is my first repository.\n",
    "```\n",
    "\n",
    "Enter **CTRL-D** to close the input stream."
   ]
  },
  {
   "cell_type": "markdown",
   "id": "bb313352",
   "metadata": {
    "slideshow": {
     "slide_type": "subslide"
    },
    "tags": []
   },
   "source": [
    "The directory _myRepo_ now looks like that\n",
    "\n",
    "```bash\n",
    "[~/myRepo] > ls -la\n",
    "total 8\n",
    "drwxr-xr-x   4 k204045  staff  128 26 Mai 16:32 .\n",
    "drwxr-xr-x  20 k204045  staff  640 26 Mai 16:15 ..\n",
    "drwxr-xr-x   9 k204045  staff  288 26 Mai 16:18 .git\n",
    "-rw-r--r--   1 k204045  staff   29 26 Mai 16:32 README\n",
    "```\n",
    "\n",
    "The second step is to add the file to the staging area with `add`.\n",
    "\n",
    "```bash\n",
    "[~/myRepo] > git add README\n",
    "```\n",
    "\n",
    "You can use the `status` command to see what is in the pipe.\n",
    "\n",
    "```bash\n",
    "[~/myRepo] > git status\n",
    "On branch master\n",
    "\n",
    "No commits yet\n",
    "\n",
    "Changes to be committed:\n",
    "  (use \"git rm --cached <file>...\" to unstage)\n",
    "\tnew file:   README\n",
    "```\n"
   ]
  },
  {
   "cell_type": "markdown",
   "id": "4be266a2",
   "metadata": {
    "slideshow": {
     "slide_type": "subslide"
    },
    "tags": []
   },
   "source": [
    "The third step is to commit the file from the staging area into the repository with `commit`. You should write a short message about the commit with `-m \"A short message about this commit\"`.\n",
    "\n",
    "```bash\n",
    "[~/myRepo] > git commit -m \"Add README\"\n",
    "[master (root-commit) 11e7892] Add README\n",
    " 1 file changed, 1 insertion(+)\n",
    " create mode 100644 README\n",
    "```\n",
    " \n",
    "```bash\n",
    "[~/myRepo] > git status\n",
    "On branch master\n",
    "nothing to commit, working tree clean\n",
    "```\n",
    "\n",
    "<h2 style=\"color:red\"> Exercise </h2>\n",
    "\n",
    "Create your first repository by your own.\n",
    "\n",
    "<br />\n"
   ]
  },
  {
   "cell_type": "code",
   "execution_count": null,
   "id": "634c0111",
   "metadata": {
    "slideshow": {
     "slide_type": "skip"
    },
    "tags": []
   },
   "outputs": [],
   "source": [
    "%%bash\n",
    "cd $HOME; cd tmp"
   ]
  },
  {
   "cell_type": "code",
   "execution_count": null,
   "id": "9caf3a08",
   "metadata": {},
   "outputs": [],
   "source": [
    "%%bash\n",
    "mkdir myRepo"
   ]
  },
  {
   "cell_type": "code",
   "execution_count": null,
   "id": "09772fb5",
   "metadata": {},
   "outputs": [],
   "source": [
    "%%bash\n",
    "cd myRepo\n",
    "git init"
   ]
  },
  {
   "cell_type": "code",
   "execution_count": null,
   "id": "d6e2c3a0",
   "metadata": {},
   "outputs": [],
   "source": [
    "%%bash\n",
    "echo \"hello world\" >> README\n",
    "git add README"
   ]
  },
  {
   "cell_type": "markdown",
   "id": "42c4e707",
   "metadata": {
    "slideshow": {
     "slide_type": "slide"
    },
    "tags": []
   },
   "source": [
    "### Changes\n",
    "\n",
    "Next, let's look at what happens when you continue adding files or making changes to existing files.\n",
    "\n",
    "We'll jump ahead a bit here and create our first Python script and add some text to our README file.\n",
    "\n",
    "```bash\n",
    "[~/myRepo] > cat - >> README\n",
    "\n",
    "script_0.py just say 'Hello World'\n",
    "\n",
    "```\n",
    "\n",
    "Enter **CTRL-D** to close the input stream.\n",
    "\n"
   ]
  },
  {
   "cell_type": "markdown",
   "id": "dcaf9b84",
   "metadata": {
    "slideshow": {
     "slide_type": "subslide"
    },
    "tags": []
   },
   "source": [
    "<h2 style=\"color:red\"> Exercise </h2>\n",
    "\n",
    "Add the line to the README file as explained above.\n",
    "\n",
    "<br />\n",
    "\n",
    "Create the first Python script, do\n",
    "\n",
    "```bash\n",
    "cat - > script_0.py\n",
    "print('Hello World')\n",
    "```\n",
    "\n",
    "Yeah, don't forget to enter **CTRL-D**.\n",
    "\n",
    "<br />"
   ]
  },
  {
   "cell_type": "code",
   "execution_count": null,
   "id": "1b0031a5",
   "metadata": {
    "slideshow": {
     "slide_type": "skip"
    },
    "tags": []
   },
   "outputs": [],
   "source": []
  },
  {
   "cell_type": "markdown",
   "id": "9394bc95",
   "metadata": {
    "slideshow": {
     "slide_type": "slide"
    },
    "tags": []
   },
   "source": [
    "Our directory contains now the following files:\n",
    "\n",
    "```bash\n",
    "[~/myRepo] > ls -la\n",
    "total 16\n",
    "drwxr-xr-x   5 k204045  staff  160 27 Mai 10:57 .\n",
    "drwxr-xr-x  20 k204045  staff  640 26 Mai 16:15 ..\n",
    "drwxr-xr-x  12 k204045  staff  384 26 Mai 16:35 .git\n",
    "-rw-r--r--   1 k204045  staff   66 27 Mai 10:51 README\n",
    "-rw-r--r--   1 k204045  staff   21 27 Mai 10:57 script_0.py\n",
    "```"
   ]
  },
  {
   "cell_type": "markdown",
   "id": "d8ff0a8d",
   "metadata": {
    "slideshow": {
     "slide_type": "slide"
    },
    "tags": []
   },
   "source": [
    "The files are not yet listed for commit to the repository and `status` is kind enough to let us know.\n",
    "\n",
    "```bash\n",
    "[~/myRepo] > git status\n",
    "On branch master\n",
    "Changes not staged for commit:\n",
    "  (use \"git add <file>...\" to update what will be committed)\n",
    "  (use \"git restore <file>...\" to discard changes in working directory)\n",
    "\tmodified:   README\n",
    "\n",
    "Untracked files:\n",
    "  (use \"git add <file>...\" to include in what will be committed)\n",
    "\tscript_0.py\n",
    "\n",
    "no changes added to commit (use \"git add\" and/or \"git commit -a\")\n",
    "```\n",
    "\n",
    "Well, let's catch up on that.\n",
    "\n",
    "```bash\n",
    "[~/myRepo] > git add README script_0.py\n",
    "```"
   ]
  },
  {
   "cell_type": "markdown",
   "id": "c009a6e6",
   "metadata": {
    "slideshow": {
     "slide_type": "subslide"
    },
    "tags": []
   },
   "source": [
    "<h2 style=\"color:red\"> Exercise </h2>\n",
    "\n",
    "And now you ...\n",
    "\n",
    "<br />"
   ]
  },
  {
   "cell_type": "code",
   "execution_count": null,
   "id": "5975be0c",
   "metadata": {
    "slideshow": {
     "slide_type": "skip"
    },
    "tags": []
   },
   "outputs": [],
   "source": []
  },
  {
   "cell_type": "markdown",
   "id": "4ccc8ba6",
   "metadata": {
    "slideshow": {
     "slide_type": "slide"
    },
    "tags": []
   },
   "source": [
    "With Git's `diff --cached` we can look up what we changed before the actual commit.\n",
    "\n",
    "```bash\n",
    "[~/myRepo] > git diff --cached\n",
    "diff --git a/README b/README\n",
    "index eb6d976..dcca46d 100644\n",
    "--- a/README\n",
    "+++ b/README\n",
    "@@ -1 +1,3 @@\n",
    " This is my first repository.\n",
    "+\n",
    "+script_0.py: just say 'Hello World'\n",
    "diff --git a/script_0.py b/script_0.py\n",
    "new file mode 100644\n",
    "index 0000000..df1dc68\n",
    "--- /dev/null\n",
    "+++ b/script_0.py\n",
    "@@ -0,0 +1 @@\n",
    "+print('Hello World')\n",
    "```\n",
    "\n",
    "<h2 style=\"color:red\"> Exercise </h2>\n",
    "\n",
    "Jupp, you know ...\n",
    "\n",
    "<br />"
   ]
  },
  {
   "cell_type": "code",
   "execution_count": null,
   "id": "c2a07a4d",
   "metadata": {
    "slideshow": {
     "slide_type": "skip"
    },
    "tags": []
   },
   "outputs": [],
   "source": []
  },
  {
   "cell_type": "markdown",
   "id": "94f0662e",
   "metadata": {
    "slideshow": {
     "slide_type": "slide"
    },
    "tags": []
   },
   "source": [
    "Now that we have done the preliminary work, we can commit it to the repository.\n",
    "\n",
    "<h2 style=\"color:red\"> Exercise </h2>\n",
    "\n",
    "Do you remember the `git commit` command from above. Run the command, but change the message with something appropriate for these changes.\n",
    "\n",
    "<br />"
   ]
  },
  {
   "cell_type": "code",
   "execution_count": null,
   "id": "0db592a4",
   "metadata": {
    "slideshow": {
     "slide_type": "skip"
    },
    "tags": []
   },
   "outputs": [],
   "source": []
  },
  {
   "cell_type": "markdown",
   "id": "6eecc5d4",
   "metadata": {
    "slideshow": {
     "slide_type": "slide"
    },
    "tags": []
   },
   "source": [
    "Git stores the differences of the changes in the git repository, not the changed files.\n",
    "\n",
    "With the command `log` we can always check what has been done in the repository.\n",
    "\n",
    "```bash\n",
    "[~/myRepo] > git log\n",
    "commit a300390fc25be979286298716f1687aaea47a6c7 (HEAD -> master)\n",
    "Author: KMFleischer <meier-fleischer@dkrz.de>\n",
    "Date:   Thu May 27 12:59:55 2021 +0200\n",
    "\n",
    "    Add script_0.py and modify REAMDE\n",
    "\n",
    "commit 11e789205b3e7a9cca589df57791a2cef2fe6108\n",
    "Author: KMFleischer <meier-fleischer@dkrz.de>\n",
    "Date:   Wed May 26 16:35:35 2021 +0200\n",
    "\n",
    "    Add README\n",
    "```\n",
    "\n",
    "If you want to see more about each change you can use `log` with the option `-p`.\n",
    "\n",
    "```git log -p```"
   ]
  },
  {
   "cell_type": "markdown",
   "id": "2a72fde4",
   "metadata": {
    "slideshow": {
     "slide_type": "subslide"
    },
    "tags": []
   },
   "source": [
    "<h2 style=\"color:red\"> Exercise </h2>\n",
    "\n",
    "What does your repository logfile look like?\n",
    "\n",
    "<br />"
   ]
  },
  {
   "cell_type": "code",
   "execution_count": null,
   "id": "41ab36ac",
   "metadata": {
    "slideshow": {
     "slide_type": "skip"
    },
    "tags": []
   },
   "outputs": [],
   "source": []
  },
  {
   "cell_type": "markdown",
   "id": "95f7ecd8",
   "metadata": {
    "slideshow": {
     "slide_type": "slide"
    },
    "tags": []
   },
   "source": [
    "## Branches\n",
    "\n",
    "If you want to change or extend a repository, a development branch can be created. This is safer because the main branch, called **master**, remains untouched. You can switch between the master branch and your development branch, and it can be merged with the master branch at any time.\n",
    "\n",
    "Create a branch and call it _development_ (or what ever you like)\n",
    "```bash\n",
    "[~/myRepo] > git branch development\n",
    "```\n",
    "\n",
    "Show the existing branches\n",
    "```bash\n",
    "[~/myRepo] > git branch\n",
    "  development\n",
    "* master\n",
    "```\n",
    "\n",
    "The active branch is marked by an asterisk."
   ]
  },
  {
   "cell_type": "markdown",
   "id": "700cc709",
   "metadata": {
    "slideshow": {
     "slide_type": "subslide"
    },
    "tags": []
   },
   "source": [
    "The next step is to switch from master to the development branch\n",
    "```bash\n",
    "[~/myRepo] > git switch development\n",
    "Switched to branch 'development'\n",
    "```\n",
    "\n",
    "or `git checkout -b development`\n",
    "\n",
    "Let's see what happened\n",
    "```bash\n",
    "[~/myRepo] > git branch\n",
    "* development\n",
    "  master\n",
    "```\n",
    "\n",
    "Switch back to the master branch, just because we can do it\n",
    "```bash\n",
    "[~/myRepo] > git switch master\n",
    "Switched to branch 'development'\n",
    "```"
   ]
  },
  {
   "cell_type": "markdown",
   "id": "94290554",
   "metadata": {
    "slideshow": {
     "slide_type": "subslide"
    },
    "tags": []
   },
   "source": [
    "<h2 style=\"color:red\"> Exercise </h2>\n",
    "\n",
    "Now, create your own branch, switch to it and make some changes? <br />\n",
    "What happen if you commit the changes to the branch and master branch?\n",
    "\n",
    "<br />"
   ]
  },
  {
   "cell_type": "code",
   "execution_count": null,
   "id": "e8d3b9b5",
   "metadata": {
    "slideshow": {
     "slide_type": "skip"
    },
    "tags": []
   },
   "outputs": [],
   "source": []
  },
  {
   "cell_type": "markdown",
   "id": "37367c32",
   "metadata": {
    "slideshow": {
     "slide_type": "slide"
    },
    "tags": []
   },
   "source": [
    "### Merge branch into master\n",
    "\n",
    "To merge the development branch into the master you can use the `merge` command. \n",
    "First, make sure your're in the master branch.\n",
    "\n",
    "`git merge development`\n",
    "\n",
    "If there are no conflicts all is well, if there are, then we need to see where and fix them.\n",
    "```bash\n",
    "[~/myRepo] > git merge development\n",
    "Auto-merging script_01.py\n",
    "CONFLICT (content): Merge conflict in script_01.py\n",
    "Automatic merge failed; fix conflicts and then commit the result.\n",
    "```\n",
    "\n",
    "With `diff` we can see the marked parts of the conflict.\n",
    "```bash\n",
    "[~/myRepo] > git diff\n",
    "diff --cc script_01.py\n",
    "index 8cc9c21,d09cfbe..0000000\n",
    "--- a/script_01.py\n",
    "+++ b/script_01.py\n",
    "@@@ -1,3 -1,4 +1,8 @@@\n",
    "+ # welcome to a short python script ;)\n",
    "+ \n",
    "  print('Hello again')\n",
    "  \n",
    "++<<<<<<< HEAD\n",
    " +# that's the end\n",
    "++=======\n",
    "++>>>>>>> development\n",
    "```\n",
    "\n"
   ]
  },
  {
   "cell_type": "code",
   "execution_count": null,
   "id": "5680e87a",
   "metadata": {
    "slideshow": {
     "slide_type": "skip"
    },
    "tags": []
   },
   "outputs": [],
   "source": []
  },
  {
   "cell_type": "markdown",
   "id": "2e6571ab",
   "metadata": {
    "slideshow": {
     "slide_type": "slide"
    },
    "tags": []
   },
   "source": [
    "## Remove File\n",
    "\n",
    "The command `rm` removes files from the repository respectively staging area. The files are not removed from your working directory .\n",
    "\n",
    "To delete the file script_01.py from the repository/staging area:\n",
    "\n",
    "```bash\n",
    "git rm script_01.py\n",
    "```\n",
    "\n",
    "## Rename File\n",
    "\n",
    "To rename an file of the repository use the `mv` command.\n",
    "\n",
    "```bash\n",
    "git mv script_0.py script_00.py\n",
    "```"
   ]
  },
  {
   "cell_type": "markdown",
   "id": "2d3759a7",
   "metadata": {
    "slideshow": {
     "slide_type": "subslide"
    },
    "tags": []
   },
   "source": [
    "<h2 style=\"color:red\"> Exercise </h2>\n",
    "\n",
    "1. Add a new file and commit it to the repository\n",
    "2. Remove the new file from repository\n",
    "3. Rename script_0.py to script_00.py\n",
    "\n",
    "<br />"
   ]
  },
  {
   "cell_type": "code",
   "execution_count": null,
   "id": "5ba34672",
   "metadata": {
    "slideshow": {
     "slide_type": "skip"
    },
    "tags": []
   },
   "outputs": [],
   "source": [
    "# 1.\n"
   ]
  },
  {
   "cell_type": "code",
   "execution_count": null,
   "id": "be272994",
   "metadata": {
    "slideshow": {
     "slide_type": "skip"
    },
    "tags": []
   },
   "outputs": [],
   "source": [
    "# 2.\n"
   ]
  },
  {
   "cell_type": "code",
   "execution_count": null,
   "id": "8a310f24",
   "metadata": {
    "slideshow": {
     "slide_type": "skip"
    },
    "tags": []
   },
   "outputs": [],
   "source": [
    "# 3.\n"
   ]
  },
  {
   "cell_type": "markdown",
   "id": "16d7065f",
   "metadata": {
    "slideshow": {
     "slide_type": "slide"
    },
    "tags": []
   },
   "source": [
    "## Undoing Changes\n",
    "\n",
    "You can undo changes at any time. There are different ways to do it depending on what you want to undo.\n",
    "\n",
    "### After a commit\n",
    "\n",
    "After a commit, if files or changes were forgotten to be added. Add the stuff with `git add` and use the option `--amend` with the commit command:\n",
    "\n",
    "`git commit --amend`\n",
    "\n",
    "This commit will replace the commit before.\n"
   ]
  },
  {
   "cell_type": "markdown",
   "id": "dcc3a2b6",
   "metadata": {
    "slideshow": {
     "slide_type": "subslide"
    },
    "tags": []
   },
   "source": [
    "### Undo staging\n",
    "\n",
    "Unstage a staged file with the `restore` command.\n",
    "\n",
    "Example\n",
    "\n",
    "```bash\n",
    "[~/myRepo] > cat - > file1.txt\n",
    "file 1   \n",
    "\n",
    "[~/myRepo] > cat - > file2.txt\n",
    "file 2\n",
    "\n",
    "[~/myRepo] > git add *.txt\n",
    "\n",
    "[~/myRepo] > git status\n",
    "On branch master\n",
    "Changes to be committed:\n",
    "  (use \"git restore --staged <file>...\" to unstage)\n",
    "\tnew file:   file1.txt\n",
    "\tnew file:   file2.txt\n",
    "\n",
    "[~/myRepo] > git restore --staged file2.txt\n",
    "\n",
    "[~/myRepo] > git status\n",
    "On branch master\n",
    "Changes to be committed:\n",
    "  (use \"git restore --staged <file>...\" to unstage)\n",
    "\tnew file:   file1.txt\n",
    "\n",
    "Untracked files:\n",
    "  (use \"git add <file>...\" to include in what will be committed)\n",
    "\tfile2.txt\n",
    "```\n"
   ]
  },
  {
   "cell_type": "markdown",
   "id": "ae1689a4",
   "metadata": {
    "slideshow": {
     "slide_type": "subslide"
    },
    "tags": []
   },
   "source": [
    "### Undo changes to a file\n",
    "\n",
    "To undo changes in a file (not staged) you can also use `restore` to reset the file to the state of the last commit. \n",
    "\n",
    "Example: We append some text to the file1.txt\n",
    "\n",
    "```bash\n",
    "[~/myRepo] > cat - >> file1.txt\n",
    "\n",
    "Add new lines to the file.\n",
    "\n",
    "(PythonCourse) [~/Python/DKRZ_Python_Workshop/myRepo] > git status\n",
    "On branch master\n",
    "Changes not staged for commit:\n",
    "  (use \"git add <file>...\" to update what will be committed)\n",
    "  (use \"git restore <file>...\" to discard changes in working directory)\n",
    "\tmodified:   file1.txt\n",
    "\n",
    "no changes added to commit (use \"git add\" and/or \"git commit -a\")\n",
    "```\n",
    "\n",
    "The output of `git status` tells you exactly what you can do to undo the changes to the state of the last commit.\n",
    "\n",
    "`git restore file1.txt`\n",
    "\n",
    "<br />"
   ]
  },
  {
   "cell_type": "markdown",
   "id": "9950e739",
   "metadata": {
    "slideshow": {
     "slide_type": "subslide"
    },
    "tags": []
   },
   "source": [
    "<h2 style=\"color:red\"> Exercise </h2>\n",
    "\n",
    "Now, try what you have leared.\n",
    "\n",
    "<br />"
   ]
  },
  {
   "cell_type": "code",
   "execution_count": null,
   "id": "7352941e",
   "metadata": {
    "slideshow": {
     "slide_type": "skip"
    },
    "tags": []
   },
   "outputs": [],
   "source": []
  },
  {
   "cell_type": "markdown",
   "id": "86c05422",
   "metadata": {
    "slideshow": {
     "slide_type": "slide"
    },
    "tags": []
   },
   "source": [
    "## Git Gui\n",
    "\n",
    "To have a better overview of the different branches it is nice to use the `gitk` Git graphical user interface.\n",
    "\n",
    "`gitk`\n",
    "\n",
    "<div class=\"alert alert-block alert-info\"><b>Note:</b> <br> \n",
    "gitk is not installed in the default installation on Mac OS X. This can be done with 'homebrew': <b>brew gitk</b>\n",
    "</div>\n",
    "\n",
    "<br />"
   ]
  },
  {
   "cell_type": "markdown",
   "id": "64c4f291",
   "metadata": {
    "slideshow": {
     "slide_type": "slide"
    },
    "tags": []
   },
   "source": [
    "## Working with a Remote Repository\n",
    "\n",
    "### Clone Existing Repository\n",
    "\n",
    "To copy an existing repository from a server the `clone` command is your choice. When you run `git clone <URL>` a full copy of all versions and data is pulled down.\n",
    "\n",
    "The course material with the notebooks can be cloned from https://gitlab.dkrz.de/pythoncourse/material.git \n",
    "\n",
    "`git clone https://gitlab.dkrz.de/pythoncourse/material.git`\n",
    "\n",
    "<br />\n",
    "\n"
   ]
  },
  {
   "cell_type": "markdown",
   "id": "648c9ad9",
   "metadata": {
    "slideshow": {
     "slide_type": "subslide"
    },
    "tags": []
   },
   "source": [
    "<h2 style=\"color:red\"> Exercise </h2>\n",
    "\n",
    "Clone the course material as described above in a new empty directory. See what happens.\n",
    "\n",
    "<br />"
   ]
  },
  {
   "cell_type": "code",
   "execution_count": null,
   "id": "438f6e57",
   "metadata": {
    "slideshow": {
     "slide_type": "skip"
    },
    "tags": []
   },
   "outputs": [],
   "source": []
  },
  {
   "cell_type": "markdown",
   "id": "2c870782",
   "metadata": {
    "slideshow": {
     "slide_type": "slide"
    },
    "tags": []
   },
   "source": [
    "### Info about the Remote Repository\n",
    "\n",
    "Move into the cloned repository which is in the directory **material**.\n",
    "\n",
    "`cd material`\n",
    "\n",
    "Show the repository's URL with the `remote`command:\n",
    "\n",
    "```bash\n",
    "[~/material] > git remote -v\n",
    "origin\thttps://gitlab.dkrz.de/pythoncourse/material.git (fetch)\n",
    "origin\thttps://gitlab.dkrz.de/pythoncourse/material.git (push)\n",
    "```\n",
    "\n"
   ]
  },
  {
   "cell_type": "code",
   "execution_count": null,
   "id": "a17576d8",
   "metadata": {},
   "outputs": [],
   "source": []
  },
  {
   "cell_type": "markdown",
   "id": "65b65d1b",
   "metadata": {
    "slideshow": {
     "slide_type": "slide"
    },
    "tags": []
   },
   "source": [
    "### Fetch and Pull\n",
    "\n",
    "When working in a team, the status of the repository must be checked before any change is made to prevent conflicts. This is done with `git status`. If there are changes on the server this will be shown and you can update the local repository with the `fetch` or `pull` command.\n",
    "\n",
    "`git fetch <remote>` - pull down all data of the remote repository which is not in your current local one, do not merge it. \n",
    "\n",
    "`git pull <remote>` - pull down all data of the remote repository which is not in your current local one and merge it with yours.\n"
   ]
  },
  {
   "cell_type": "markdown",
   "id": "da6f98bb",
   "metadata": {
    "slideshow": {
     "slide_type": "slide"
    },
    "tags": []
   },
   "source": [
    "### Push\n",
    "\n",
    "\n",
    "<figure>\n",
    "    <img src=\"http://krishnaiitd.github.io/gitcommands/images/GitWorkflow-3.png\" width=\"500\" style=\"border:1px solid\" align=\"center\"/>\n",
    "    <figcaption style=\"font-size:smaller; text-align:center\">From http://krishnaiitd.github.io</figcaption>\n",
    "</figure>\n",
    "\n",
    "\n",
    "If you want to share your work with others of the repository community you can upload it with the `pull` command.\n",
    "\n",
    "`git push origin master`\n",
    "\n",
    "<div class=\"alert alert-block alert-info\"><b>Note:</b> <br> \n",
    "If another user has pushed his work directly before you do, you have to fetch his work first and merge it into your repository before you can push yours.\n",
    "</div>\n",
    "\n",
    "You can get more information of the remote with the `remote show` command:\n",
    "\n",
    "```bash\n",
    "[~/material] > git remote show origin\n",
    "* remote origin\n",
    "  Fetch URL: https://gitlab.dkrz.de/pythoncourse/material.git\n",
    "  Push  URL: https://gitlab.dkrz.de/pythoncourse/material.git\n",
    "  HEAD branch: master\n",
    "  Remote branch:\n",
    "    master tracked\n",
    "  Local branch configured for 'git pull':\n",
    "    master merges with remote master\n",
    "  Local ref configured for 'git push':\n",
    "    master pushes to master (up to date)\n",
    "```\n"
   ]
  },
  {
   "cell_type": "markdown",
   "id": "6ed96e79",
   "metadata": {
    "slideshow": {
     "slide_type": "subslide"
    },
    "tags": []
   },
   "source": [
    "<h2 style=\"color:red\"> Exercise </h2>\n",
    "\n",
    "1. Create a subdirectory in **material/Participants** with your name.\n",
    "2. Add a file to the newly created directory.\n",
    "3. Push it to the remote repository.\n",
    "\n",
    "<br />\n",
    "\n",
    "More information about possible development workflows with git at https://git-scm.com/book/en/v2/Distributed-Git-Distributed-Workflows"
   ]
  },
  {
   "cell_type": "code",
   "execution_count": null,
   "id": "6089b935",
   "metadata": {
    "slideshow": {
     "slide_type": "skip"
    },
    "tags": []
   },
   "outputs": [],
   "source": []
  },
  {
   "cell_type": "markdown",
   "id": "bd9fa1d8",
   "metadata": {
    "slideshow": {
     "slide_type": "slide"
    },
    "tags": []
   },
   "source": [
    "## Tags\n",
    "\n",
    "Tags of a repository are labels which allow us to more easily restore the status of the repository at any time to the state of the tag. You can list the tags with the `tag` command.\n",
    "\n",
    "`git tag`\n",
    "\n",
    "It will return a list of the current given tags if tags are set, like\n",
    "\n",
    "```bash\n",
    "v1.0\n",
    "v1.1\n",
    "```\n",
    "\n",
    "Git knows two different types of tags - **lightweight** and **annotated**. \n",
    "\n",
    "The lightweigth tag is like a pointer or link to the specified commit.\n",
    "\n",
    "The annotated tag is stored as a full data obkect in the Git database. It stores the tagger name, email, date, checksum, and tagging message. It is recommended to use the annotated tag to have all these information within, but if you want to have a temporary tag do the lightweight way.\n",
    "\n",
    "With the `show` command you can see what is in the tag:\n",
    "\n",
    "`git show v1.0`\n",
    "\n",
    "To push a tagged version of your **branch** use the tag name instead of master:\n",
    "\n",
    "`git push origin v1.0`\n",
    "\n"
   ]
  },
  {
   "cell_type": "markdown",
   "id": "4005bfcb",
   "metadata": {
    "slideshow": {
     "slide_type": "subslide"
    },
    "tags": []
   },
   "source": [
    "### Examples\n",
    "\n",
    "1. To create a tag for the current committed version, annotated method.\n",
    "\n",
    "`git tag -a v1.0 -m \"Version 1.0\"`\n",
    "\n",
    "\n",
    "\n",
    "2. To tag an older commit you have to look at the log file.\n",
    "\n",
    "`git log`\n",
    "\n",
    "See where the commit is located in the log file, e.g.\n",
    "\n",
    "```bash\n",
    "commit 4ddacb2a9d08ed50755571ec1eade4e73567d862 (HEAD -> master)\n",
    "Author: Groot <groot@gardians.galaxy>\n",
    "Date:   Wed Jun 2 13:45:38 2021 +0200\n",
    "```\n",
    "\n",
    "Here, it is demonstrated how to use the commit address to set a tag for the lightweight method:\n",
    "\n",
    "```bash\n",
    "git tag groot_v1.0 4ddacb2a9d08ed50755571ec1eade4e73567d86\n",
    "```\n",
    "\n",
    "Now, the information of the log file about this commit shows the setting og the tag.\n",
    "\n",
    "```bash\n",
    "commit 4ddacb2a9d08ed50755571ec1eade4e73567d862 (HEAD -> master, tag: groot_v1.0)\n",
    "```\n"
   ]
  },
  {
   "cell_type": "markdown",
   "id": "cee52fe0",
   "metadata": {
    "slideshow": {
     "slide_type": "subslide"
    },
    "tags": []
   },
   "source": [
    "<h2 style=\"color:red\"> Exercise </h2>\n",
    "\n",
    "Do it - give your current version of the branch a tag name.\n",
    "\n",
    "<br />"
   ]
  },
  {
   "cell_type": "code",
   "execution_count": null,
   "id": "0c260ac5",
   "metadata": {
    "slideshow": {
     "slide_type": "skip"
    },
    "tags": []
   },
   "outputs": [],
   "source": []
  },
  {
   "cell_type": "markdown",
   "id": "7febabe8",
   "metadata": {
    "slideshow": {
     "slide_type": "slide"
    },
    "tags": []
   },
   "source": [
    "### Start Branch from Tag\n",
    "\n",
    "You can checkout a tag and create a local branch containing that version with the `checkout` command. \n",
    "\n",
    "`git checkout -b version1.0 'v1.0'`\n",
    "\n",
    "<br />\n",
    "\n",
    "\n",
    "## Push your Branch to Remote Repository\n",
    "\n",
    "You can push your branch to the remote repository and store it as a branch, not in master.\n",
    "\n",
    "`git push origin version1.0`\n",
    "\n",
    "<br />\n",
    "\n",
    "<h2 style=\"color:red\"> Exercise </h2>\n",
    "\n",
    "Yepp, create your first branch from an existing tag.\n",
    "\n",
    "<br />\n"
   ]
  },
  {
   "cell_type": "code",
   "execution_count": null,
   "id": "1fe99df0",
   "metadata": {
    "slideshow": {
     "slide_type": "skip"
    },
    "tags": []
   },
   "outputs": [],
   "source": []
  }
 ],
 "metadata": {
  "kernelspec": {
   "display_name": "Python 3 (based on the module python3/2022.01)",
   "language": "python",
   "name": "python3_2022_01"
  },
  "language_info": {
   "codemirror_mode": {
    "name": "ipython",
    "version": 3
   },
   "file_extension": ".py",
   "mimetype": "text/x-python",
   "name": "python",
   "nbconvert_exporter": "python",
   "pygments_lexer": "ipython3",
   "version": "3.9.9"
  }
 },
 "nbformat": 4,
 "nbformat_minor": 5
}
