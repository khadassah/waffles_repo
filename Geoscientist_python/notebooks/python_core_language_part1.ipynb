{
 "cells": [
  {
   "cell_type": "code",
   "execution_count": null,
   "metadata": {},
   "outputs": [],
   "source": [
    "# get formating done automatically according to style `black`\n",
    "#%load_ext lab_black"
   ]
  },
  {
   "cell_type": "markdown",
   "metadata": {},
   "source": [
    "<img src=\"https://www.python.org/static/community_logos/python-logo-master-v3-TM.png\">"
   ]
  },
  {
   "cell_type": "markdown",
   "metadata": {},
   "source": [
    "# Python core language part 1\n",
    "\n",
    "Python is an *Interpreted*, *high-level*, *general-purpose* *programming language*\n",
    "\n",
    "- Interpreted: source code executes directly \n",
    "- High-level: strong abstraction from the details of the computer\n",
    "- General-purpose: widest variety of applications\n",
    "- Programming language: language which holds a set of instructions that produce various kinds of output"
   ]
  },
  {
   "cell_type": "markdown",
   "metadata": {},
   "source": [
    "**Content**\n",
    "\n",
    "You will:\n",
    "- Write [your first line of code](#first_line)\n",
    "- Understand the [syntax](#syntax)\n",
    "- Learn about [variables](#vars) ...\n",
    "- ... and [data types](#types)\n",
    "- Work with [strings](#strings)\n",
    "- Create and use [lists, tuples and sets](#lists)\n",
    "- Dive into [dictionaries](#dicts)"
   ]
  },
  {
   "cell_type": "markdown",
   "metadata": {},
   "source": [
    "## Your first Line of Code<a id='first_line'></a>\n",
    "\n",
    "Simply type the follwing in the empty cell below and execute the code. You execute the code by pressing the `Control` + `Enter` key or click the `Run` button above.\n",
    "\n",
    "```Python\n",
    "print(\"Hello world.\")\n",
    "``` "
   ]
  },
  {
   "cell_type": "code",
   "execution_count": null,
   "metadata": {},
   "outputs": [],
   "source": [
    "# Exercise\n"
   ]
  },
  {
   "cell_type": "markdown",
   "metadata": {},
   "source": [
    "## Syntax<a id='syntax'></a>"
   ]
  },
  {
   "cell_type": "markdown",
   "metadata": {},
   "source": [
    "- Python is cASe SensItiVe. \n",
    "```Python\n",
    "Print(\"Hello world.\")\n",
    "```\n",
    "will not work.\n",
    "\n",
    "\n",
    "- You can comment a line of code with `#`.\n",
    "\n",
    "```Python\n",
    "# Commented lines will not be executed. They are important features for the human reader of the code.\n",
    "``` \n",
    "\n",
    "- In Python, blocks of code are expressed by their indentation. This keeps the code clean and tidy.\n",
    "```Python\n",
    "print(\"one indentation level\")\n",
    "print(\"this indentation level again\")\n",
    "\n",
    "    print(\"another indentation level\")\n",
    "```\n",
    "will lead to `IndentationError: unexpected indent`\n",
    "\n",
    "- If a line of code becomes to large, you can simply contiue in the following line\n",
    "```Python\n",
    "print(\"Python is an interpreted, high-level and general-purpose programming language. \"\n",
    "      \"Python's design philosophy emphasizes code readability with its notable use of significant \"\n",
    "      \"indentation. Its language constructs and object-oriented approach aim to help programmers \"\n",
    "      \"write clear, logical code for small and large-scale projects.\")\n",
    "```"
   ]
  },
  {
   "cell_type": "markdown",
   "metadata": {},
   "source": [
    "### <font color='red'>Exercise</font> \n",
    "Play around with different indentation levels and divide a line of code over two lines. Comment your code using `#`."
   ]
  },
  {
   "cell_type": "code",
   "execution_count": null,
   "metadata": {},
   "outputs": [],
   "source": [
    "# Exercise\n"
   ]
  },
  {
   "cell_type": "markdown",
   "metadata": {},
   "source": [
    "## Variables<a id='vars'></a>"
   ]
  },
  {
   "cell_type": "markdown",
   "metadata": {},
   "source": [
    "A **variable** is a symbolic name, which contains information referred to as a value.\n",
    "A variable is created with an \"assignment\" equal sign ``=``, with the variable's name on the left and the value it should store on the right.\n",
    "\n",
    "```Python\n",
    "x = 5\n",
    "```\n",
    "\n",
    "In the exapmple above, the assignment ``x = 5`` sets ``x`` point to ``5``.\n",
    "\n",
    "The Python language reserves a small set of keywords that have a special language functionality. No object can have the same name as a reserved word. Let us see what happens in the following example:"
   ]
  },
  {
   "cell_type": "code",
   "execution_count": null,
   "metadata": {},
   "outputs": [],
   "source": [
    "class = 5"
   ]
  },
  {
   "cell_type": "markdown",
   "metadata": {},
   "source": [
    "You can see the keyword list any time by typing ``help(\"keywords\")``"
   ]
  },
  {
   "cell_type": "code",
   "execution_count": null,
   "metadata": {},
   "outputs": [],
   "source": [
    "help(\"keywords\")"
   ]
  },
  {
   "cell_type": "markdown",
   "metadata": {},
   "source": [
    "**Programmers are not mathematicians**:"
   ]
  },
  {
   "cell_type": "code",
   "execution_count": null,
   "metadata": {},
   "outputs": [],
   "source": [
    "x = 5\n",
    "y = x\n",
    "print(y)"
   ]
  },
  {
   "cell_type": "markdown",
   "metadata": {},
   "source": [
    "```Python\n",
    "x = 0\n",
    "print(y)\n",
    "> ?\n",
    "```"
   ]
  },
  {
   "cell_type": "markdown",
   "metadata": {},
   "source": [
    "I mathematician would ``y`` expect to be ``0`` (the same value as ``x``). However, in Python the ``=`` sign does not set up a permanent relationship between two variables. The assignment ``y = x`` sets ``y`` to point to the same thing as ``x``. In the beginning,  ``x`` and ``y`` still point to the same value (``5``). Later, ``x`` points to a new value (``0``), whereas ``y`` still points to ``5``.\n",
    "\n",
    "In Python ``=`` reads as **point to**."
   ]
  },
  {
   "cell_type": "markdown",
   "metadata": {},
   "source": [
    "## Data Types<a id='types'></a>"
   ]
  },
  {
   "cell_type": "markdown",
   "metadata": {},
   "source": [
    "Basic **data types** are *numeric* (integer, floating point, complex), *string* and *Boolean*\n",
    "- Integers are all whole numbers: e.g. -4, -6, 2, 5\n",
    "- Floating point numbers are real numbers: e.g. -4.2321, -0.1, 5e-10, 10.01\n",
    "- Complex numbers: e.g. 3+5j is written as ``complex(3,5)``\n",
    "- Strings contain text: e.g. “This is a String”\n",
    "- The Boolean data type can either be <font color='green'>True</font>  or <font color='red'>False</font>"
   ]
  },
  {
   "cell_type": "code",
   "execution_count": null,
   "metadata": {},
   "outputs": [],
   "source": [
    "integer_var = -3\n",
    "type(integer_var)"
   ]
  },
  {
   "cell_type": "code",
   "execution_count": null,
   "metadata": {},
   "outputs": [],
   "source": [
    "real_number_var = 3.\n",
    "type(real_number_var)"
   ]
  },
  {
   "cell_type": "code",
   "execution_count": null,
   "metadata": {},
   "outputs": [],
   "source": [
    "string_var = \"I'm not a string.\"\n",
    "type(string_var)"
   ]
  },
  {
   "cell_type": "code",
   "execution_count": null,
   "metadata": {},
   "outputs": [],
   "source": [
    "boolean_var = True\n",
    "type(boolean_var)"
   ]
  },
  {
   "cell_type": "code",
   "execution_count": null,
   "metadata": {},
   "outputs": [],
   "source": [
    "comp = complex(3,5)\n",
    "type(comp)"
   ]
  },
  {
   "cell_type": "markdown",
   "metadata": {},
   "source": [
    "One data type can also be converted into another:"
   ]
  },
  {
   "cell_type": "code",
   "execution_count": null,
   "metadata": {},
   "outputs": [],
   "source": [
    "str_num = \"123\"\n",
    "int_num = int(str_num)\n",
    "type(int_num)"
   ]
  },
  {
   "cell_type": "markdown",
   "metadata": {},
   "source": [
    "### <font color='red'>Exercise</font> \n",
    "1. Create a variable of each type you have learned.\n",
    "2. Douple check the type of your created varibale by using `type(<var>)`.\n",
    "3. What happens if you add 2 variables of different types? In which cases does it work and in which does it not?\n",
    "![](../images/cat_dog.png)"
   ]
  },
  {
   "cell_type": "code",
   "execution_count": null,
   "metadata": {},
   "outputs": [],
   "source": [
    "# 1.\n"
   ]
  },
  {
   "cell_type": "code",
   "execution_count": null,
   "metadata": {},
   "outputs": [],
   "source": [
    "# 2.\n"
   ]
  },
  {
   "cell_type": "code",
   "execution_count": null,
   "metadata": {},
   "outputs": [],
   "source": [
    "# 3.\n"
   ]
  },
  {
   "cell_type": "markdown",
   "metadata": {},
   "source": [
    "## String Methods<a id='strings'></a>"
   ]
  },
  {
   "cell_type": "markdown",
   "metadata": {},
   "source": [
    "Python has a set of built-in methods that you can use on strings. A good overview can be found on [W3School](https://www.w3schools.com/python/python_ref_string.asp).\n",
    "\n",
    "In the following a few examples are presented:"
   ]
  },
  {
   "cell_type": "code",
   "execution_count": null,
   "metadata": {},
   "outputs": [],
   "source": [
    "# Define a test string\n",
    "test_string = \"This is my test string.\""
   ]
  },
  {
   "cell_type": "code",
   "execution_count": null,
   "metadata": {},
   "outputs": [],
   "source": [
    "# Converts a string into upper case\n",
    "test_string.upper()"
   ]
  },
  {
   "cell_type": "code",
   "execution_count": null,
   "metadata": {},
   "outputs": [],
   "source": [
    "# Splits the string at the specified separator, and returns a list\n",
    "test_string.split(\" \")"
   ]
  },
  {
   "cell_type": "code",
   "execution_count": null,
   "metadata": {},
   "outputs": [],
   "source": [
    "# Returns a string where a specified value is replaced with a specified value\n",
    "test_string.replace(\"i\", \"!\")"
   ]
  },
  {
   "cell_type": "markdown",
   "metadata": {},
   "source": [
    "### <font color='red'>Exercise</font> \n",
    "Create various string variables and apply three different **string methods**."
   ]
  },
  {
   "cell_type": "code",
   "execution_count": null,
   "metadata": {},
   "outputs": [],
   "source": [
    "# Exercise\n"
   ]
  },
  {
   "cell_type": "markdown",
   "metadata": {},
   "source": [
    "## Lists, Tuples and Sets<a id='lists'></a>"
   ]
  },
  {
   "cell_type": "markdown",
   "metadata": {},
   "source": [
    "A **list** can contain any type of variable and as many variables as you wish.\n",
    "\n",
    "It is initialized by square brackets ``my_list = [item1, item2, item3, ...]``.\n",
    "\n",
    "If you are unsure about the content you can also declare an empty list with ``empty_list = []``."
   ]
  },
  {
   "cell_type": "code",
   "execution_count": null,
   "metadata": {},
   "outputs": [],
   "source": [
    "my_list = [3, 8.01, 'beer']\n",
    "print(my_list)"
   ]
  },
  {
   "cell_type": "markdown",
   "metadata": {},
   "source": [
    "You can append items with ``my_list.append(var)``"
   ]
  },
  {
   "cell_type": "code",
   "execution_count": null,
   "metadata": {},
   "outputs": [],
   "source": [
    "my_list.append('another beer')\n",
    "print(my_list)"
   ]
  },
  {
   "cell_type": "markdown",
   "metadata": {},
   "source": [
    "You can access a list item with ``my_list[<item index>]``"
   ]
  },
  {
   "cell_type": "code",
   "execution_count": null,
   "metadata": {},
   "outputs": [],
   "source": [
    "my_list[2]"
   ]
  },
  {
   "cell_type": "markdown",
   "metadata": {},
   "source": [
    "With **slicing** you can create a new list as a subset of the old list."
   ]
  },
  {
   "cell_type": "code",
   "execution_count": null,
   "metadata": {},
   "outputs": [],
   "source": [
    "old_list = [0, 1, 2, 3, 4]\n",
    "new_list = old_list[1:3]\n",
    "print(new_list)"
   ]
  },
  {
   "cell_type": "markdown",
   "metadata": {},
   "source": [
    "### <font color='red'>Exercise</font> \n",
    "1. Create your own list.\n",
    "2. Add another item to your list.\n",
    "3. Access an item in your list via its index."
   ]
  },
  {
   "cell_type": "code",
   "execution_count": null,
   "metadata": {},
   "outputs": [],
   "source": [
    "# 1.\n"
   ]
  },
  {
   "cell_type": "code",
   "execution_count": null,
   "metadata": {},
   "outputs": [],
   "source": [
    "# 2.\n"
   ]
  },
  {
   "cell_type": "code",
   "execution_count": null,
   "metadata": {},
   "outputs": [],
   "source": [
    "# 3.\n"
   ]
  },
  {
   "cell_type": "markdown",
   "metadata": {},
   "source": [
    "A **tuple** is a collection which is ordered and unchangeable.\n",
    "\n",
    "It is initialized with round brackets ``my_tuple = (var1, var2, var3, ...)``"
   ]
  },
  {
   "cell_type": "code",
   "execution_count": null,
   "metadata": {},
   "outputs": [],
   "source": [
    "my_tuple = (1, \"test\", 3.)\n",
    "type(my_tuple)"
   ]
  },
  {
   "cell_type": "markdown",
   "metadata": {},
   "source": [
    "### <font color='red'>Exercise</font> \n",
    "1. Create a tuple in which one item is a subset of your list.\n",
    "2. Access an item in your tuple via its index.\n",
    "3. Can you add an item to your tuple?"
   ]
  },
  {
   "cell_type": "code",
   "execution_count": null,
   "metadata": {},
   "outputs": [],
   "source": [
    "# 1.\n"
   ]
  },
  {
   "cell_type": "code",
   "execution_count": null,
   "metadata": {},
   "outputs": [],
   "source": [
    "# 2.\n"
   ]
  },
  {
   "cell_type": "code",
   "execution_count": null,
   "metadata": {},
   "outputs": [],
   "source": [
    "# 3.\n"
   ]
  },
  {
   "cell_type": "markdown",
   "metadata": {},
   "source": [
    "A **set** is a collection which is unordered, unchangeable, and unindexed. It does not allow duplicate members. A set is initialized with curly brackets ``my_set = {item1, item2, item3, ...}`` "
   ]
  },
  {
   "cell_type": "code",
   "execution_count": null,
   "metadata": {},
   "outputs": [],
   "source": [
    "my_set = {\"water\", \"beer\", \"wine\"}\n",
    "type(my_set)"
   ]
  },
  {
   "cell_type": "markdown",
   "metadata": {},
   "source": [
    "### <font color='red'>Exercise</font> \n",
    "1. Create a set.\n",
    "2. Access an item in your set via its index.\n",
    "3. Can you add an item to your set?"
   ]
  },
  {
   "cell_type": "code",
   "execution_count": null,
   "metadata": {},
   "outputs": [],
   "source": [
    "# 1.\n"
   ]
  },
  {
   "cell_type": "code",
   "execution_count": null,
   "metadata": {},
   "outputs": [],
   "source": [
    "# 2.\n"
   ]
  },
  {
   "cell_type": "code",
   "execution_count": null,
   "metadata": {},
   "outputs": [],
   "source": [
    "# 3.\n"
   ]
  },
  {
   "cell_type": "markdown",
   "metadata": {},
   "source": [
    "## Dictionaries<a id='dictss'></a>"
   ]
  },
  {
   "cell_type": "markdown",
   "metadata": {},
   "source": [
    "A **dictionary** stores data in *key* and *value* pairs. It allows access of values via an unique key. It is a collection which is ordered, changeable and does not allow duplicates."
   ]
  },
  {
   "cell_type": "markdown",
   "metadata": {},
   "source": [
    "#### Creation\n",
    "\n",
    "There are several methods to initialise a dictionary; use whatever fits your needs best."
   ]
  },
  {
   "cell_type": "code",
   "execution_count": null,
   "metadata": {},
   "outputs": [],
   "source": [
    "a = {\"k\":1000, \"hello\":\"world\", 42:[\"hello\", \"world\"]}\n",
    "b = dict([(\"k\", 1000), (\"hello\",\"world\"), (42,[\"hello\", \"world\"])])\n",
    "c = dict({\"k\":1000, \"hello\":\"world\", 42:[\"hello\", \"world\"]})\n",
    "d = dict(zip([\"k\", \"hello\", 42], [1000, \"world\", [\"hello\", \"world\"]]))"
   ]
  },
  {
   "cell_type": "markdown",
   "metadata": {},
   "source": [
    "All four dictionaries are equal."
   ]
  },
  {
   "cell_type": "code",
   "execution_count": null,
   "metadata": {},
   "outputs": [],
   "source": [
    "a == b == c == d"
   ]
  },
  {
   "cell_type": "code",
   "execution_count": null,
   "metadata": {},
   "outputs": [],
   "source": [
    "a"
   ]
  },
  {
   "cell_type": "markdown",
   "metadata": {},
   "source": [
    "### Accessing elements\n",
    "Access a value of the dictionary via its key"
   ]
  },
  {
   "cell_type": "code",
   "execution_count": null,
   "metadata": {},
   "outputs": [],
   "source": [
    "a[\"k\"]"
   ]
  },
  {
   "cell_type": "code",
   "execution_count": null,
   "metadata": {},
   "outputs": [],
   "source": [
    "a[42]"
   ]
  },
  {
   "cell_type": "markdown",
   "metadata": {},
   "source": [
    "You can get a list of all keys or values"
   ]
  },
  {
   "cell_type": "code",
   "execution_count": null,
   "metadata": {},
   "outputs": [],
   "source": [
    "a.keys()"
   ]
  },
  {
   "cell_type": "code",
   "execution_count": null,
   "metadata": {},
   "outputs": [],
   "source": [
    "\n",
    "a.values()"
   ]
  },
  {
   "cell_type": "markdown",
   "metadata": {},
   "source": [
    "### Modify dictionary\n",
    "Dictionaries are by default mutable, therefore you can add new keys, overwrite existing ones or delete them."
   ]
  },
  {
   "cell_type": "code",
   "execution_count": null,
   "metadata": {},
   "outputs": [],
   "source": [
    "a[\"New key\"] = 23\n",
    "a[\"hello\"] = \"welt!\"\n",
    "a.pop(\"k\")"
   ]
  },
  {
   "cell_type": "code",
   "execution_count": null,
   "metadata": {},
   "outputs": [],
   "source": [
    "a"
   ]
  },
  {
   "cell_type": "markdown",
   "metadata": {},
   "source": [
    "Watch out, if a key does not exist. Use _get_ or _pop_ method to be safe (pop removes key)."
   ]
  },
  {
   "cell_type": "code",
   "execution_count": null,
   "metadata": {},
   "outputs": [],
   "source": [
    "a[\"key does not exist\"]"
   ]
  },
  {
   "cell_type": "code",
   "execution_count": null,
   "metadata": {},
   "outputs": [],
   "source": [
    "a.get(\"key does not exist\", \"Default\")"
   ]
  },
  {
   "cell_type": "code",
   "execution_count": null,
   "metadata": {},
   "outputs": [],
   "source": [
    "del a[\"key does not exist\"]"
   ]
  },
  {
   "cell_type": "code",
   "execution_count": null,
   "metadata": {},
   "outputs": [],
   "source": [
    "a.pop(\"key does not exist\", None)"
   ]
  },
  {
   "cell_type": "markdown",
   "metadata": {},
   "source": [
    "Dictionaries can also be nested"
   ]
  },
  {
   "cell_type": "code",
   "execution_count": null,
   "metadata": {},
   "outputs": [],
   "source": [
    "a[\"Nested\"] = {1: \"world!\", 2: \"Hello \"}\n",
    "print(a[\"Nested\"][2] + a[\"Nested\"][1])"
   ]
  },
  {
   "cell_type": "markdown",
   "metadata": {},
   "source": [
    "### <font color='red'>Exercise</font> \n",
    "1. Create a new dictionary with the key-value pairs 1: \"eins\", \"M\": \"Mega\", \"liste\": [1,2,3]\n",
    "2. Add a new entry, where either the key or value is a tuple\n",
    "3. Remove the key 1 from the dictionary\n",
    "4. Append number 4 to the list, which is associated with key \"liste\". Print the content of your dictionary afterwards"
   ]
  },
  {
   "cell_type": "code",
   "execution_count": null,
   "metadata": {},
   "outputs": [],
   "source": [
    "# 1.\n"
   ]
  },
  {
   "cell_type": "code",
   "execution_count": null,
   "metadata": {},
   "outputs": [],
   "source": [
    "# 2.\n"
   ]
  },
  {
   "cell_type": "code",
   "execution_count": null,
   "metadata": {},
   "outputs": [],
   "source": [
    "# 3.\n"
   ]
  },
  {
   "cell_type": "code",
   "execution_count": null,
   "metadata": {},
   "outputs": [],
   "source": [
    "# 4.\n"
   ]
  }
 ],
 "metadata": {
  "kernelspec": {
   "display_name": "Python 3 (based on the module python3/2022.01)",
   "language": "python",
   "name": "python3_2022_01"
  },
  "language_info": {
   "codemirror_mode": {
    "name": "ipython",
    "version": 3
   },
   "file_extension": ".py",
   "mimetype": "text/x-python",
   "name": "python",
   "nbconvert_exporter": "python",
   "pygments_lexer": "ipython3",
   "version": "3.9.9"
  }
 },
 "nbformat": 4,
 "nbformat_minor": 4
}
